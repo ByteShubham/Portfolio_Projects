{
 "cells": [
  {
   "cell_type": "code",
   "execution_count": 1,
   "id": "4a11414c",
   "metadata": {
    "execution": {
     "iopub.execute_input": "2023-06-06T18:02:45.510792Z",
     "iopub.status.busy": "2023-06-06T18:02:45.510319Z",
     "iopub.status.idle": "2023-06-06T18:02:45.579934Z",
     "shell.execute_reply": "2023-06-06T18:02:45.577892Z"
    },
    "papermill": {
     "duration": 0.108325,
     "end_time": "2023-06-06T18:02:45.583512",
     "exception": false,
     "start_time": "2023-06-06T18:02:45.475187",
     "status": "completed"
    },
    "tags": []
   },
   "outputs": [
    {
     "name": "stdout",
     "output_type": "stream",
     "text": [
      "/kaggle/input/titanic/train.csv\n",
      "/kaggle/input/titanic/test.csv\n",
      "/kaggle/input/titanic/gender_submission.csv\n"
     ]
    }
   ],
   "source": [
    "import numpy as np\n",
    "import pandas as pd \n",
    "import os\n",
    "for dirname, _, filenames in os.walk('/kaggle/input'):\n",
    "    for filename in filenames:\n",
    "        print(os.path.join(dirname, filename))\n",
    "\n",
    "path_test = \"/kaggle/input/titanic/test.csv\"\n",
    "path_train = \"/kaggle/input/titanic/train.csv\"\n",
    "\n",
    "df_test = pd.read_csv(path_test, index_col='PassengerId')\n",
    "df_train = pd.read_csv(path_train, index_col='PassengerId')"
   ]
  },
  {
   "cell_type": "code",
   "execution_count": 2,
   "id": "56960eb0",
   "metadata": {
    "execution": {
     "iopub.execute_input": "2023-06-06T18:02:45.652280Z",
     "iopub.status.busy": "2023-06-06T18:02:45.651673Z",
     "iopub.status.idle": "2023-06-06T18:02:45.684269Z",
     "shell.execute_reply": "2023-06-06T18:02:45.683221Z"
    },
    "papermill": {
     "duration": 0.068905,
     "end_time": "2023-06-06T18:02:45.687106",
     "exception": false,
     "start_time": "2023-06-06T18:02:45.618201",
     "status": "completed"
    },
    "tags": []
   },
   "outputs": [
    {
     "data": {
      "text/html": [
       "<div>\n",
       "<style scoped>\n",
       "    .dataframe tbody tr th:only-of-type {\n",
       "        vertical-align: middle;\n",
       "    }\n",
       "\n",
       "    .dataframe tbody tr th {\n",
       "        vertical-align: top;\n",
       "    }\n",
       "\n",
       "    .dataframe thead th {\n",
       "        text-align: right;\n",
       "    }\n",
       "</style>\n",
       "<table border=\"1\" class=\"dataframe\">\n",
       "  <thead>\n",
       "    <tr style=\"text-align: right;\">\n",
       "      <th></th>\n",
       "      <th>Survived</th>\n",
       "      <th>Pclass</th>\n",
       "      <th>Name</th>\n",
       "      <th>Sex</th>\n",
       "      <th>Age</th>\n",
       "      <th>SibSp</th>\n",
       "      <th>Parch</th>\n",
       "      <th>Ticket</th>\n",
       "      <th>Fare</th>\n",
       "      <th>Cabin</th>\n",
       "      <th>Embarked</th>\n",
       "    </tr>\n",
       "    <tr>\n",
       "      <th>PassengerId</th>\n",
       "      <th></th>\n",
       "      <th></th>\n",
       "      <th></th>\n",
       "      <th></th>\n",
       "      <th></th>\n",
       "      <th></th>\n",
       "      <th></th>\n",
       "      <th></th>\n",
       "      <th></th>\n",
       "      <th></th>\n",
       "      <th></th>\n",
       "    </tr>\n",
       "  </thead>\n",
       "  <tbody>\n",
       "    <tr>\n",
       "      <th>1</th>\n",
       "      <td>0</td>\n",
       "      <td>3</td>\n",
       "      <td>Braund, Mr. Owen Harris</td>\n",
       "      <td>male</td>\n",
       "      <td>22.0</td>\n",
       "      <td>1</td>\n",
       "      <td>0</td>\n",
       "      <td>A/5 21171</td>\n",
       "      <td>7.2500</td>\n",
       "      <td>NaN</td>\n",
       "      <td>S</td>\n",
       "    </tr>\n",
       "    <tr>\n",
       "      <th>2</th>\n",
       "      <td>1</td>\n",
       "      <td>1</td>\n",
       "      <td>Cumings, Mrs. John Bradley (Florence Briggs Th...</td>\n",
       "      <td>female</td>\n",
       "      <td>38.0</td>\n",
       "      <td>1</td>\n",
       "      <td>0</td>\n",
       "      <td>PC 17599</td>\n",
       "      <td>71.2833</td>\n",
       "      <td>C85</td>\n",
       "      <td>C</td>\n",
       "    </tr>\n",
       "    <tr>\n",
       "      <th>3</th>\n",
       "      <td>1</td>\n",
       "      <td>3</td>\n",
       "      <td>Heikkinen, Miss. Laina</td>\n",
       "      <td>female</td>\n",
       "      <td>26.0</td>\n",
       "      <td>0</td>\n",
       "      <td>0</td>\n",
       "      <td>STON/O2. 3101282</td>\n",
       "      <td>7.9250</td>\n",
       "      <td>NaN</td>\n",
       "      <td>S</td>\n",
       "    </tr>\n",
       "    <tr>\n",
       "      <th>4</th>\n",
       "      <td>1</td>\n",
       "      <td>1</td>\n",
       "      <td>Futrelle, Mrs. Jacques Heath (Lily May Peel)</td>\n",
       "      <td>female</td>\n",
       "      <td>35.0</td>\n",
       "      <td>1</td>\n",
       "      <td>0</td>\n",
       "      <td>113803</td>\n",
       "      <td>53.1000</td>\n",
       "      <td>C123</td>\n",
       "      <td>S</td>\n",
       "    </tr>\n",
       "    <tr>\n",
       "      <th>5</th>\n",
       "      <td>0</td>\n",
       "      <td>3</td>\n",
       "      <td>Allen, Mr. William Henry</td>\n",
       "      <td>male</td>\n",
       "      <td>35.0</td>\n",
       "      <td>0</td>\n",
       "      <td>0</td>\n",
       "      <td>373450</td>\n",
       "      <td>8.0500</td>\n",
       "      <td>NaN</td>\n",
       "      <td>S</td>\n",
       "    </tr>\n",
       "  </tbody>\n",
       "</table>\n",
       "</div>"
      ],
      "text/plain": [
       "             Survived  Pclass  \\\n",
       "PassengerId                     \n",
       "1                   0       3   \n",
       "2                   1       1   \n",
       "3                   1       3   \n",
       "4                   1       1   \n",
       "5                   0       3   \n",
       "\n",
       "                                                          Name     Sex   Age  \\\n",
       "PassengerId                                                                    \n",
       "1                                      Braund, Mr. Owen Harris    male  22.0   \n",
       "2            Cumings, Mrs. John Bradley (Florence Briggs Th...  female  38.0   \n",
       "3                                       Heikkinen, Miss. Laina  female  26.0   \n",
       "4                 Futrelle, Mrs. Jacques Heath (Lily May Peel)  female  35.0   \n",
       "5                                     Allen, Mr. William Henry    male  35.0   \n",
       "\n",
       "             SibSp  Parch            Ticket     Fare Cabin Embarked  \n",
       "PassengerId                                                          \n",
       "1                1      0         A/5 21171   7.2500   NaN        S  \n",
       "2                1      0          PC 17599  71.2833   C85        C  \n",
       "3                0      0  STON/O2. 3101282   7.9250   NaN        S  \n",
       "4                1      0            113803  53.1000  C123        S  \n",
       "5                0      0            373450   8.0500   NaN        S  "
      ]
     },
     "execution_count": 2,
     "metadata": {},
     "output_type": "execute_result"
    }
   ],
   "source": [
    "df_test.head()\n",
    "df_train.head()"
   ]
  },
  {
   "cell_type": "code",
   "execution_count": 3,
   "id": "fb3a0aa3",
   "metadata": {
    "execution": {
     "iopub.execute_input": "2023-06-06T18:02:45.757254Z",
     "iopub.status.busy": "2023-06-06T18:02:45.756255Z",
     "iopub.status.idle": "2023-06-06T18:02:45.783584Z",
     "shell.execute_reply": "2023-06-06T18:02:45.781732Z"
    },
    "papermill": {
     "duration": 0.066263,
     "end_time": "2023-06-06T18:02:45.787490",
     "exception": false,
     "start_time": "2023-06-06T18:02:45.721227",
     "status": "completed"
    },
    "tags": []
   },
   "outputs": [
    {
     "data": {
      "text/html": [
       "<div>\n",
       "<style scoped>\n",
       "    .dataframe tbody tr th:only-of-type {\n",
       "        vertical-align: middle;\n",
       "    }\n",
       "\n",
       "    .dataframe tbody tr th {\n",
       "        vertical-align: top;\n",
       "    }\n",
       "\n",
       "    .dataframe thead th {\n",
       "        text-align: right;\n",
       "    }\n",
       "</style>\n",
       "<table border=\"1\" class=\"dataframe\">\n",
       "  <thead>\n",
       "    <tr style=\"text-align: right;\">\n",
       "      <th></th>\n",
       "      <th>Pclass</th>\n",
       "      <th>Name</th>\n",
       "      <th>Sex</th>\n",
       "      <th>Age</th>\n",
       "      <th>SibSp</th>\n",
       "      <th>Parch</th>\n",
       "      <th>Ticket</th>\n",
       "      <th>Fare</th>\n",
       "      <th>Cabin</th>\n",
       "      <th>Embarked</th>\n",
       "      <th>Survived</th>\n",
       "    </tr>\n",
       "    <tr>\n",
       "      <th>PassengerId</th>\n",
       "      <th></th>\n",
       "      <th></th>\n",
       "      <th></th>\n",
       "      <th></th>\n",
       "      <th></th>\n",
       "      <th></th>\n",
       "      <th></th>\n",
       "      <th></th>\n",
       "      <th></th>\n",
       "      <th></th>\n",
       "      <th></th>\n",
       "    </tr>\n",
       "  </thead>\n",
       "  <tbody>\n",
       "    <tr>\n",
       "      <th>892</th>\n",
       "      <td>3</td>\n",
       "      <td>Kelly, Mr. James</td>\n",
       "      <td>male</td>\n",
       "      <td>34.5</td>\n",
       "      <td>0</td>\n",
       "      <td>0</td>\n",
       "      <td>330911</td>\n",
       "      <td>7.8292</td>\n",
       "      <td>NaN</td>\n",
       "      <td>Q</td>\n",
       "      <td>-888</td>\n",
       "    </tr>\n",
       "    <tr>\n",
       "      <th>893</th>\n",
       "      <td>3</td>\n",
       "      <td>Wilkes, Mrs. James (Ellen Needs)</td>\n",
       "      <td>female</td>\n",
       "      <td>47.0</td>\n",
       "      <td>1</td>\n",
       "      <td>0</td>\n",
       "      <td>363272</td>\n",
       "      <td>7.0000</td>\n",
       "      <td>NaN</td>\n",
       "      <td>S</td>\n",
       "      <td>-888</td>\n",
       "    </tr>\n",
       "    <tr>\n",
       "      <th>894</th>\n",
       "      <td>2</td>\n",
       "      <td>Myles, Mr. Thomas Francis</td>\n",
       "      <td>male</td>\n",
       "      <td>62.0</td>\n",
       "      <td>0</td>\n",
       "      <td>0</td>\n",
       "      <td>240276</td>\n",
       "      <td>9.6875</td>\n",
       "      <td>NaN</td>\n",
       "      <td>Q</td>\n",
       "      <td>-888</td>\n",
       "    </tr>\n",
       "    <tr>\n",
       "      <th>895</th>\n",
       "      <td>3</td>\n",
       "      <td>Wirz, Mr. Albert</td>\n",
       "      <td>male</td>\n",
       "      <td>27.0</td>\n",
       "      <td>0</td>\n",
       "      <td>0</td>\n",
       "      <td>315154</td>\n",
       "      <td>8.6625</td>\n",
       "      <td>NaN</td>\n",
       "      <td>S</td>\n",
       "      <td>-888</td>\n",
       "    </tr>\n",
       "    <tr>\n",
       "      <th>896</th>\n",
       "      <td>3</td>\n",
       "      <td>Hirvonen, Mrs. Alexander (Helga E Lindqvist)</td>\n",
       "      <td>female</td>\n",
       "      <td>22.0</td>\n",
       "      <td>1</td>\n",
       "      <td>1</td>\n",
       "      <td>3101298</td>\n",
       "      <td>12.2875</td>\n",
       "      <td>NaN</td>\n",
       "      <td>S</td>\n",
       "      <td>-888</td>\n",
       "    </tr>\n",
       "  </tbody>\n",
       "</table>\n",
       "</div>"
      ],
      "text/plain": [
       "             Pclass                                          Name     Sex  \\\n",
       "PassengerId                                                                 \n",
       "892               3                              Kelly, Mr. James    male   \n",
       "893               3              Wilkes, Mrs. James (Ellen Needs)  female   \n",
       "894               2                     Myles, Mr. Thomas Francis    male   \n",
       "895               3                              Wirz, Mr. Albert    male   \n",
       "896               3  Hirvonen, Mrs. Alexander (Helga E Lindqvist)  female   \n",
       "\n",
       "              Age  SibSp  Parch   Ticket     Fare Cabin Embarked  Survived  \n",
       "PassengerId                                                                 \n",
       "892          34.5      0      0   330911   7.8292   NaN        Q      -888  \n",
       "893          47.0      1      0   363272   7.0000   NaN        S      -888  \n",
       "894          62.0      0      0   240276   9.6875   NaN        Q      -888  \n",
       "895          27.0      0      0   315154   8.6625   NaN        S      -888  \n",
       "896          22.0      1      1  3101298  12.2875   NaN        S      -888  "
      ]
     },
     "execution_count": 3,
     "metadata": {},
     "output_type": "execute_result"
    }
   ],
   "source": [
    "df_test['Survived'] = -888\n",
    "df_test.head()"
   ]
  },
  {
   "cell_type": "code",
   "execution_count": 4,
   "id": "e4140935",
   "metadata": {
    "execution": {
     "iopub.execute_input": "2023-06-06T18:02:45.857550Z",
     "iopub.status.busy": "2023-06-06T18:02:45.857097Z",
     "iopub.status.idle": "2023-06-06T18:02:45.884211Z",
     "shell.execute_reply": "2023-06-06T18:02:45.882808Z"
    },
    "papermill": {
     "duration": 0.066412,
     "end_time": "2023-06-06T18:02:45.887140",
     "exception": false,
     "start_time": "2023-06-06T18:02:45.820728",
     "status": "completed"
    },
    "tags": []
   },
   "outputs": [
    {
     "data": {
      "text/html": [
       "<div>\n",
       "<style scoped>\n",
       "    .dataframe tbody tr th:only-of-type {\n",
       "        vertical-align: middle;\n",
       "    }\n",
       "\n",
       "    .dataframe tbody tr th {\n",
       "        vertical-align: top;\n",
       "    }\n",
       "\n",
       "    .dataframe thead th {\n",
       "        text-align: right;\n",
       "    }\n",
       "</style>\n",
       "<table border=\"1\" class=\"dataframe\">\n",
       "  <thead>\n",
       "    <tr style=\"text-align: right;\">\n",
       "      <th></th>\n",
       "      <th>Survived</th>\n",
       "      <th>Pclass</th>\n",
       "      <th>Name</th>\n",
       "      <th>Sex</th>\n",
       "      <th>Age</th>\n",
       "      <th>SibSp</th>\n",
       "      <th>Parch</th>\n",
       "      <th>Ticket</th>\n",
       "      <th>Fare</th>\n",
       "      <th>Cabin</th>\n",
       "      <th>Embarked</th>\n",
       "    </tr>\n",
       "    <tr>\n",
       "      <th>PassengerId</th>\n",
       "      <th></th>\n",
       "      <th></th>\n",
       "      <th></th>\n",
       "      <th></th>\n",
       "      <th></th>\n",
       "      <th></th>\n",
       "      <th></th>\n",
       "      <th></th>\n",
       "      <th></th>\n",
       "      <th></th>\n",
       "      <th></th>\n",
       "    </tr>\n",
       "  </thead>\n",
       "  <tbody>\n",
       "    <tr>\n",
       "      <th>1</th>\n",
       "      <td>0</td>\n",
       "      <td>3</td>\n",
       "      <td>Braund, Mr. Owen Harris</td>\n",
       "      <td>male</td>\n",
       "      <td>22.0</td>\n",
       "      <td>1</td>\n",
       "      <td>0</td>\n",
       "      <td>A/5 21171</td>\n",
       "      <td>7.2500</td>\n",
       "      <td>NaN</td>\n",
       "      <td>S</td>\n",
       "    </tr>\n",
       "    <tr>\n",
       "      <th>2</th>\n",
       "      <td>1</td>\n",
       "      <td>1</td>\n",
       "      <td>Cumings, Mrs. John Bradley (Florence Briggs Th...</td>\n",
       "      <td>female</td>\n",
       "      <td>38.0</td>\n",
       "      <td>1</td>\n",
       "      <td>0</td>\n",
       "      <td>PC 17599</td>\n",
       "      <td>71.2833</td>\n",
       "      <td>C85</td>\n",
       "      <td>C</td>\n",
       "    </tr>\n",
       "    <tr>\n",
       "      <th>3</th>\n",
       "      <td>1</td>\n",
       "      <td>3</td>\n",
       "      <td>Heikkinen, Miss. Laina</td>\n",
       "      <td>female</td>\n",
       "      <td>26.0</td>\n",
       "      <td>0</td>\n",
       "      <td>0</td>\n",
       "      <td>STON/O2. 3101282</td>\n",
       "      <td>7.9250</td>\n",
       "      <td>NaN</td>\n",
       "      <td>S</td>\n",
       "    </tr>\n",
       "    <tr>\n",
       "      <th>4</th>\n",
       "      <td>1</td>\n",
       "      <td>1</td>\n",
       "      <td>Futrelle, Mrs. Jacques Heath (Lily May Peel)</td>\n",
       "      <td>female</td>\n",
       "      <td>35.0</td>\n",
       "      <td>1</td>\n",
       "      <td>0</td>\n",
       "      <td>113803</td>\n",
       "      <td>53.1000</td>\n",
       "      <td>C123</td>\n",
       "      <td>S</td>\n",
       "    </tr>\n",
       "    <tr>\n",
       "      <th>5</th>\n",
       "      <td>0</td>\n",
       "      <td>3</td>\n",
       "      <td>Allen, Mr. William Henry</td>\n",
       "      <td>male</td>\n",
       "      <td>35.0</td>\n",
       "      <td>0</td>\n",
       "      <td>0</td>\n",
       "      <td>373450</td>\n",
       "      <td>8.0500</td>\n",
       "      <td>NaN</td>\n",
       "      <td>S</td>\n",
       "    </tr>\n",
       "  </tbody>\n",
       "</table>\n",
       "</div>"
      ],
      "text/plain": [
       "             Survived  Pclass  \\\n",
       "PassengerId                     \n",
       "1                   0       3   \n",
       "2                   1       1   \n",
       "3                   1       3   \n",
       "4                   1       1   \n",
       "5                   0       3   \n",
       "\n",
       "                                                          Name     Sex   Age  \\\n",
       "PassengerId                                                                    \n",
       "1                                      Braund, Mr. Owen Harris    male  22.0   \n",
       "2            Cumings, Mrs. John Bradley (Florence Briggs Th...  female  38.0   \n",
       "3                                       Heikkinen, Miss. Laina  female  26.0   \n",
       "4                 Futrelle, Mrs. Jacques Heath (Lily May Peel)  female  35.0   \n",
       "5                                     Allen, Mr. William Henry    male  35.0   \n",
       "\n",
       "             SibSp  Parch            Ticket     Fare Cabin Embarked  \n",
       "PassengerId                                                          \n",
       "1                1      0         A/5 21171   7.2500   NaN        S  \n",
       "2                1      0          PC 17599  71.2833   C85        C  \n",
       "3                0      0  STON/O2. 3101282   7.9250   NaN        S  \n",
       "4                1      0            113803  53.1000  C123        S  \n",
       "5                0      0            373450   8.0500   NaN        S  "
      ]
     },
     "execution_count": 4,
     "metadata": {},
     "output_type": "execute_result"
    }
   ],
   "source": [
    "df = pd.concat((df_train, df_test), axis=0)\n",
    "df.head()"
   ]
  },
  {
   "cell_type": "code",
   "execution_count": 5,
   "id": "2dbe0b5d",
   "metadata": {
    "execution": {
     "iopub.execute_input": "2023-06-06T18:02:45.956181Z",
     "iopub.status.busy": "2023-06-06T18:02:45.955411Z",
     "iopub.status.idle": "2023-06-06T18:02:45.966485Z",
     "shell.execute_reply": "2023-06-06T18:02:45.964447Z"
    },
    "papermill": {
     "duration": 0.049289,
     "end_time": "2023-06-06T18:02:45.969809",
     "exception": false,
     "start_time": "2023-06-06T18:02:45.920520",
     "status": "completed"
    },
    "tags": []
   },
   "outputs": [
    {
     "name": "stdout",
     "output_type": "stream",
     "text": [
      "Number of male passengers : 843\n"
     ]
    }
   ],
   "source": [
    "male_passengers = df.loc[df.Sex == 'male',:]\n",
    "print('Number of male passengers : {0}'.format(len(male_passengers)))"
   ]
  },
  {
   "cell_type": "code",
   "execution_count": 6,
   "id": "bfdeeb9b",
   "metadata": {
    "execution": {
     "iopub.execute_input": "2023-06-06T18:02:46.041490Z",
     "iopub.status.busy": "2023-06-06T18:02:46.041051Z",
     "iopub.status.idle": "2023-06-06T18:02:46.050720Z",
     "shell.execute_reply": "2023-06-06T18:02:46.048813Z"
    },
    "papermill": {
     "duration": 0.050098,
     "end_time": "2023-06-06T18:02:46.053739",
     "exception": false,
     "start_time": "2023-06-06T18:02:46.003641",
     "status": "completed"
    },
    "tags": []
   },
   "outputs": [
    {
     "name": "stdout",
     "output_type": "stream",
     "text": [
      "Number of male passengers in first class : 179\n"
     ]
    }
   ],
   "source": [
    "male_passengers_first_class = df.loc[((df.Sex == 'male') & (df.Pclass == 1)),:]\n",
    "print('Number of male passengers in first class : {0}'.format(len(male_passengers_first_class)))"
   ]
  },
  {
   "cell_type": "code",
   "execution_count": 7,
   "id": "1e9dbed9",
   "metadata": {
    "execution": {
     "iopub.execute_input": "2023-06-06T18:02:46.120853Z",
     "iopub.status.busy": "2023-06-06T18:02:46.119454Z",
     "iopub.status.idle": "2023-06-06T18:02:46.155968Z",
     "shell.execute_reply": "2023-06-06T18:02:46.154351Z"
    },
    "papermill": {
     "duration": 0.073324,
     "end_time": "2023-06-06T18:02:46.159245",
     "exception": false,
     "start_time": "2023-06-06T18:02:46.085921",
     "status": "completed"
    },
    "tags": []
   },
   "outputs": [
    {
     "data": {
      "text/html": [
       "<div>\n",
       "<style scoped>\n",
       "    .dataframe tbody tr th:only-of-type {\n",
       "        vertical-align: middle;\n",
       "    }\n",
       "\n",
       "    .dataframe tbody tr th {\n",
       "        vertical-align: top;\n",
       "    }\n",
       "\n",
       "    .dataframe thead th {\n",
       "        text-align: right;\n",
       "    }\n",
       "</style>\n",
       "<table border=\"1\" class=\"dataframe\">\n",
       "  <thead>\n",
       "    <tr style=\"text-align: right;\">\n",
       "      <th></th>\n",
       "      <th>Survived</th>\n",
       "      <th>Pclass</th>\n",
       "      <th>Age</th>\n",
       "      <th>SibSp</th>\n",
       "      <th>Parch</th>\n",
       "      <th>Fare</th>\n",
       "    </tr>\n",
       "  </thead>\n",
       "  <tbody>\n",
       "    <tr>\n",
       "      <th>count</th>\n",
       "      <td>1309.000000</td>\n",
       "      <td>1309.000000</td>\n",
       "      <td>1046.000000</td>\n",
       "      <td>1309.000000</td>\n",
       "      <td>1309.000000</td>\n",
       "      <td>1308.000000</td>\n",
       "    </tr>\n",
       "    <tr>\n",
       "      <th>mean</th>\n",
       "      <td>-283.301757</td>\n",
       "      <td>2.294882</td>\n",
       "      <td>29.881138</td>\n",
       "      <td>0.498854</td>\n",
       "      <td>0.385027</td>\n",
       "      <td>33.295479</td>\n",
       "    </tr>\n",
       "    <tr>\n",
       "      <th>std</th>\n",
       "      <td>414.337413</td>\n",
       "      <td>0.837836</td>\n",
       "      <td>14.413493</td>\n",
       "      <td>1.041658</td>\n",
       "      <td>0.865560</td>\n",
       "      <td>51.758668</td>\n",
       "    </tr>\n",
       "    <tr>\n",
       "      <th>min</th>\n",
       "      <td>-888.000000</td>\n",
       "      <td>1.000000</td>\n",
       "      <td>0.170000</td>\n",
       "      <td>0.000000</td>\n",
       "      <td>0.000000</td>\n",
       "      <td>0.000000</td>\n",
       "    </tr>\n",
       "    <tr>\n",
       "      <th>25%</th>\n",
       "      <td>-888.000000</td>\n",
       "      <td>2.000000</td>\n",
       "      <td>21.000000</td>\n",
       "      <td>0.000000</td>\n",
       "      <td>0.000000</td>\n",
       "      <td>7.895800</td>\n",
       "    </tr>\n",
       "    <tr>\n",
       "      <th>50%</th>\n",
       "      <td>0.000000</td>\n",
       "      <td>3.000000</td>\n",
       "      <td>28.000000</td>\n",
       "      <td>0.000000</td>\n",
       "      <td>0.000000</td>\n",
       "      <td>14.454200</td>\n",
       "    </tr>\n",
       "    <tr>\n",
       "      <th>75%</th>\n",
       "      <td>1.000000</td>\n",
       "      <td>3.000000</td>\n",
       "      <td>39.000000</td>\n",
       "      <td>1.000000</td>\n",
       "      <td>0.000000</td>\n",
       "      <td>31.275000</td>\n",
       "    </tr>\n",
       "    <tr>\n",
       "      <th>max</th>\n",
       "      <td>1.000000</td>\n",
       "      <td>3.000000</td>\n",
       "      <td>80.000000</td>\n",
       "      <td>8.000000</td>\n",
       "      <td>9.000000</td>\n",
       "      <td>512.329200</td>\n",
       "    </tr>\n",
       "  </tbody>\n",
       "</table>\n",
       "</div>"
      ],
      "text/plain": [
       "          Survived       Pclass          Age        SibSp        Parch  \\\n",
       "count  1309.000000  1309.000000  1046.000000  1309.000000  1309.000000   \n",
       "mean   -283.301757     2.294882    29.881138     0.498854     0.385027   \n",
       "std     414.337413     0.837836    14.413493     1.041658     0.865560   \n",
       "min    -888.000000     1.000000     0.170000     0.000000     0.000000   \n",
       "25%    -888.000000     2.000000    21.000000     0.000000     0.000000   \n",
       "50%       0.000000     3.000000    28.000000     0.000000     0.000000   \n",
       "75%       1.000000     3.000000    39.000000     1.000000     0.000000   \n",
       "max       1.000000     3.000000    80.000000     8.000000     9.000000   \n",
       "\n",
       "              Fare  \n",
       "count  1308.000000  \n",
       "mean     33.295479  \n",
       "std      51.758668  \n",
       "min       0.000000  \n",
       "25%       7.895800  \n",
       "50%      14.454200  \n",
       "75%      31.275000  \n",
       "max     512.329200  "
      ]
     },
     "execution_count": 7,
     "metadata": {},
     "output_type": "execute_result"
    }
   ],
   "source": [
    "df.describe()"
   ]
  },
  {
   "cell_type": "code",
   "execution_count": 8,
   "id": "7461560e",
   "metadata": {
    "execution": {
     "iopub.execute_input": "2023-06-06T18:02:46.227759Z",
     "iopub.status.busy": "2023-06-06T18:02:46.227336Z",
     "iopub.status.idle": "2023-06-06T18:02:46.248556Z",
     "shell.execute_reply": "2023-06-06T18:02:46.246806Z"
    },
    "papermill": {
     "duration": 0.059031,
     "end_time": "2023-06-06T18:02:46.251739",
     "exception": false,
     "start_time": "2023-06-06T18:02:46.192708",
     "status": "completed"
    },
    "tags": []
   },
   "outputs": [
    {
     "name": "stdout",
     "output_type": "stream",
     "text": [
      "<class 'pandas.core.frame.DataFrame'>\n",
      "Int64Index: 1309 entries, 1 to 1309\n",
      "Data columns (total 11 columns):\n",
      " #   Column    Non-Null Count  Dtype  \n",
      "---  ------    --------------  -----  \n",
      " 0   Survived  1309 non-null   int64  \n",
      " 1   Pclass    1309 non-null   int64  \n",
      " 2   Name      1309 non-null   object \n",
      " 3   Sex       1309 non-null   object \n",
      " 4   Age       1046 non-null   float64\n",
      " 5   SibSp     1309 non-null   int64  \n",
      " 6   Parch     1309 non-null   int64  \n",
      " 7   Ticket    1309 non-null   object \n",
      " 8   Fare      1308 non-null   float64\n",
      " 9   Cabin     295 non-null    object \n",
      " 10  Embarked  1307 non-null   object \n",
      "dtypes: float64(2), int64(4), object(5)\n",
      "memory usage: 122.7+ KB\n"
     ]
    }
   ],
   "source": [
    "df.info()"
   ]
  },
  {
   "cell_type": "code",
   "execution_count": 9,
   "id": "135868f5",
   "metadata": {
    "execution": {
     "iopub.execute_input": "2023-06-06T18:02:46.318743Z",
     "iopub.status.busy": "2023-06-06T18:02:46.318307Z",
     "iopub.status.idle": "2023-06-06T18:02:46.328994Z",
     "shell.execute_reply": "2023-06-06T18:02:46.327469Z"
    },
    "papermill": {
     "duration": 0.047981,
     "end_time": "2023-06-06T18:02:46.332071",
     "exception": false,
     "start_time": "2023-06-06T18:02:46.284090",
     "status": "completed"
    },
    "tags": []
   },
   "outputs": [
    {
     "data": {
      "text/plain": [
       "S    914\n",
       "C    270\n",
       "Q    123\n",
       "Name: Embarked, dtype: int64"
      ]
     },
     "execution_count": 9,
     "metadata": {},
     "output_type": "execute_result"
    }
   ],
   "source": [
    "df.Embarked.value_counts()"
   ]
  },
  {
   "cell_type": "code",
   "execution_count": 10,
   "id": "265dfce6",
   "metadata": {
    "execution": {
     "iopub.execute_input": "2023-06-06T18:02:46.399782Z",
     "iopub.status.busy": "2023-06-06T18:02:46.399313Z",
     "iopub.status.idle": "2023-06-06T18:02:46.433498Z",
     "shell.execute_reply": "2023-06-06T18:02:46.431985Z"
    },
    "papermill": {
     "duration": 0.071366,
     "end_time": "2023-06-06T18:02:46.436277",
     "exception": false,
     "start_time": "2023-06-06T18:02:46.364911",
     "status": "completed"
    },
    "tags": []
   },
   "outputs": [
    {
     "data": {
      "text/html": [
       "<div>\n",
       "<style scoped>\n",
       "    .dataframe tbody tr th:only-of-type {\n",
       "        vertical-align: middle;\n",
       "    }\n",
       "\n",
       "    .dataframe tbody tr th {\n",
       "        vertical-align: top;\n",
       "    }\n",
       "\n",
       "    .dataframe thead th {\n",
       "        text-align: right;\n",
       "    }\n",
       "</style>\n",
       "<table border=\"1\" class=\"dataframe\">\n",
       "  <thead>\n",
       "    <tr style=\"text-align: right;\">\n",
       "      <th>Embarked</th>\n",
       "      <th>C</th>\n",
       "      <th>Q</th>\n",
       "      <th>S</th>\n",
       "    </tr>\n",
       "    <tr>\n",
       "      <th>Survived</th>\n",
       "      <th></th>\n",
       "      <th></th>\n",
       "      <th></th>\n",
       "    </tr>\n",
       "  </thead>\n",
       "  <tbody>\n",
       "    <tr>\n",
       "      <th>0</th>\n",
       "      <td>75</td>\n",
       "      <td>47</td>\n",
       "      <td>427</td>\n",
       "    </tr>\n",
       "    <tr>\n",
       "      <th>1</th>\n",
       "      <td>93</td>\n",
       "      <td>30</td>\n",
       "      <td>217</td>\n",
       "    </tr>\n",
       "  </tbody>\n",
       "</table>\n",
       "</div>"
      ],
      "text/plain": [
       "Embarked   C   Q    S\n",
       "Survived             \n",
       "0         75  47  427\n",
       "1         93  30  217"
      ]
     },
     "execution_count": 10,
     "metadata": {},
     "output_type": "execute_result"
    }
   ],
   "source": [
    "pd.crosstab(df[df.Survived!=-888].Survived, df[df.Survived!=-888].Embarked)"
   ]
  },
  {
   "cell_type": "code",
   "execution_count": 11,
   "id": "a8e27c9d",
   "metadata": {
    "execution": {
     "iopub.execute_input": "2023-06-06T18:02:46.503885Z",
     "iopub.status.busy": "2023-06-06T18:02:46.503416Z",
     "iopub.status.idle": "2023-06-06T18:02:46.519757Z",
     "shell.execute_reply": "2023-06-06T18:02:46.518606Z"
    },
    "papermill": {
     "duration": 0.053334,
     "end_time": "2023-06-06T18:02:46.522634",
     "exception": false,
     "start_time": "2023-06-06T18:02:46.469300",
     "status": "completed"
    },
    "tags": []
   },
   "outputs": [
    {
     "data": {
      "text/plain": [
       "Pclass  Embarked\n",
       "1       C           76.7292\n",
       "        Q           90.0000\n",
       "        S           52.0000\n",
       "2       C           15.3146\n",
       "        Q           12.3500\n",
       "        S           15.3750\n",
       "3       C            7.8958\n",
       "        Q            7.7500\n",
       "        S            8.0500\n",
       "Name: Fare, dtype: float64"
      ]
     },
     "execution_count": 11,
     "metadata": {},
     "output_type": "execute_result"
    }
   ],
   "source": [
    "df.groupby(['Pclass','Embarked']).Fare.median()"
   ]
  },
  {
   "cell_type": "code",
   "execution_count": 12,
   "id": "e25e4622",
   "metadata": {
    "execution": {
     "iopub.execute_input": "2023-06-06T18:02:46.592315Z",
     "iopub.status.busy": "2023-06-06T18:02:46.591809Z",
     "iopub.status.idle": "2023-06-06T18:02:46.598699Z",
     "shell.execute_reply": "2023-06-06T18:02:46.597648Z"
    },
    "papermill": {
     "duration": 0.044797,
     "end_time": "2023-06-06T18:02:46.601328",
     "exception": false,
     "start_time": "2023-06-06T18:02:46.556531",
     "status": "completed"
    },
    "tags": []
   },
   "outputs": [],
   "source": [
    "df.Embarked.fillna('C', inplace = True)"
   ]
  },
  {
   "cell_type": "code",
   "execution_count": 13,
   "id": "a3db7317",
   "metadata": {
    "execution": {
     "iopub.execute_input": "2023-06-06T18:02:46.668862Z",
     "iopub.status.busy": "2023-06-06T18:02:46.668421Z",
     "iopub.status.idle": "2023-06-06T18:02:46.684643Z",
     "shell.execute_reply": "2023-06-06T18:02:46.682754Z"
    },
    "papermill": {
     "duration": 0.053583,
     "end_time": "2023-06-06T18:02:46.687513",
     "exception": false,
     "start_time": "2023-06-06T18:02:46.633930",
     "status": "completed"
    },
    "tags": []
   },
   "outputs": [
    {
     "name": "stdout",
     "output_type": "stream",
     "text": [
      "<class 'pandas.core.frame.DataFrame'>\n",
      "Int64Index: 1309 entries, 1 to 1309\n",
      "Data columns (total 11 columns):\n",
      " #   Column    Non-Null Count  Dtype  \n",
      "---  ------    --------------  -----  \n",
      " 0   Survived  1309 non-null   int64  \n",
      " 1   Pclass    1309 non-null   int64  \n",
      " 2   Name      1309 non-null   object \n",
      " 3   Sex       1309 non-null   object \n",
      " 4   Age       1046 non-null   float64\n",
      " 5   SibSp     1309 non-null   int64  \n",
      " 6   Parch     1309 non-null   int64  \n",
      " 7   Ticket    1309 non-null   object \n",
      " 8   Fare      1308 non-null   float64\n",
      " 9   Cabin     295 non-null    object \n",
      " 10  Embarked  1309 non-null   object \n",
      "dtypes: float64(2), int64(4), object(5)\n",
      "memory usage: 122.7+ KB\n"
     ]
    }
   ],
   "source": [
    "df.info()"
   ]
  },
  {
   "cell_type": "code",
   "execution_count": 14,
   "id": "2683694a",
   "metadata": {
    "execution": {
     "iopub.execute_input": "2023-06-06T18:02:46.756614Z",
     "iopub.status.busy": "2023-06-06T18:02:46.756192Z",
     "iopub.status.idle": "2023-06-06T18:02:46.779843Z",
     "shell.execute_reply": "2023-06-06T18:02:46.778024Z"
    },
    "papermill": {
     "duration": 0.063008,
     "end_time": "2023-06-06T18:02:46.784188",
     "exception": false,
     "start_time": "2023-06-06T18:02:46.721180",
     "status": "completed"
    },
    "tags": []
   },
   "outputs": [
    {
     "data": {
      "text/html": [
       "<div>\n",
       "<style scoped>\n",
       "    .dataframe tbody tr th:only-of-type {\n",
       "        vertical-align: middle;\n",
       "    }\n",
       "\n",
       "    .dataframe tbody tr th {\n",
       "        vertical-align: top;\n",
       "    }\n",
       "\n",
       "    .dataframe thead th {\n",
       "        text-align: right;\n",
       "    }\n",
       "</style>\n",
       "<table border=\"1\" class=\"dataframe\">\n",
       "  <thead>\n",
       "    <tr style=\"text-align: right;\">\n",
       "      <th></th>\n",
       "      <th>Survived</th>\n",
       "      <th>Pclass</th>\n",
       "      <th>Name</th>\n",
       "      <th>Sex</th>\n",
       "      <th>Age</th>\n",
       "      <th>SibSp</th>\n",
       "      <th>Parch</th>\n",
       "      <th>Ticket</th>\n",
       "      <th>Fare</th>\n",
       "      <th>Cabin</th>\n",
       "      <th>Embarked</th>\n",
       "    </tr>\n",
       "    <tr>\n",
       "      <th>PassengerId</th>\n",
       "      <th></th>\n",
       "      <th></th>\n",
       "      <th></th>\n",
       "      <th></th>\n",
       "      <th></th>\n",
       "      <th></th>\n",
       "      <th></th>\n",
       "      <th></th>\n",
       "      <th></th>\n",
       "      <th></th>\n",
       "      <th></th>\n",
       "    </tr>\n",
       "  </thead>\n",
       "  <tbody>\n",
       "    <tr>\n",
       "      <th>1044</th>\n",
       "      <td>-888</td>\n",
       "      <td>3</td>\n",
       "      <td>Storey, Mr. Thomas</td>\n",
       "      <td>male</td>\n",
       "      <td>60.5</td>\n",
       "      <td>0</td>\n",
       "      <td>0</td>\n",
       "      <td>3701</td>\n",
       "      <td>NaN</td>\n",
       "      <td>NaN</td>\n",
       "      <td>S</td>\n",
       "    </tr>\n",
       "  </tbody>\n",
       "</table>\n",
       "</div>"
      ],
      "text/plain": [
       "             Survived  Pclass                Name   Sex   Age  SibSp  Parch  \\\n",
       "PassengerId                                                                   \n",
       "1044             -888       3  Storey, Mr. Thomas  male  60.5      0      0   \n",
       "\n",
       "            Ticket  Fare Cabin Embarked  \n",
       "PassengerId                              \n",
       "1044          3701   NaN   NaN        S  "
      ]
     },
     "execution_count": 14,
     "metadata": {},
     "output_type": "execute_result"
    }
   ],
   "source": [
    "df[df.Fare.isnull()]"
   ]
  },
  {
   "cell_type": "code",
   "execution_count": 15,
   "id": "3cdf4889",
   "metadata": {
    "execution": {
     "iopub.execute_input": "2023-06-06T18:02:46.878628Z",
     "iopub.status.busy": "2023-06-06T18:02:46.878217Z",
     "iopub.status.idle": "2023-06-06T18:02:46.888396Z",
     "shell.execute_reply": "2023-06-06T18:02:46.886773Z"
    },
    "papermill": {
     "duration": 0.061549,
     "end_time": "2023-06-06T18:02:46.891371",
     "exception": false,
     "start_time": "2023-06-06T18:02:46.829822",
     "status": "completed"
    },
    "tags": []
   },
   "outputs": [
    {
     "name": "stdout",
     "output_type": "stream",
     "text": [
      "8.05\n"
     ]
    }
   ],
   "source": [
    "median_Fare = df.loc[(df.Pclass==3) & (df.Embarked=='S'), 'Fare'].median()\n",
    "print(median_Fare)"
   ]
  },
  {
   "cell_type": "code",
   "execution_count": 16,
   "id": "ad15f2fe",
   "metadata": {
    "execution": {
     "iopub.execute_input": "2023-06-06T18:02:46.964329Z",
     "iopub.status.busy": "2023-06-06T18:02:46.963500Z",
     "iopub.status.idle": "2023-06-06T18:02:46.972291Z",
     "shell.execute_reply": "2023-06-06T18:02:46.970347Z"
    },
    "papermill": {
     "duration": 0.050257,
     "end_time": "2023-06-06T18:02:46.975608",
     "exception": false,
     "start_time": "2023-06-06T18:02:46.925351",
     "status": "completed"
    },
    "tags": []
   },
   "outputs": [],
   "source": [
    "df.Fare.fillna(median_Fare, inplace=True)"
   ]
  },
  {
   "cell_type": "code",
   "execution_count": 17,
   "id": "cedc3475",
   "metadata": {
    "execution": {
     "iopub.execute_input": "2023-06-06T18:02:47.050854Z",
     "iopub.status.busy": "2023-06-06T18:02:47.050427Z",
     "iopub.status.idle": "2023-06-06T18:02:47.067864Z",
     "shell.execute_reply": "2023-06-06T18:02:47.066096Z"
    },
    "papermill": {
     "duration": 0.058856,
     "end_time": "2023-06-06T18:02:47.071408",
     "exception": false,
     "start_time": "2023-06-06T18:02:47.012552",
     "status": "completed"
    },
    "tags": []
   },
   "outputs": [
    {
     "name": "stdout",
     "output_type": "stream",
     "text": [
      "<class 'pandas.core.frame.DataFrame'>\n",
      "Int64Index: 1309 entries, 1 to 1309\n",
      "Data columns (total 11 columns):\n",
      " #   Column    Non-Null Count  Dtype  \n",
      "---  ------    --------------  -----  \n",
      " 0   Survived  1309 non-null   int64  \n",
      " 1   Pclass    1309 non-null   int64  \n",
      " 2   Name      1309 non-null   object \n",
      " 3   Sex       1309 non-null   object \n",
      " 4   Age       1046 non-null   float64\n",
      " 5   SibSp     1309 non-null   int64  \n",
      " 6   Parch     1309 non-null   int64  \n",
      " 7   Ticket    1309 non-null   object \n",
      " 8   Fare      1309 non-null   float64\n",
      " 9   Cabin     295 non-null    object \n",
      " 10  Embarked  1309 non-null   object \n",
      "dtypes: float64(2), int64(4), object(5)\n",
      "memory usage: 122.7+ KB\n"
     ]
    }
   ],
   "source": [
    "df.info()"
   ]
  },
  {
   "cell_type": "code",
   "execution_count": 18,
   "id": "00d7b4d5",
   "metadata": {
    "execution": {
     "iopub.execute_input": "2023-06-06T18:02:47.142671Z",
     "iopub.status.busy": "2023-06-06T18:02:47.141208Z",
     "iopub.status.idle": "2023-06-06T18:02:47.540304Z",
     "shell.execute_reply": "2023-06-06T18:02:47.538442Z"
    },
    "papermill": {
     "duration": 0.438365,
     "end_time": "2023-06-06T18:02:47.544574",
     "exception": false,
     "start_time": "2023-06-06T18:02:47.106209",
     "status": "completed"
    },
    "tags": []
   },
   "outputs": [
    {
     "data": {
      "text/plain": [
       "<AxesSubplot:title={'center':'Age'}, xlabel='Pclass'>"
      ]
     },
     "execution_count": 18,
     "metadata": {},
     "output_type": "execute_result"
    },
    {
     "data": {
      "image/png": "[encoded data removed]",
      "text/plain": [
       "<Figure size 640x480 with 1 Axes>"
      ]
     },
     "metadata": {},
     "output_type": "display_data"
    }
   ],
   "source": [
    "df[df.Age.notnull()].boxplot('Age','Pclass')"
   ]
  },
  {
   "cell_type": "code",
   "execution_count": 19,
   "id": "92c3c72a",
   "metadata": {
    "execution": {
     "iopub.execute_input": "2023-06-06T18:02:47.617188Z",
     "iopub.status.busy": "2023-06-06T18:02:47.616654Z",
     "iopub.status.idle": "2023-06-06T18:02:47.626980Z",
     "shell.execute_reply": "2023-06-06T18:02:47.625633Z"
    },
    "papermill": {
     "duration": 0.049906,
     "end_time": "2023-06-06T18:02:47.630107",
     "exception": false,
     "start_time": "2023-06-06T18:02:47.580201",
     "status": "completed"
    },
    "tags": []
   },
   "outputs": [
    {
     "data": {
      "text/plain": [
       "PassengerId\n",
       "1                                 Braund, Mr. Owen Harris\n",
       "2       Cumings, Mrs. John Bradley (Florence Briggs Th...\n",
       "3                                  Heikkinen, Miss. Laina\n",
       "4            Futrelle, Mrs. Jacques Heath (Lily May Peel)\n",
       "5                                Allen, Mr. William Henry\n",
       "                              ...                        \n",
       "1305                                   Spector, Mr. Woolf\n",
       "1306                         Oliva y Ocana, Dona. Fermina\n",
       "1307                         Saether, Mr. Simon Sivertsen\n",
       "1308                                  Ware, Mr. Frederick\n",
       "1309                             Peter, Master. Michael J\n",
       "Name: Name, Length: 1309, dtype: object"
      ]
     },
     "execution_count": 19,
     "metadata": {},
     "output_type": "execute_result"
    }
   ],
   "source": [
    "df.Name"
   ]
  },
  {
   "cell_type": "code",
   "execution_count": 20,
   "id": "a5145d5b",
   "metadata": {
    "execution": {
     "iopub.execute_input": "2023-06-06T18:02:47.704869Z",
     "iopub.status.busy": "2023-06-06T18:02:47.704412Z",
     "iopub.status.idle": "2023-06-06T18:02:47.711892Z",
     "shell.execute_reply": "2023-06-06T18:02:47.710511Z"
    },
    "papermill": {
     "duration": 0.049448,
     "end_time": "2023-06-06T18:02:47.714862",
     "exception": false,
     "start_time": "2023-06-06T18:02:47.665414",
     "status": "completed"
    },
    "tags": []
   },
   "outputs": [],
   "source": [
    "# function to extract the title from the name\n",
    "def GetTitle(name):\n",
    "    first_name_with_title = name.split(',')[1]\n",
    "    title = first_name_with_title.split('.')[0]\n",
    "    title = title.strip().lower()\n",
    "    return title"
   ]
  },
  {
   "cell_type": "code",
   "execution_count": 21,
   "id": "ef3cf16e",
   "metadata": {
    "execution": {
     "iopub.execute_input": "2023-06-06T18:02:47.788081Z",
     "iopub.status.busy": "2023-06-06T18:02:47.787599Z",
     "iopub.status.idle": "2023-06-06T18:02:47.800974Z",
     "shell.execute_reply": "2023-06-06T18:02:47.799621Z"
    },
    "papermill": {
     "duration": 0.05352,
     "end_time": "2023-06-06T18:02:47.803841",
     "exception": false,
     "start_time": "2023-06-06T18:02:47.750321",
     "status": "completed"
    },
    "tags": []
   },
   "outputs": [
    {
     "data": {
      "text/plain": [
       "PassengerId\n",
       "1           mr\n",
       "2          mrs\n",
       "3         miss\n",
       "4          mrs\n",
       "5           mr\n",
       "         ...  \n",
       "1305        mr\n",
       "1306      dona\n",
       "1307        mr\n",
       "1308        mr\n",
       "1309    master\n",
       "Name: Name, Length: 1309, dtype: object"
      ]
     },
     "execution_count": 21,
     "metadata": {},
     "output_type": "execute_result"
    }
   ],
   "source": [
    "df.Name.map(lambda x : GetTitle(x))"
   ]
  },
  {
   "cell_type": "code",
   "execution_count": 22,
   "id": "f3c8145f",
   "metadata": {
    "execution": {
     "iopub.execute_input": "2023-06-06T18:02:47.878318Z",
     "iopub.status.busy": "2023-06-06T18:02:47.877808Z",
     "iopub.status.idle": "2023-06-06T18:02:47.889009Z",
     "shell.execute_reply": "2023-06-06T18:02:47.887986Z"
    },
    "papermill": {
     "duration": 0.052457,
     "end_time": "2023-06-06T18:02:47.891480",
     "exception": false,
     "start_time": "2023-06-06T18:02:47.839023",
     "status": "completed"
    },
    "tags": []
   },
   "outputs": [
    {
     "data": {
      "text/plain": [
       "array(['mr', 'mrs', 'miss', 'master', 'don', 'rev', 'dr', 'mme', 'ms',\n",
       "       'major', 'lady', 'sir', 'mlle', 'col', 'capt', 'the countess',\n",
       "       'jonkheer', 'dona'], dtype=object)"
      ]
     },
     "execution_count": 22,
     "metadata": {},
     "output_type": "execute_result"
    }
   ],
   "source": [
    "df.Name.map(lambda x : GetTitle(x)).unique()"
   ]
  },
  {
   "cell_type": "code",
   "execution_count": 23,
   "id": "d1a77755",
   "metadata": {
    "execution": {
     "iopub.execute_input": "2023-06-06T18:02:47.964624Z",
     "iopub.status.busy": "2023-06-06T18:02:47.963284Z",
     "iopub.status.idle": "2023-06-06T18:02:47.973437Z",
     "shell.execute_reply": "2023-06-06T18:02:47.972063Z"
    },
    "papermill": {
     "duration": 0.049806,
     "end_time": "2023-06-06T18:02:47.976488",
     "exception": false,
     "start_time": "2023-06-06T18:02:47.926682",
     "status": "completed"
    },
    "tags": []
   },
   "outputs": [],
   "source": [
    "def GetTitle(name):\n",
    "    title_group = {'mr' : 'Mr',\n",
    "                  'mrs' : 'Mrs',\n",
    "                  'miss' : 'Miss', \n",
    "                  'master' : 'Master',\n",
    "                  'don' : 'Sir',\n",
    "                  'rev' : 'Sir', \n",
    "                  'dr' : 'Officer',\n",
    "                  'mme' : 'Mrs',\n",
    "                  'ms' : 'Mrs',\n",
    "                  'major' : 'Officer', \n",
    "                  'lady' : 'Lady', \n",
    "                  'sir' : 'Sir',\n",
    "                  'mlle' : 'Miss',\n",
    "                  'col' : 'Officer',\n",
    "                  'capt' : 'Officer',\n",
    "                  'the countess' : 'Lady',\n",
    "                  'jonkheer' : 'Sir',\n",
    "                  'dona' : 'Lady'\n",
    "                  }\n",
    "    first_name_with_title = name.split(',')[1]\n",
    "    title = first_name_with_title.split('.')[0]\n",
    "    title = title.strip().lower()\n",
    "    return title_group[title]"
   ]
  },
  {
   "cell_type": "code",
   "execution_count": 24,
   "id": "5cca8c1a",
   "metadata": {
    "execution": {
     "iopub.execute_input": "2023-06-06T18:02:48.048087Z",
     "iopub.status.busy": "2023-06-06T18:02:48.047598Z",
     "iopub.status.idle": "2023-06-06T18:02:48.076693Z",
     "shell.execute_reply": "2023-06-06T18:02:48.074674Z"
    },
    "papermill": {
     "duration": 0.068856,
     "end_time": "2023-06-06T18:02:48.080042",
     "exception": false,
     "start_time": "2023-06-06T18:02:48.011186",
     "status": "completed"
    },
    "tags": []
   },
   "outputs": [
    {
     "data": {
      "text/html": [
       "<div>\n",
       "<style scoped>\n",
       "    .dataframe tbody tr th:only-of-type {\n",
       "        vertical-align: middle;\n",
       "    }\n",
       "\n",
       "    .dataframe tbody tr th {\n",
       "        vertical-align: top;\n",
       "    }\n",
       "\n",
       "    .dataframe thead th {\n",
       "        text-align: right;\n",
       "    }\n",
       "</style>\n",
       "<table border=\"1\" class=\"dataframe\">\n",
       "  <thead>\n",
       "    <tr style=\"text-align: right;\">\n",
       "      <th></th>\n",
       "      <th>Survived</th>\n",
       "      <th>Pclass</th>\n",
       "      <th>Name</th>\n",
       "      <th>Sex</th>\n",
       "      <th>Age</th>\n",
       "      <th>SibSp</th>\n",
       "      <th>Parch</th>\n",
       "      <th>Ticket</th>\n",
       "      <th>Fare</th>\n",
       "      <th>Cabin</th>\n",
       "      <th>Embarked</th>\n",
       "      <th>Title</th>\n",
       "    </tr>\n",
       "    <tr>\n",
       "      <th>PassengerId</th>\n",
       "      <th></th>\n",
       "      <th></th>\n",
       "      <th></th>\n",
       "      <th></th>\n",
       "      <th></th>\n",
       "      <th></th>\n",
       "      <th></th>\n",
       "      <th></th>\n",
       "      <th></th>\n",
       "      <th></th>\n",
       "      <th></th>\n",
       "      <th></th>\n",
       "    </tr>\n",
       "  </thead>\n",
       "  <tbody>\n",
       "    <tr>\n",
       "      <th>1</th>\n",
       "      <td>0</td>\n",
       "      <td>3</td>\n",
       "      <td>Braund, Mr. Owen Harris</td>\n",
       "      <td>male</td>\n",
       "      <td>22.0</td>\n",
       "      <td>1</td>\n",
       "      <td>0</td>\n",
       "      <td>A/5 21171</td>\n",
       "      <td>7.2500</td>\n",
       "      <td>NaN</td>\n",
       "      <td>S</td>\n",
       "      <td>Mr</td>\n",
       "    </tr>\n",
       "    <tr>\n",
       "      <th>2</th>\n",
       "      <td>1</td>\n",
       "      <td>1</td>\n",
       "      <td>Cumings, Mrs. John Bradley (Florence Briggs Th...</td>\n",
       "      <td>female</td>\n",
       "      <td>38.0</td>\n",
       "      <td>1</td>\n",
       "      <td>0</td>\n",
       "      <td>PC 17599</td>\n",
       "      <td>71.2833</td>\n",
       "      <td>C85</td>\n",
       "      <td>C</td>\n",
       "      <td>Mrs</td>\n",
       "    </tr>\n",
       "    <tr>\n",
       "      <th>3</th>\n",
       "      <td>1</td>\n",
       "      <td>3</td>\n",
       "      <td>Heikkinen, Miss. Laina</td>\n",
       "      <td>female</td>\n",
       "      <td>26.0</td>\n",
       "      <td>0</td>\n",
       "      <td>0</td>\n",
       "      <td>STON/O2. 3101282</td>\n",
       "      <td>7.9250</td>\n",
       "      <td>NaN</td>\n",
       "      <td>S</td>\n",
       "      <td>Miss</td>\n",
       "    </tr>\n",
       "    <tr>\n",
       "      <th>4</th>\n",
       "      <td>1</td>\n",
       "      <td>1</td>\n",
       "      <td>Futrelle, Mrs. Jacques Heath (Lily May Peel)</td>\n",
       "      <td>female</td>\n",
       "      <td>35.0</td>\n",
       "      <td>1</td>\n",
       "      <td>0</td>\n",
       "      <td>113803</td>\n",
       "      <td>53.1000</td>\n",
       "      <td>C123</td>\n",
       "      <td>S</td>\n",
       "      <td>Mrs</td>\n",
       "    </tr>\n",
       "    <tr>\n",
       "      <th>5</th>\n",
       "      <td>0</td>\n",
       "      <td>3</td>\n",
       "      <td>Allen, Mr. William Henry</td>\n",
       "      <td>male</td>\n",
       "      <td>35.0</td>\n",
       "      <td>0</td>\n",
       "      <td>0</td>\n",
       "      <td>373450</td>\n",
       "      <td>8.0500</td>\n",
       "      <td>NaN</td>\n",
       "      <td>S</td>\n",
       "      <td>Mr</td>\n",
       "    </tr>\n",
       "  </tbody>\n",
       "</table>\n",
       "</div>"
      ],
      "text/plain": [
       "             Survived  Pclass  \\\n",
       "PassengerId                     \n",
       "1                   0       3   \n",
       "2                   1       1   \n",
       "3                   1       3   \n",
       "4                   1       1   \n",
       "5                   0       3   \n",
       "\n",
       "                                                          Name     Sex   Age  \\\n",
       "PassengerId                                                                    \n",
       "1                                      Braund, Mr. Owen Harris    male  22.0   \n",
       "2            Cumings, Mrs. John Bradley (Florence Briggs Th...  female  38.0   \n",
       "3                                       Heikkinen, Miss. Laina  female  26.0   \n",
       "4                 Futrelle, Mrs. Jacques Heath (Lily May Peel)  female  35.0   \n",
       "5                                     Allen, Mr. William Henry    male  35.0   \n",
       "\n",
       "             SibSp  Parch            Ticket     Fare Cabin Embarked Title  \n",
       "PassengerId                                                                \n",
       "1                1      0         A/5 21171   7.2500   NaN        S    Mr  \n",
       "2                1      0          PC 17599  71.2833   C85        C   Mrs  \n",
       "3                0      0  STON/O2. 3101282   7.9250   NaN        S  Miss  \n",
       "4                1      0            113803  53.1000  C123        S   Mrs  \n",
       "5                0      0            373450   8.0500   NaN        S    Mr  "
      ]
     },
     "execution_count": 24,
     "metadata": {},
     "output_type": "execute_result"
    }
   ],
   "source": [
    "df['Title'] = df.Name.map(lambda x : GetTitle(x))\n",
    "df.head()"
   ]
  },
  {
   "cell_type": "code",
   "execution_count": 25,
   "id": "6c7c2ee0",
   "metadata": {
    "execution": {
     "iopub.execute_input": "2023-06-06T18:02:48.152023Z",
     "iopub.status.busy": "2023-06-06T18:02:48.151559Z",
     "iopub.status.idle": "2023-06-06T18:02:48.511698Z",
     "shell.execute_reply": "2023-06-06T18:02:48.510385Z"
    },
    "papermill": {
     "duration": 0.399631,
     "end_time": "2023-06-06T18:02:48.514774",
     "exception": false,
     "start_time": "2023-06-06T18:02:48.115143",
     "status": "completed"
    },
    "tags": []
   },
   "outputs": [
    {
     "data": {
      "text/plain": [
       "<AxesSubplot:title={'center':'Age'}, xlabel='Title'>"
      ]
     },
     "execution_count": 25,
     "metadata": {},
     "output_type": "execute_result"
    },
    {
     "data": {
      "image/png": "[encoded data removed]",
      "text/plain": [
       "<Figure size 640x480 with 1 Axes>"
      ]
     },
     "metadata": {},
     "output_type": "display_data"
    }
   ],
   "source": [
    "df[df.Age.notnull()].boxplot('Age','Title')"
   ]
  },
  {
   "cell_type": "code",
   "execution_count": 26,
   "id": "2aeee8b0",
   "metadata": {
    "execution": {
     "iopub.execute_input": "2023-06-06T18:02:48.589068Z",
     "iopub.status.busy": "2023-06-06T18:02:48.588567Z",
     "iopub.status.idle": "2023-06-06T18:02:48.607390Z",
     "shell.execute_reply": "2023-06-06T18:02:48.606048Z"
    },
    "papermill": {
     "duration": 0.059945,
     "end_time": "2023-06-06T18:02:48.610548",
     "exception": false,
     "start_time": "2023-06-06T18:02:48.550603",
     "status": "completed"
    },
    "tags": []
   },
   "outputs": [
    {
     "name": "stdout",
     "output_type": "stream",
     "text": [
      "<class 'pandas.core.frame.DataFrame'>\n",
      "Int64Index: 1309 entries, 1 to 1309\n",
      "Data columns (total 12 columns):\n",
      " #   Column    Non-Null Count  Dtype  \n",
      "---  ------    --------------  -----  \n",
      " 0   Survived  1309 non-null   int64  \n",
      " 1   Pclass    1309 non-null   int64  \n",
      " 2   Name      1309 non-null   object \n",
      " 3   Sex       1309 non-null   object \n",
      " 4   Age       1309 non-null   float64\n",
      " 5   SibSp     1309 non-null   int64  \n",
      " 6   Parch     1309 non-null   int64  \n",
      " 7   Ticket    1309 non-null   object \n",
      " 8   Fare      1309 non-null   float64\n",
      " 9   Cabin     295 non-null    object \n",
      " 10  Embarked  1309 non-null   object \n",
      " 11  Title     1309 non-null   object \n",
      "dtypes: float64(2), int64(4), object(6)\n",
      "memory usage: 132.9+ KB\n"
     ]
    }
   ],
   "source": [
    "title_age_median = df.groupby('Title').Age.transform('median')\n",
    "df.Age.fillna(title_age_median, inplace = True)\n",
    "df.info()"
   ]
  },
  {
   "cell_type": "code",
   "execution_count": 27,
   "id": "7cbd9c87",
   "metadata": {
    "execution": {
     "iopub.execute_input": "2023-06-06T18:02:48.684603Z",
     "iopub.status.busy": "2023-06-06T18:02:48.683378Z",
     "iopub.status.idle": "2023-06-06T18:02:49.017888Z",
     "shell.execute_reply": "2023-06-06T18:02:49.016899Z"
    },
    "papermill": {
     "duration": 0.374588,
     "end_time": "2023-06-06T18:02:49.020775",
     "exception": false,
     "start_time": "2023-06-06T18:02:48.646187",
     "status": "completed"
    },
    "tags": []
   },
   "outputs": [
    {
     "data": {
      "text/plain": [
       "<AxesSubplot:>"
      ]
     },
     "execution_count": 27,
     "metadata": {},
     "output_type": "execute_result"
    },
    {
     "data": {
      "image/png": "[encoded data removed]",
      "text/plain": [
       "<Figure size 640x480 with 1 Axes>"
      ]
     },
     "metadata": {},
     "output_type": "display_data"
    }
   ],
   "source": [
    "df.Fare.plot(kind='box')"
   ]
  },
  {
   "cell_type": "code",
   "execution_count": 28,
   "id": "0697a55f",
   "metadata": {
    "execution": {
     "iopub.execute_input": "2023-06-06T18:02:49.097390Z",
     "iopub.status.busy": "2023-06-06T18:02:49.096598Z",
     "iopub.status.idle": "2023-06-06T18:02:49.119444Z",
     "shell.execute_reply": "2023-06-06T18:02:49.118193Z"
    },
    "papermill": {
     "duration": 0.064461,
     "end_time": "2023-06-06T18:02:49.122329",
     "exception": false,
     "start_time": "2023-06-06T18:02:49.057868",
     "status": "completed"
    },
    "tags": []
   },
   "outputs": [
    {
     "data": {
      "text/html": [
       "<div>\n",
       "<style scoped>\n",
       "    .dataframe tbody tr th:only-of-type {\n",
       "        vertical-align: middle;\n",
       "    }\n",
       "\n",
       "    .dataframe tbody tr th {\n",
       "        vertical-align: top;\n",
       "    }\n",
       "\n",
       "    .dataframe thead th {\n",
       "        text-align: right;\n",
       "    }\n",
       "</style>\n",
       "<table border=\"1\" class=\"dataframe\">\n",
       "  <thead>\n",
       "    <tr style=\"text-align: right;\">\n",
       "      <th></th>\n",
       "      <th>Survived</th>\n",
       "      <th>Pclass</th>\n",
       "      <th>Name</th>\n",
       "      <th>Sex</th>\n",
       "      <th>Age</th>\n",
       "      <th>SibSp</th>\n",
       "      <th>Parch</th>\n",
       "      <th>Ticket</th>\n",
       "      <th>Fare</th>\n",
       "      <th>Cabin</th>\n",
       "      <th>Embarked</th>\n",
       "      <th>Title</th>\n",
       "    </tr>\n",
       "    <tr>\n",
       "      <th>PassengerId</th>\n",
       "      <th></th>\n",
       "      <th></th>\n",
       "      <th></th>\n",
       "      <th></th>\n",
       "      <th></th>\n",
       "      <th></th>\n",
       "      <th></th>\n",
       "      <th></th>\n",
       "      <th></th>\n",
       "      <th></th>\n",
       "      <th></th>\n",
       "      <th></th>\n",
       "    </tr>\n",
       "  </thead>\n",
       "  <tbody>\n",
       "    <tr>\n",
       "      <th>259</th>\n",
       "      <td>1</td>\n",
       "      <td>1</td>\n",
       "      <td>Ward, Miss. Anna</td>\n",
       "      <td>female</td>\n",
       "      <td>35.0</td>\n",
       "      <td>0</td>\n",
       "      <td>0</td>\n",
       "      <td>PC 17755</td>\n",
       "      <td>512.3292</td>\n",
       "      <td>NaN</td>\n",
       "      <td>C</td>\n",
       "      <td>Miss</td>\n",
       "    </tr>\n",
       "    <tr>\n",
       "      <th>680</th>\n",
       "      <td>1</td>\n",
       "      <td>1</td>\n",
       "      <td>Cardeza, Mr. Thomas Drake Martinez</td>\n",
       "      <td>male</td>\n",
       "      <td>36.0</td>\n",
       "      <td>0</td>\n",
       "      <td>1</td>\n",
       "      <td>PC 17755</td>\n",
       "      <td>512.3292</td>\n",
       "      <td>B51 B53 B55</td>\n",
       "      <td>C</td>\n",
       "      <td>Mr</td>\n",
       "    </tr>\n",
       "    <tr>\n",
       "      <th>738</th>\n",
       "      <td>1</td>\n",
       "      <td>1</td>\n",
       "      <td>Lesurer, Mr. Gustave J</td>\n",
       "      <td>male</td>\n",
       "      <td>35.0</td>\n",
       "      <td>0</td>\n",
       "      <td>0</td>\n",
       "      <td>PC 17755</td>\n",
       "      <td>512.3292</td>\n",
       "      <td>B101</td>\n",
       "      <td>C</td>\n",
       "      <td>Mr</td>\n",
       "    </tr>\n",
       "    <tr>\n",
       "      <th>1235</th>\n",
       "      <td>-888</td>\n",
       "      <td>1</td>\n",
       "      <td>Cardeza, Mrs. James Warburton Martinez (Charlo...</td>\n",
       "      <td>female</td>\n",
       "      <td>58.0</td>\n",
       "      <td>0</td>\n",
       "      <td>1</td>\n",
       "      <td>PC 17755</td>\n",
       "      <td>512.3292</td>\n",
       "      <td>B51 B53 B55</td>\n",
       "      <td>C</td>\n",
       "      <td>Mrs</td>\n",
       "    </tr>\n",
       "  </tbody>\n",
       "</table>\n",
       "</div>"
      ],
      "text/plain": [
       "             Survived  Pclass  \\\n",
       "PassengerId                     \n",
       "259                 1       1   \n",
       "680                 1       1   \n",
       "738                 1       1   \n",
       "1235             -888       1   \n",
       "\n",
       "                                                          Name     Sex   Age  \\\n",
       "PassengerId                                                                    \n",
       "259                                           Ward, Miss. Anna  female  35.0   \n",
       "680                         Cardeza, Mr. Thomas Drake Martinez    male  36.0   \n",
       "738                                     Lesurer, Mr. Gustave J    male  35.0   \n",
       "1235         Cardeza, Mrs. James Warburton Martinez (Charlo...  female  58.0   \n",
       "\n",
       "             SibSp  Parch    Ticket      Fare        Cabin Embarked Title  \n",
       "PassengerId                                                                \n",
       "259              0      0  PC 17755  512.3292          NaN        C  Miss  \n",
       "680              0      1  PC 17755  512.3292  B51 B53 B55        C    Mr  \n",
       "738              0      0  PC 17755  512.3292         B101        C    Mr  \n",
       "1235             0      1  PC 17755  512.3292  B51 B53 B55        C   Mrs  "
      ]
     },
     "execution_count": 28,
     "metadata": {},
     "output_type": "execute_result"
    }
   ],
   "source": [
    "df.loc[df.Fare == df.Fare.max()]"
   ]
  },
  {
   "cell_type": "code",
   "execution_count": 29,
   "id": "3ab5a2b9",
   "metadata": {
    "execution": {
     "iopub.execute_input": "2023-06-06T18:02:49.198094Z",
     "iopub.status.busy": "2023-06-06T18:02:49.197615Z",
     "iopub.status.idle": "2023-06-06T18:02:49.204299Z",
     "shell.execute_reply": "2023-06-06T18:02:49.202847Z"
    },
    "papermill": {
     "duration": 0.047894,
     "end_time": "2023-06-06T18:02:49.207126",
     "exception": false,
     "start_time": "2023-06-06T18:02:49.159232",
     "status": "completed"
    },
    "tags": []
   },
   "outputs": [],
   "source": [
    "# Using transformation to reduce skewness\n",
    "Logfare = np.log(df.Fare + 1.0)"
   ]
  },
  {
   "cell_type": "code",
   "execution_count": 30,
   "id": "c5eae93c",
   "metadata": {
    "execution": {
     "iopub.execute_input": "2023-06-06T18:02:49.283137Z",
     "iopub.status.busy": "2023-06-06T18:02:49.281784Z",
     "iopub.status.idle": "2023-06-06T18:02:49.566499Z",
     "shell.execute_reply": "2023-06-06T18:02:49.565099Z"
    },
    "papermill": {
     "duration": 0.326401,
     "end_time": "2023-06-06T18:02:49.570161",
     "exception": false,
     "start_time": "2023-06-06T18:02:49.243760",
     "status": "completed"
    },
    "tags": []
   },
   "outputs": [
    {
     "data": {
      "text/plain": [
       "<AxesSubplot:ylabel='Frequency'>"
      ]
     },
     "execution_count": 30,
     "metadata": {},
     "output_type": "execute_result"
    },
    {
     "data": {
      "image/png": "[encoded data removed]",
      "text/plain": [
       "<Figure size 640x480 with 1 Axes>"
      ]
     },
     "metadata": {},
     "output_type": "display_data"
    }
   ],
   "source": [
    "Logfare.plot(kind='hist', bins=20, color='c')"
   ]
  },
  {
   "cell_type": "code",
   "execution_count": 31,
   "id": "2b01f478",
   "metadata": {
    "execution": {
     "iopub.execute_input": "2023-06-06T18:02:49.649029Z",
     "iopub.status.busy": "2023-06-06T18:02:49.648125Z",
     "iopub.status.idle": "2023-06-06T18:02:49.664151Z",
     "shell.execute_reply": "2023-06-06T18:02:49.662727Z"
    },
    "papermill": {
     "duration": 0.059103,
     "end_time": "2023-06-06T18:02:49.667311",
     "exception": false,
     "start_time": "2023-06-06T18:02:49.608208",
     "status": "completed"
    },
    "tags": []
   },
   "outputs": [
    {
     "data": {
      "text/plain": [
       "PassengerId\n",
       "1        very_low\n",
       "2       very_high\n",
       "3             low\n",
       "4       very_high\n",
       "5             low\n",
       "          ...    \n",
       "1305          low\n",
       "1306    very_high\n",
       "1307     very_low\n",
       "1308          low\n",
       "1309         high\n",
       "Name: Fare, Length: 1309, dtype: category\n",
       "Categories (4, object): ['very_low' < 'low' < 'high' < 'very_high']"
      ]
     },
     "execution_count": 31,
     "metadata": {},
     "output_type": "execute_result"
    }
   ],
   "source": [
    "# Binning\n",
    "pd.qcut(df.Fare, 4, labels=['very_low','low','high','very_high'])"
   ]
  },
  {
   "cell_type": "code",
   "execution_count": 32,
   "id": "3e05b4f2",
   "metadata": {
    "execution": {
     "iopub.execute_input": "2023-06-06T18:02:49.745007Z",
     "iopub.status.busy": "2023-06-06T18:02:49.743680Z",
     "iopub.status.idle": "2023-06-06T18:02:49.988531Z",
     "shell.execute_reply": "2023-06-06T18:02:49.987183Z"
    },
    "papermill": {
     "duration": 0.286381,
     "end_time": "2023-06-06T18:02:49.991385",
     "exception": false,
     "start_time": "2023-06-06T18:02:49.705004",
     "status": "completed"
    },
    "tags": []
   },
   "outputs": [
    {
     "data": {
      "text/plain": [
       "<AxesSubplot:>"
      ]
     },
     "execution_count": 32,
     "metadata": {},
     "output_type": "execute_result"
    },
    {
     "data": {
      "image/png": "[encoded data removed]",
      "text/plain": [
       "<Figure size 640x480 with 1 Axes>"
      ]
     },
     "metadata": {},
     "output_type": "display_data"
    }
   ],
   "source": [
    "pd.qcut(df.Fare, 4, labels=['very_low','low','high','very_high']).value_counts().plot(kind='bar',color='c', rot=0)"
   ]
  },
  {
   "cell_type": "code",
   "execution_count": 33,
   "id": "303b8eb5",
   "metadata": {
    "execution": {
     "iopub.execute_input": "2023-06-06T18:02:50.071247Z",
     "iopub.status.busy": "2023-06-06T18:02:50.070334Z",
     "iopub.status.idle": "2023-06-06T18:02:50.098890Z",
     "shell.execute_reply": "2023-06-06T18:02:50.096832Z"
    },
    "papermill": {
     "duration": 0.072975,
     "end_time": "2023-06-06T18:02:50.102377",
     "exception": false,
     "start_time": "2023-06-06T18:02:50.029402",
     "status": "completed"
    },
    "tags": []
   },
   "outputs": [
    {
     "data": {
      "text/html": [
       "<div>\n",
       "<style scoped>\n",
       "    .dataframe tbody tr th:only-of-type {\n",
       "        vertical-align: middle;\n",
       "    }\n",
       "\n",
       "    .dataframe tbody tr th {\n",
       "        vertical-align: top;\n",
       "    }\n",
       "\n",
       "    .dataframe thead th {\n",
       "        text-align: right;\n",
       "    }\n",
       "</style>\n",
       "<table border=\"1\" class=\"dataframe\">\n",
       "  <thead>\n",
       "    <tr style=\"text-align: right;\">\n",
       "      <th></th>\n",
       "      <th>Survived</th>\n",
       "      <th>Pclass</th>\n",
       "      <th>Name</th>\n",
       "      <th>Sex</th>\n",
       "      <th>Age</th>\n",
       "      <th>SibSp</th>\n",
       "      <th>Parch</th>\n",
       "      <th>Ticket</th>\n",
       "      <th>Fare</th>\n",
       "      <th>Cabin</th>\n",
       "      <th>Embarked</th>\n",
       "      <th>Title</th>\n",
       "      <th>Fare_Bin</th>\n",
       "    </tr>\n",
       "    <tr>\n",
       "      <th>PassengerId</th>\n",
       "      <th></th>\n",
       "      <th></th>\n",
       "      <th></th>\n",
       "      <th></th>\n",
       "      <th></th>\n",
       "      <th></th>\n",
       "      <th></th>\n",
       "      <th></th>\n",
       "      <th></th>\n",
       "      <th></th>\n",
       "      <th></th>\n",
       "      <th></th>\n",
       "      <th></th>\n",
       "    </tr>\n",
       "  </thead>\n",
       "  <tbody>\n",
       "    <tr>\n",
       "      <th>1</th>\n",
       "      <td>0</td>\n",
       "      <td>3</td>\n",
       "      <td>Braund, Mr. Owen Harris</td>\n",
       "      <td>male</td>\n",
       "      <td>22.0</td>\n",
       "      <td>1</td>\n",
       "      <td>0</td>\n",
       "      <td>A/5 21171</td>\n",
       "      <td>7.2500</td>\n",
       "      <td>NaN</td>\n",
       "      <td>S</td>\n",
       "      <td>Mr</td>\n",
       "      <td>very_low</td>\n",
       "    </tr>\n",
       "    <tr>\n",
       "      <th>2</th>\n",
       "      <td>1</td>\n",
       "      <td>1</td>\n",
       "      <td>Cumings, Mrs. John Bradley (Florence Briggs Th...</td>\n",
       "      <td>female</td>\n",
       "      <td>38.0</td>\n",
       "      <td>1</td>\n",
       "      <td>0</td>\n",
       "      <td>PC 17599</td>\n",
       "      <td>71.2833</td>\n",
       "      <td>C85</td>\n",
       "      <td>C</td>\n",
       "      <td>Mrs</td>\n",
       "      <td>very_high</td>\n",
       "    </tr>\n",
       "    <tr>\n",
       "      <th>3</th>\n",
       "      <td>1</td>\n",
       "      <td>3</td>\n",
       "      <td>Heikkinen, Miss. Laina</td>\n",
       "      <td>female</td>\n",
       "      <td>26.0</td>\n",
       "      <td>0</td>\n",
       "      <td>0</td>\n",
       "      <td>STON/O2. 3101282</td>\n",
       "      <td>7.9250</td>\n",
       "      <td>NaN</td>\n",
       "      <td>S</td>\n",
       "      <td>Miss</td>\n",
       "      <td>low</td>\n",
       "    </tr>\n",
       "    <tr>\n",
       "      <th>4</th>\n",
       "      <td>1</td>\n",
       "      <td>1</td>\n",
       "      <td>Futrelle, Mrs. Jacques Heath (Lily May Peel)</td>\n",
       "      <td>female</td>\n",
       "      <td>35.0</td>\n",
       "      <td>1</td>\n",
       "      <td>0</td>\n",
       "      <td>113803</td>\n",
       "      <td>53.1000</td>\n",
       "      <td>C123</td>\n",
       "      <td>S</td>\n",
       "      <td>Mrs</td>\n",
       "      <td>very_high</td>\n",
       "    </tr>\n",
       "    <tr>\n",
       "      <th>5</th>\n",
       "      <td>0</td>\n",
       "      <td>3</td>\n",
       "      <td>Allen, Mr. William Henry</td>\n",
       "      <td>male</td>\n",
       "      <td>35.0</td>\n",
       "      <td>0</td>\n",
       "      <td>0</td>\n",
       "      <td>373450</td>\n",
       "      <td>8.0500</td>\n",
       "      <td>NaN</td>\n",
       "      <td>S</td>\n",
       "      <td>Mr</td>\n",
       "      <td>low</td>\n",
       "    </tr>\n",
       "  </tbody>\n",
       "</table>\n",
       "</div>"
      ],
      "text/plain": [
       "             Survived  Pclass  \\\n",
       "PassengerId                     \n",
       "1                   0       3   \n",
       "2                   1       1   \n",
       "3                   1       3   \n",
       "4                   1       1   \n",
       "5                   0       3   \n",
       "\n",
       "                                                          Name     Sex   Age  \\\n",
       "PassengerId                                                                    \n",
       "1                                      Braund, Mr. Owen Harris    male  22.0   \n",
       "2            Cumings, Mrs. John Bradley (Florence Briggs Th...  female  38.0   \n",
       "3                                       Heikkinen, Miss. Laina  female  26.0   \n",
       "4                 Futrelle, Mrs. Jacques Heath (Lily May Peel)  female  35.0   \n",
       "5                                     Allen, Mr. William Henry    male  35.0   \n",
       "\n",
       "             SibSp  Parch            Ticket     Fare Cabin Embarked Title  \\\n",
       "PassengerId                                                                 \n",
       "1                1      0         A/5 21171   7.2500   NaN        S    Mr   \n",
       "2                1      0          PC 17599  71.2833   C85        C   Mrs   \n",
       "3                0      0  STON/O2. 3101282   7.9250   NaN        S  Miss   \n",
       "4                1      0            113803  53.1000  C123        S   Mrs   \n",
       "5                0      0            373450   8.0500   NaN        S    Mr   \n",
       "\n",
       "              Fare_Bin  \n",
       "PassengerId             \n",
       "1             very_low  \n",
       "2            very_high  \n",
       "3                  low  \n",
       "4            very_high  \n",
       "5                  low  "
      ]
     },
     "execution_count": 33,
     "metadata": {},
     "output_type": "execute_result"
    }
   ],
   "source": [
    "df['Fare_Bin'] = pd.qcut(df.Fare, 4, labels=['very_low','low','high','very_high'])\n",
    "df.head()"
   ]
  },
  {
   "cell_type": "code",
   "execution_count": 34,
   "id": "cf38e701",
   "metadata": {
    "execution": {
     "iopub.execute_input": "2023-06-06T18:02:50.182195Z",
     "iopub.status.busy": "2023-06-06T18:02:50.181664Z",
     "iopub.status.idle": "2023-06-06T18:02:50.188755Z",
     "shell.execute_reply": "2023-06-06T18:02:50.187782Z"
    },
    "papermill": {
     "duration": 0.050266,
     "end_time": "2023-06-06T18:02:50.191574",
     "exception": false,
     "start_time": "2023-06-06T18:02:50.141308",
     "status": "completed"
    },
    "tags": []
   },
   "outputs": [],
   "source": [
    "df['AgeState'] = np.where(df['Age']>=18, 'Adult', 'Child')"
   ]
  },
  {
   "cell_type": "code",
   "execution_count": 35,
   "id": "96cf4071",
   "metadata": {
    "execution": {
     "iopub.execute_input": "2023-06-06T18:02:50.272709Z",
     "iopub.status.busy": "2023-06-06T18:02:50.271701Z",
     "iopub.status.idle": "2023-06-06T18:02:50.282098Z",
     "shell.execute_reply": "2023-06-06T18:02:50.280664Z"
    },
    "papermill": {
     "duration": 0.053235,
     "end_time": "2023-06-06T18:02:50.284851",
     "exception": false,
     "start_time": "2023-06-06T18:02:50.231616",
     "status": "completed"
    },
    "tags": []
   },
   "outputs": [
    {
     "data": {
      "text/plain": [
       "Adult    1147\n",
       "Child     162\n",
       "Name: AgeState, dtype: int64"
      ]
     },
     "execution_count": 35,
     "metadata": {},
     "output_type": "execute_result"
    }
   ],
   "source": [
    "df['AgeState'].value_counts()"
   ]
  },
  {
   "cell_type": "code",
   "execution_count": 36,
   "id": "ee3a5f8d",
   "metadata": {
    "execution": {
     "iopub.execute_input": "2023-06-06T18:02:50.364565Z",
     "iopub.status.busy": "2023-06-06T18:02:50.364099Z",
     "iopub.status.idle": "2023-06-06T18:02:50.389898Z",
     "shell.execute_reply": "2023-06-06T18:02:50.388591Z"
    },
    "papermill": {
     "duration": 0.069238,
     "end_time": "2023-06-06T18:02:50.392866",
     "exception": false,
     "start_time": "2023-06-06T18:02:50.323628",
     "status": "completed"
    },
    "tags": []
   },
   "outputs": [
    {
     "data": {
      "text/html": [
       "<div>\n",
       "<style scoped>\n",
       "    .dataframe tbody tr th:only-of-type {\n",
       "        vertical-align: middle;\n",
       "    }\n",
       "\n",
       "    .dataframe tbody tr th {\n",
       "        vertical-align: top;\n",
       "    }\n",
       "\n",
       "    .dataframe thead th {\n",
       "        text-align: right;\n",
       "    }\n",
       "</style>\n",
       "<table border=\"1\" class=\"dataframe\">\n",
       "  <thead>\n",
       "    <tr style=\"text-align: right;\">\n",
       "      <th>AgeState</th>\n",
       "      <th>Adult</th>\n",
       "      <th>Child</th>\n",
       "    </tr>\n",
       "    <tr>\n",
       "      <th>Survived</th>\n",
       "      <th></th>\n",
       "      <th></th>\n",
       "    </tr>\n",
       "  </thead>\n",
       "  <tbody>\n",
       "    <tr>\n",
       "      <th>0</th>\n",
       "      <td>495</td>\n",
       "      <td>54</td>\n",
       "    </tr>\n",
       "    <tr>\n",
       "      <th>1</th>\n",
       "      <td>279</td>\n",
       "      <td>63</td>\n",
       "    </tr>\n",
       "  </tbody>\n",
       "</table>\n",
       "</div>"
      ],
      "text/plain": [
       "AgeState  Adult  Child\n",
       "Survived              \n",
       "0           495     54\n",
       "1           279     63"
      ]
     },
     "execution_count": 36,
     "metadata": {},
     "output_type": "execute_result"
    }
   ],
   "source": [
    "pd.crosstab(df[df.Survived!=-888].Survived, df[df.Survived!=-888].AgeState)"
   ]
  },
  {
   "cell_type": "code",
   "execution_count": 37,
   "id": "03eadd3f",
   "metadata": {
    "execution": {
     "iopub.execute_input": "2023-06-06T18:02:50.474231Z",
     "iopub.status.busy": "2023-06-06T18:02:50.473367Z",
     "iopub.status.idle": "2023-06-06T18:02:50.481609Z",
     "shell.execute_reply": "2023-06-06T18:02:50.479841Z"
    },
    "papermill": {
     "duration": 0.05292,
     "end_time": "2023-06-06T18:02:50.484669",
     "exception": false,
     "start_time": "2023-06-06T18:02:50.431749",
     "status": "completed"
    },
    "tags": []
   },
   "outputs": [],
   "source": [
    "# Feature: family size\n",
    "df['FamilySize'] = df.Parch + df.SibSp + 1"
   ]
  },
  {
   "cell_type": "code",
   "execution_count": 38,
   "id": "9d51837c",
   "metadata": {
    "execution": {
     "iopub.execute_input": "2023-06-06T18:02:50.566235Z",
     "iopub.status.busy": "2023-06-06T18:02:50.565770Z",
     "iopub.status.idle": "2023-06-06T18:02:50.793883Z",
     "shell.execute_reply": "2023-06-06T18:02:50.792226Z"
    },
    "papermill": {
     "duration": 0.273161,
     "end_time": "2023-06-06T18:02:50.797011",
     "exception": false,
     "start_time": "2023-06-06T18:02:50.523850",
     "status": "completed"
    },
    "tags": []
   },
   "outputs": [
    {
     "data": {
      "text/plain": [
       "<AxesSubplot:ylabel='Frequency'>"
      ]
     },
     "execution_count": 38,
     "metadata": {},
     "output_type": "execute_result"
    },
    {
     "data": {
      "image/png": "[encoded data removed]",
      "text/plain": [
       "<Figure size 640x480 with 1 Axes>"
      ]
     },
     "metadata": {},
     "output_type": "display_data"
    }
   ],
   "source": [
    "df['FamilySize'].plot(kind='hist', color='c')"
   ]
  },
  {
   "cell_type": "code",
   "execution_count": 39,
   "id": "b1d89ac1",
   "metadata": {
    "execution": {
     "iopub.execute_input": "2023-06-06T18:02:50.879029Z",
     "iopub.status.busy": "2023-06-06T18:02:50.878110Z",
     "iopub.status.idle": "2023-06-06T18:02:50.906860Z",
     "shell.execute_reply": "2023-06-06T18:02:50.905525Z"
    },
    "papermill": {
     "duration": 0.073114,
     "end_time": "2023-06-06T18:02:50.910177",
     "exception": false,
     "start_time": "2023-06-06T18:02:50.837063",
     "status": "completed"
    },
    "tags": []
   },
   "outputs": [
    {
     "data": {
      "text/html": [
       "<div>\n",
       "<style scoped>\n",
       "    .dataframe tbody tr th:only-of-type {\n",
       "        vertical-align: middle;\n",
       "    }\n",
       "\n",
       "    .dataframe tbody tr th {\n",
       "        vertical-align: top;\n",
       "    }\n",
       "\n",
       "    .dataframe thead th {\n",
       "        text-align: right;\n",
       "    }\n",
       "</style>\n",
       "<table border=\"1\" class=\"dataframe\">\n",
       "  <thead>\n",
       "    <tr style=\"text-align: right;\">\n",
       "      <th></th>\n",
       "      <th>Survived</th>\n",
       "      <th>Pclass</th>\n",
       "      <th>Name</th>\n",
       "      <th>Sex</th>\n",
       "      <th>Age</th>\n",
       "      <th>SibSp</th>\n",
       "      <th>Parch</th>\n",
       "      <th>Ticket</th>\n",
       "      <th>Fare</th>\n",
       "      <th>Cabin</th>\n",
       "      <th>Embarked</th>\n",
       "      <th>Title</th>\n",
       "      <th>Fare_Bin</th>\n",
       "      <th>AgeState</th>\n",
       "      <th>FamilySize</th>\n",
       "    </tr>\n",
       "    <tr>\n",
       "      <th>PassengerId</th>\n",
       "      <th></th>\n",
       "      <th></th>\n",
       "      <th></th>\n",
       "      <th></th>\n",
       "      <th></th>\n",
       "      <th></th>\n",
       "      <th></th>\n",
       "      <th></th>\n",
       "      <th></th>\n",
       "      <th></th>\n",
       "      <th></th>\n",
       "      <th></th>\n",
       "      <th></th>\n",
       "      <th></th>\n",
       "      <th></th>\n",
       "    </tr>\n",
       "  </thead>\n",
       "  <tbody>\n",
       "    <tr>\n",
       "      <th>160</th>\n",
       "      <td>0</td>\n",
       "      <td>3</td>\n",
       "      <td>Sage, Master. Thomas Henry</td>\n",
       "      <td>male</td>\n",
       "      <td>4.0</td>\n",
       "      <td>8</td>\n",
       "      <td>2</td>\n",
       "      <td>CA. 2343</td>\n",
       "      <td>69.55</td>\n",
       "      <td>NaN</td>\n",
       "      <td>S</td>\n",
       "      <td>Master</td>\n",
       "      <td>very_high</td>\n",
       "      <td>Child</td>\n",
       "      <td>11</td>\n",
       "    </tr>\n",
       "    <tr>\n",
       "      <th>181</th>\n",
       "      <td>0</td>\n",
       "      <td>3</td>\n",
       "      <td>Sage, Miss. Constance Gladys</td>\n",
       "      <td>female</td>\n",
       "      <td>22.0</td>\n",
       "      <td>8</td>\n",
       "      <td>2</td>\n",
       "      <td>CA. 2343</td>\n",
       "      <td>69.55</td>\n",
       "      <td>NaN</td>\n",
       "      <td>S</td>\n",
       "      <td>Miss</td>\n",
       "      <td>very_high</td>\n",
       "      <td>Adult</td>\n",
       "      <td>11</td>\n",
       "    </tr>\n",
       "    <tr>\n",
       "      <th>202</th>\n",
       "      <td>0</td>\n",
       "      <td>3</td>\n",
       "      <td>Sage, Mr. Frederick</td>\n",
       "      <td>male</td>\n",
       "      <td>29.0</td>\n",
       "      <td>8</td>\n",
       "      <td>2</td>\n",
       "      <td>CA. 2343</td>\n",
       "      <td>69.55</td>\n",
       "      <td>NaN</td>\n",
       "      <td>S</td>\n",
       "      <td>Mr</td>\n",
       "      <td>very_high</td>\n",
       "      <td>Adult</td>\n",
       "      <td>11</td>\n",
       "    </tr>\n",
       "    <tr>\n",
       "      <th>325</th>\n",
       "      <td>0</td>\n",
       "      <td>3</td>\n",
       "      <td>Sage, Mr. George John Jr</td>\n",
       "      <td>male</td>\n",
       "      <td>29.0</td>\n",
       "      <td>8</td>\n",
       "      <td>2</td>\n",
       "      <td>CA. 2343</td>\n",
       "      <td>69.55</td>\n",
       "      <td>NaN</td>\n",
       "      <td>S</td>\n",
       "      <td>Mr</td>\n",
       "      <td>very_high</td>\n",
       "      <td>Adult</td>\n",
       "      <td>11</td>\n",
       "    </tr>\n",
       "    <tr>\n",
       "      <th>793</th>\n",
       "      <td>0</td>\n",
       "      <td>3</td>\n",
       "      <td>Sage, Miss. Stella Anna</td>\n",
       "      <td>female</td>\n",
       "      <td>22.0</td>\n",
       "      <td>8</td>\n",
       "      <td>2</td>\n",
       "      <td>CA. 2343</td>\n",
       "      <td>69.55</td>\n",
       "      <td>NaN</td>\n",
       "      <td>S</td>\n",
       "      <td>Miss</td>\n",
       "      <td>very_high</td>\n",
       "      <td>Adult</td>\n",
       "      <td>11</td>\n",
       "    </tr>\n",
       "    <tr>\n",
       "      <th>847</th>\n",
       "      <td>0</td>\n",
       "      <td>3</td>\n",
       "      <td>Sage, Mr. Douglas Bullen</td>\n",
       "      <td>male</td>\n",
       "      <td>29.0</td>\n",
       "      <td>8</td>\n",
       "      <td>2</td>\n",
       "      <td>CA. 2343</td>\n",
       "      <td>69.55</td>\n",
       "      <td>NaN</td>\n",
       "      <td>S</td>\n",
       "      <td>Mr</td>\n",
       "      <td>very_high</td>\n",
       "      <td>Adult</td>\n",
       "      <td>11</td>\n",
       "    </tr>\n",
       "    <tr>\n",
       "      <th>864</th>\n",
       "      <td>0</td>\n",
       "      <td>3</td>\n",
       "      <td>Sage, Miss. Dorothy Edith \"Dolly\"</td>\n",
       "      <td>female</td>\n",
       "      <td>22.0</td>\n",
       "      <td>8</td>\n",
       "      <td>2</td>\n",
       "      <td>CA. 2343</td>\n",
       "      <td>69.55</td>\n",
       "      <td>NaN</td>\n",
       "      <td>S</td>\n",
       "      <td>Miss</td>\n",
       "      <td>very_high</td>\n",
       "      <td>Adult</td>\n",
       "      <td>11</td>\n",
       "    </tr>\n",
       "    <tr>\n",
       "      <th>1080</th>\n",
       "      <td>-888</td>\n",
       "      <td>3</td>\n",
       "      <td>Sage, Miss. Ada</td>\n",
       "      <td>female</td>\n",
       "      <td>22.0</td>\n",
       "      <td>8</td>\n",
       "      <td>2</td>\n",
       "      <td>CA. 2343</td>\n",
       "      <td>69.55</td>\n",
       "      <td>NaN</td>\n",
       "      <td>S</td>\n",
       "      <td>Miss</td>\n",
       "      <td>very_high</td>\n",
       "      <td>Adult</td>\n",
       "      <td>11</td>\n",
       "    </tr>\n",
       "    <tr>\n",
       "      <th>1234</th>\n",
       "      <td>-888</td>\n",
       "      <td>3</td>\n",
       "      <td>Sage, Mr. John George</td>\n",
       "      <td>male</td>\n",
       "      <td>29.0</td>\n",
       "      <td>1</td>\n",
       "      <td>9</td>\n",
       "      <td>CA. 2343</td>\n",
       "      <td>69.55</td>\n",
       "      <td>NaN</td>\n",
       "      <td>S</td>\n",
       "      <td>Mr</td>\n",
       "      <td>very_high</td>\n",
       "      <td>Adult</td>\n",
       "      <td>11</td>\n",
       "    </tr>\n",
       "    <tr>\n",
       "      <th>1252</th>\n",
       "      <td>-888</td>\n",
       "      <td>3</td>\n",
       "      <td>Sage, Master. William Henry</td>\n",
       "      <td>male</td>\n",
       "      <td>14.5</td>\n",
       "      <td>8</td>\n",
       "      <td>2</td>\n",
       "      <td>CA. 2343</td>\n",
       "      <td>69.55</td>\n",
       "      <td>NaN</td>\n",
       "      <td>S</td>\n",
       "      <td>Master</td>\n",
       "      <td>very_high</td>\n",
       "      <td>Child</td>\n",
       "      <td>11</td>\n",
       "    </tr>\n",
       "    <tr>\n",
       "      <th>1257</th>\n",
       "      <td>-888</td>\n",
       "      <td>3</td>\n",
       "      <td>Sage, Mrs. John (Annie Bullen)</td>\n",
       "      <td>female</td>\n",
       "      <td>35.0</td>\n",
       "      <td>1</td>\n",
       "      <td>9</td>\n",
       "      <td>CA. 2343</td>\n",
       "      <td>69.55</td>\n",
       "      <td>NaN</td>\n",
       "      <td>S</td>\n",
       "      <td>Mrs</td>\n",
       "      <td>very_high</td>\n",
       "      <td>Adult</td>\n",
       "      <td>11</td>\n",
       "    </tr>\n",
       "  </tbody>\n",
       "</table>\n",
       "</div>"
      ],
      "text/plain": [
       "             Survived  Pclass                               Name     Sex  \\\n",
       "PassengerId                                                                \n",
       "160                 0       3         Sage, Master. Thomas Henry    male   \n",
       "181                 0       3       Sage, Miss. Constance Gladys  female   \n",
       "202                 0       3                Sage, Mr. Frederick    male   \n",
       "325                 0       3           Sage, Mr. George John Jr    male   \n",
       "793                 0       3            Sage, Miss. Stella Anna  female   \n",
       "847                 0       3           Sage, Mr. Douglas Bullen    male   \n",
       "864                 0       3  Sage, Miss. Dorothy Edith \"Dolly\"  female   \n",
       "1080             -888       3                    Sage, Miss. Ada  female   \n",
       "1234             -888       3              Sage, Mr. John George    male   \n",
       "1252             -888       3        Sage, Master. William Henry    male   \n",
       "1257             -888       3     Sage, Mrs. John (Annie Bullen)  female   \n",
       "\n",
       "              Age  SibSp  Parch    Ticket   Fare Cabin Embarked   Title  \\\n",
       "PassengerId                                                               \n",
       "160           4.0      8      2  CA. 2343  69.55   NaN        S  Master   \n",
       "181          22.0      8      2  CA. 2343  69.55   NaN        S    Miss   \n",
       "202          29.0      8      2  CA. 2343  69.55   NaN        S      Mr   \n",
       "325          29.0      8      2  CA. 2343  69.55   NaN        S      Mr   \n",
       "793          22.0      8      2  CA. 2343  69.55   NaN        S    Miss   \n",
       "847          29.0      8      2  CA. 2343  69.55   NaN        S      Mr   \n",
       "864          22.0      8      2  CA. 2343  69.55   NaN        S    Miss   \n",
       "1080         22.0      8      2  CA. 2343  69.55   NaN        S    Miss   \n",
       "1234         29.0      1      9  CA. 2343  69.55   NaN        S      Mr   \n",
       "1252         14.5      8      2  CA. 2343  69.55   NaN        S  Master   \n",
       "1257         35.0      1      9  CA. 2343  69.55   NaN        S     Mrs   \n",
       "\n",
       "              Fare_Bin AgeState  FamilySize  \n",
       "PassengerId                                  \n",
       "160          very_high    Child          11  \n",
       "181          very_high    Adult          11  \n",
       "202          very_high    Adult          11  \n",
       "325          very_high    Adult          11  \n",
       "793          very_high    Adult          11  \n",
       "847          very_high    Adult          11  \n",
       "864          very_high    Adult          11  \n",
       "1080         very_high    Adult          11  \n",
       "1234         very_high    Adult          11  \n",
       "1252         very_high    Child          11  \n",
       "1257         very_high    Adult          11  "
      ]
     },
     "execution_count": 39,
     "metadata": {},
     "output_type": "execute_result"
    }
   ],
   "source": [
    "df.loc[df.FamilySize == df.FamilySize.max()]"
   ]
  },
  {
   "cell_type": "code",
   "execution_count": 40,
   "id": "598b994f",
   "metadata": {
    "execution": {
     "iopub.execute_input": "2023-06-06T18:02:50.994334Z",
     "iopub.status.busy": "2023-06-06T18:02:50.993446Z",
     "iopub.status.idle": "2023-06-06T18:02:51.022207Z",
     "shell.execute_reply": "2023-06-06T18:02:51.021033Z"
    },
    "papermill": {
     "duration": 0.073179,
     "end_time": "2023-06-06T18:02:51.025048",
     "exception": false,
     "start_time": "2023-06-06T18:02:50.951869",
     "status": "completed"
    },
    "tags": []
   },
   "outputs": [
    {
     "data": {
      "text/html": [
       "<div>\n",
       "<style scoped>\n",
       "    .dataframe tbody tr th:only-of-type {\n",
       "        vertical-align: middle;\n",
       "    }\n",
       "\n",
       "    .dataframe tbody tr th {\n",
       "        vertical-align: top;\n",
       "    }\n",
       "\n",
       "    .dataframe thead th {\n",
       "        text-align: right;\n",
       "    }\n",
       "</style>\n",
       "<table border=\"1\" class=\"dataframe\">\n",
       "  <thead>\n",
       "    <tr style=\"text-align: right;\">\n",
       "      <th>FamilySize</th>\n",
       "      <th>1</th>\n",
       "      <th>2</th>\n",
       "      <th>3</th>\n",
       "      <th>4</th>\n",
       "      <th>5</th>\n",
       "      <th>6</th>\n",
       "      <th>7</th>\n",
       "      <th>8</th>\n",
       "      <th>11</th>\n",
       "    </tr>\n",
       "    <tr>\n",
       "      <th>Survived</th>\n",
       "      <th></th>\n",
       "      <th></th>\n",
       "      <th></th>\n",
       "      <th></th>\n",
       "      <th></th>\n",
       "      <th></th>\n",
       "      <th></th>\n",
       "      <th></th>\n",
       "      <th></th>\n",
       "    </tr>\n",
       "  </thead>\n",
       "  <tbody>\n",
       "    <tr>\n",
       "      <th>0</th>\n",
       "      <td>374</td>\n",
       "      <td>72</td>\n",
       "      <td>43</td>\n",
       "      <td>8</td>\n",
       "      <td>12</td>\n",
       "      <td>19</td>\n",
       "      <td>8</td>\n",
       "      <td>6</td>\n",
       "      <td>7</td>\n",
       "    </tr>\n",
       "    <tr>\n",
       "      <th>1</th>\n",
       "      <td>163</td>\n",
       "      <td>89</td>\n",
       "      <td>59</td>\n",
       "      <td>21</td>\n",
       "      <td>3</td>\n",
       "      <td>3</td>\n",
       "      <td>4</td>\n",
       "      <td>0</td>\n",
       "      <td>0</td>\n",
       "    </tr>\n",
       "  </tbody>\n",
       "</table>\n",
       "</div>"
      ],
      "text/plain": [
       "FamilySize   1   2   3   4   5   6   7   8   11\n",
       "Survived                                       \n",
       "0           374  72  43   8  12  19   8   6   7\n",
       "1           163  89  59  21   3   3   4   0   0"
      ]
     },
     "execution_count": 40,
     "metadata": {},
     "output_type": "execute_result"
    }
   ],
   "source": [
    "pd.crosstab(df[df.Survived!=-888].Survived, df[df.Survived!=-888].FamilySize)"
   ]
  },
  {
   "cell_type": "code",
   "execution_count": 41,
   "id": "5503a100",
   "metadata": {
    "execution": {
     "iopub.execute_input": "2023-06-06T18:02:51.107761Z",
     "iopub.status.busy": "2023-06-06T18:02:51.106880Z",
     "iopub.status.idle": "2023-06-06T18:02:51.117712Z",
     "shell.execute_reply": "2023-06-06T18:02:51.116302Z"
    },
    "papermill": {
     "duration": 0.05583,
     "end_time": "2023-06-06T18:02:51.121102",
     "exception": false,
     "start_time": "2023-06-06T18:02:51.065272",
     "status": "completed"
    },
    "tags": []
   },
   "outputs": [],
   "source": [
    "# Feature: IsMother\n",
    "df['IsMother'] = np.where(((df.Sex == 'female') & (df.Parch>0) & (df.Age>18) & (df.Title!='Miss')), 1, 0)"
   ]
  },
  {
   "cell_type": "code",
   "execution_count": 42,
   "id": "2963dc74",
   "metadata": {
    "execution": {
     "iopub.execute_input": "2023-06-06T18:02:51.204004Z",
     "iopub.status.busy": "2023-06-06T18:02:51.203513Z",
     "iopub.status.idle": "2023-06-06T18:02:51.229347Z",
     "shell.execute_reply": "2023-06-06T18:02:51.228077Z"
    },
    "papermill": {
     "duration": 0.070734,
     "end_time": "2023-06-06T18:02:51.232584",
     "exception": false,
     "start_time": "2023-06-06T18:02:51.161850",
     "status": "completed"
    },
    "tags": []
   },
   "outputs": [
    {
     "data": {
      "text/html": [
       "<div>\n",
       "<style scoped>\n",
       "    .dataframe tbody tr th:only-of-type {\n",
       "        vertical-align: middle;\n",
       "    }\n",
       "\n",
       "    .dataframe tbody tr th {\n",
       "        vertical-align: top;\n",
       "    }\n",
       "\n",
       "    .dataframe thead th {\n",
       "        text-align: right;\n",
       "    }\n",
       "</style>\n",
       "<table border=\"1\" class=\"dataframe\">\n",
       "  <thead>\n",
       "    <tr style=\"text-align: right;\">\n",
       "      <th>IsMother</th>\n",
       "      <th>0</th>\n",
       "      <th>1</th>\n",
       "    </tr>\n",
       "    <tr>\n",
       "      <th>Survived</th>\n",
       "      <th></th>\n",
       "      <th></th>\n",
       "    </tr>\n",
       "  </thead>\n",
       "  <tbody>\n",
       "    <tr>\n",
       "      <th>0</th>\n",
       "      <td>533</td>\n",
       "      <td>16</td>\n",
       "    </tr>\n",
       "    <tr>\n",
       "      <th>1</th>\n",
       "      <td>303</td>\n",
       "      <td>39</td>\n",
       "    </tr>\n",
       "  </tbody>\n",
       "</table>\n",
       "</div>"
      ],
      "text/plain": [
       "IsMother    0   1\n",
       "Survived         \n",
       "0         533  16\n",
       "1         303  39"
      ]
     },
     "execution_count": 42,
     "metadata": {},
     "output_type": "execute_result"
    }
   ],
   "source": [
    "pd.crosstab(df[df.Survived!=-888].Survived, df[df.Survived!=-888].IsMother)"
   ]
  },
  {
   "cell_type": "code",
   "execution_count": 43,
   "id": "f2ca3d78",
   "metadata": {
    "execution": {
     "iopub.execute_input": "2023-06-06T18:02:51.315106Z",
     "iopub.status.busy": "2023-06-06T18:02:51.314606Z",
     "iopub.status.idle": "2023-06-06T18:02:51.324312Z",
     "shell.execute_reply": "2023-06-06T18:02:51.323035Z"
    },
    "papermill": {
     "duration": 0.05435,
     "end_time": "2023-06-06T18:02:51.327132",
     "exception": false,
     "start_time": "2023-06-06T18:02:51.272782",
     "status": "completed"
    },
    "tags": []
   },
   "outputs": [
    {
     "data": {
      "text/plain": [
       "array([nan, 'C85', 'C123', 'E46', 'G6', 'C103', 'D56', 'A6',\n",
       "       'C23 C25 C27', 'B78', 'D33', 'B30', 'C52', 'B28', 'C83', 'F33',\n",
       "       'F G73', 'E31', 'A5', 'D10 D12', 'D26', 'C110', 'B58 B60', 'E101',\n",
       "       'F E69', 'D47', 'B86', 'F2', 'C2', 'E33', 'B19', 'A7', 'C49', 'F4',\n",
       "       'A32', 'B4', 'B80', 'A31', 'D36', 'D15', 'C93', 'C78', 'D35',\n",
       "       'C87', 'B77', 'E67', 'B94', 'C125', 'C99', 'C118', 'D7', 'A19',\n",
       "       'B49', 'D', 'C22 C26', 'C106', 'C65', 'E36', 'C54',\n",
       "       'B57 B59 B63 B66', 'C7', 'E34', 'C32', 'B18', 'C124', 'C91', 'E40',\n",
       "       'T', 'C128', 'D37', 'B35', 'E50', 'C82', 'B96 B98', 'E10', 'E44',\n",
       "       'A34', 'C104', 'C111', 'C92', 'E38', 'D21', 'E12', 'E63', 'A14',\n",
       "       'B37', 'C30', 'D20', 'B79', 'E25', 'D46', 'B73', 'C95', 'B38',\n",
       "       'B39', 'B22', 'C86', 'C70', 'A16', 'C101', 'C68', 'A10', 'E68',\n",
       "       'B41', 'A20', 'D19', 'D50', 'D9', 'A23', 'B50', 'A26', 'D48',\n",
       "       'E58', 'C126', 'B71', 'B51 B53 B55', 'D49', 'B5', 'B20', 'F G63',\n",
       "       'C62 C64', 'E24', 'C90', 'C45', 'E8', 'B101', 'D45', 'C46', 'D30',\n",
       "       'E121', 'D11', 'E77', 'F38', 'B3', 'D6', 'B82 B84', 'D17', 'A36',\n",
       "       'B102', 'B69', 'E49', 'C47', 'D28', 'E17', 'A24', 'C50', 'B42',\n",
       "       'C148', 'B45', 'B36', 'A21', 'D34', 'A9', 'C31', 'B61', 'C53',\n",
       "       'D43', 'C130', 'C132', 'C55 C57', 'C116', 'F', 'A29', 'C6', 'C28',\n",
       "       'C51', 'C97', 'D22', 'B10', 'E45', 'E52', 'A11', 'B11', 'C80',\n",
       "       'C89', 'F E46', 'B26', 'F E57', 'A18', 'E60', 'E39 E41',\n",
       "       'B52 B54 B56', 'C39', 'B24', 'D40', 'D38', 'C105'], dtype=object)"
      ]
     },
     "execution_count": 43,
     "metadata": {},
     "output_type": "execute_result"
    }
   ],
   "source": [
    "df.Cabin.unique()"
   ]
  },
  {
   "cell_type": "code",
   "execution_count": 44,
   "id": "19c7052e",
   "metadata": {
    "execution": {
     "iopub.execute_input": "2023-06-06T18:02:51.410304Z",
     "iopub.status.busy": "2023-06-06T18:02:51.409776Z",
     "iopub.status.idle": "2023-06-06T18:02:51.417050Z",
     "shell.execute_reply": "2023-06-06T18:02:51.416028Z"
    },
    "papermill": {
     "duration": 0.05153,
     "end_time": "2023-06-06T18:02:51.419462",
     "exception": false,
     "start_time": "2023-06-06T18:02:51.367932",
     "status": "completed"
    },
    "tags": []
   },
   "outputs": [],
   "source": [
    "df.loc[df.Cabin == 'T', 'Cabin'] = np.NaN"
   ]
  },
  {
   "cell_type": "code",
   "execution_count": 45,
   "id": "0905d9b1",
   "metadata": {
    "execution": {
     "iopub.execute_input": "2023-06-06T18:02:51.502875Z",
     "iopub.status.busy": "2023-06-06T18:02:51.502446Z",
     "iopub.status.idle": "2023-06-06T18:02:51.511741Z",
     "shell.execute_reply": "2023-06-06T18:02:51.510575Z"
    },
    "papermill": {
     "duration": 0.054064,
     "end_time": "2023-06-06T18:02:51.514605",
     "exception": false,
     "start_time": "2023-06-06T18:02:51.460541",
     "status": "completed"
    },
    "tags": []
   },
   "outputs": [
    {
     "data": {
      "text/plain": [
       "array([nan, 'C85', 'C123', 'E46', 'G6', 'C103', 'D56', 'A6',\n",
       "       'C23 C25 C27', 'B78', 'D33', 'B30', 'C52', 'B28', 'C83', 'F33',\n",
       "       'F G73', 'E31', 'A5', 'D10 D12', 'D26', 'C110', 'B58 B60', 'E101',\n",
       "       'F E69', 'D47', 'B86', 'F2', 'C2', 'E33', 'B19', 'A7', 'C49', 'F4',\n",
       "       'A32', 'B4', 'B80', 'A31', 'D36', 'D15', 'C93', 'C78', 'D35',\n",
       "       'C87', 'B77', 'E67', 'B94', 'C125', 'C99', 'C118', 'D7', 'A19',\n",
       "       'B49', 'D', 'C22 C26', 'C106', 'C65', 'E36', 'C54',\n",
       "       'B57 B59 B63 B66', 'C7', 'E34', 'C32', 'B18', 'C124', 'C91', 'E40',\n",
       "       'C128', 'D37', 'B35', 'E50', 'C82', 'B96 B98', 'E10', 'E44', 'A34',\n",
       "       'C104', 'C111', 'C92', 'E38', 'D21', 'E12', 'E63', 'A14', 'B37',\n",
       "       'C30', 'D20', 'B79', 'E25', 'D46', 'B73', 'C95', 'B38', 'B39',\n",
       "       'B22', 'C86', 'C70', 'A16', 'C101', 'C68', 'A10', 'E68', 'B41',\n",
       "       'A20', 'D19', 'D50', 'D9', 'A23', 'B50', 'A26', 'D48', 'E58',\n",
       "       'C126', 'B71', 'B51 B53 B55', 'D49', 'B5', 'B20', 'F G63',\n",
       "       'C62 C64', 'E24', 'C90', 'C45', 'E8', 'B101', 'D45', 'C46', 'D30',\n",
       "       'E121', 'D11', 'E77', 'F38', 'B3', 'D6', 'B82 B84', 'D17', 'A36',\n",
       "       'B102', 'B69', 'E49', 'C47', 'D28', 'E17', 'A24', 'C50', 'B42',\n",
       "       'C148', 'B45', 'B36', 'A21', 'D34', 'A9', 'C31', 'B61', 'C53',\n",
       "       'D43', 'C130', 'C132', 'C55 C57', 'C116', 'F', 'A29', 'C6', 'C28',\n",
       "       'C51', 'C97', 'D22', 'B10', 'E45', 'E52', 'A11', 'B11', 'C80',\n",
       "       'C89', 'F E46', 'B26', 'F E57', 'A18', 'E60', 'E39 E41',\n",
       "       'B52 B54 B56', 'C39', 'B24', 'D40', 'D38', 'C105'], dtype=object)"
      ]
     },
     "execution_count": 45,
     "metadata": {},
     "output_type": "execute_result"
    }
   ],
   "source": [
    "df.Cabin.unique()"
   ]
  },
  {
   "cell_type": "code",
   "execution_count": 46,
   "id": "6526d45a",
   "metadata": {
    "execution": {
     "iopub.execute_input": "2023-06-06T18:02:51.597162Z",
     "iopub.status.busy": "2023-06-06T18:02:51.596701Z",
     "iopub.status.idle": "2023-06-06T18:02:51.614956Z",
     "shell.execute_reply": "2023-06-06T18:02:51.613405Z"
    },
    "papermill": {
     "duration": 0.06302,
     "end_time": "2023-06-06T18:02:51.617854",
     "exception": false,
     "start_time": "2023-06-06T18:02:51.554834",
     "status": "completed"
    },
    "tags": []
   },
   "outputs": [],
   "source": [
    "def GetDeck(cabin):\n",
    "    return np.where(pd.notnull(cabin), str(cabin)[0].upper(),'Z')\n",
    "df['Deck'] = df['Cabin'].map(lambda x : GetDeck(x))"
   ]
  },
  {
   "cell_type": "code",
   "execution_count": 47,
   "id": "721b8768",
   "metadata": {
    "execution": {
     "iopub.execute_input": "2023-06-06T18:02:51.701618Z",
     "iopub.status.busy": "2023-06-06T18:02:51.701158Z",
     "iopub.status.idle": "2023-06-06T18:02:51.712215Z",
     "shell.execute_reply": "2023-06-06T18:02:51.711027Z"
    },
    "papermill": {
     "duration": 0.055979,
     "end_time": "2023-06-06T18:02:51.714861",
     "exception": false,
     "start_time": "2023-06-06T18:02:51.658882",
     "status": "completed"
    },
    "tags": []
   },
   "outputs": [
    {
     "data": {
      "text/plain": [
       "Z    1015\n",
       "C      94\n",
       "B      65\n",
       "D      46\n",
       "E      41\n",
       "A      22\n",
       "F      21\n",
       "G       5\n",
       "Name: Deck, dtype: int64"
      ]
     },
     "execution_count": 47,
     "metadata": {},
     "output_type": "execute_result"
    }
   ],
   "source": [
    "df.Deck.value_counts()"
   ]
  },
  {
   "cell_type": "code",
   "execution_count": 48,
   "id": "871d7b2f",
   "metadata": {
    "execution": {
     "iopub.execute_input": "2023-06-06T18:02:51.798182Z",
     "iopub.status.busy": "2023-06-06T18:02:51.797688Z",
     "iopub.status.idle": "2023-06-06T18:02:51.826295Z",
     "shell.execute_reply": "2023-06-06T18:02:51.824978Z"
    },
    "papermill": {
     "duration": 0.073512,
     "end_time": "2023-06-06T18:02:51.829087",
     "exception": false,
     "start_time": "2023-06-06T18:02:51.755575",
     "status": "completed"
    },
    "tags": []
   },
   "outputs": [
    {
     "data": {
      "text/html": [
       "<div>\n",
       "<style scoped>\n",
       "    .dataframe tbody tr th:only-of-type {\n",
       "        vertical-align: middle;\n",
       "    }\n",
       "\n",
       "    .dataframe tbody tr th {\n",
       "        vertical-align: top;\n",
       "    }\n",
       "\n",
       "    .dataframe thead th {\n",
       "        text-align: right;\n",
       "    }\n",
       "</style>\n",
       "<table border=\"1\" class=\"dataframe\">\n",
       "  <thead>\n",
       "    <tr style=\"text-align: right;\">\n",
       "      <th>Deck</th>\n",
       "      <th>A</th>\n",
       "      <th>B</th>\n",
       "      <th>C</th>\n",
       "      <th>D</th>\n",
       "      <th>E</th>\n",
       "      <th>F</th>\n",
       "      <th>G</th>\n",
       "      <th>Z</th>\n",
       "    </tr>\n",
       "    <tr>\n",
       "      <th>Survived</th>\n",
       "      <th></th>\n",
       "      <th></th>\n",
       "      <th></th>\n",
       "      <th></th>\n",
       "      <th></th>\n",
       "      <th></th>\n",
       "      <th></th>\n",
       "      <th></th>\n",
       "    </tr>\n",
       "  </thead>\n",
       "  <tbody>\n",
       "    <tr>\n",
       "      <th>0</th>\n",
       "      <td>8</td>\n",
       "      <td>12</td>\n",
       "      <td>24</td>\n",
       "      <td>8</td>\n",
       "      <td>8</td>\n",
       "      <td>5</td>\n",
       "      <td>2</td>\n",
       "      <td>482</td>\n",
       "    </tr>\n",
       "    <tr>\n",
       "      <th>1</th>\n",
       "      <td>7</td>\n",
       "      <td>35</td>\n",
       "      <td>35</td>\n",
       "      <td>25</td>\n",
       "      <td>24</td>\n",
       "      <td>8</td>\n",
       "      <td>2</td>\n",
       "      <td>206</td>\n",
       "    </tr>\n",
       "  </tbody>\n",
       "</table>\n",
       "</div>"
      ],
      "text/plain": [
       "Deck      A   B   C   D   E  F  G    Z\n",
       "Survived                              \n",
       "0         8  12  24   8   8  5  2  482\n",
       "1         7  35  35  25  24  8  2  206"
      ]
     },
     "execution_count": 48,
     "metadata": {},
     "output_type": "execute_result"
    }
   ],
   "source": [
    "pd.crosstab(df[df.Survived!=-888].Survived, df[df.Survived!=-888].Deck)"
   ]
  },
  {
   "cell_type": "code",
   "execution_count": 49,
   "id": "e8138907",
   "metadata": {
    "execution": {
     "iopub.execute_input": "2023-06-06T18:02:51.913529Z",
     "iopub.status.busy": "2023-06-06T18:02:51.913077Z",
     "iopub.status.idle": "2023-06-06T18:02:51.931484Z",
     "shell.execute_reply": "2023-06-06T18:02:51.930125Z"
    },
    "papermill": {
     "duration": 0.064657,
     "end_time": "2023-06-06T18:02:51.934554",
     "exception": false,
     "start_time": "2023-06-06T18:02:51.869897",
     "status": "completed"
    },
    "tags": []
   },
   "outputs": [
    {
     "name": "stdout",
     "output_type": "stream",
     "text": [
      "<class 'pandas.core.frame.DataFrame'>\n",
      "Int64Index: 1309 entries, 1 to 1309\n",
      "Data columns (total 17 columns):\n",
      " #   Column      Non-Null Count  Dtype   \n",
      "---  ------      --------------  -----   \n",
      " 0   Survived    1309 non-null   int64   \n",
      " 1   Pclass      1309 non-null   int64   \n",
      " 2   Name        1309 non-null   object  \n",
      " 3   Sex         1309 non-null   object  \n",
      " 4   Age         1309 non-null   float64 \n",
      " 5   SibSp       1309 non-null   int64   \n",
      " 6   Parch       1309 non-null   int64   \n",
      " 7   Ticket      1309 non-null   object  \n",
      " 8   Fare        1309 non-null   float64 \n",
      " 9   Cabin       294 non-null    object  \n",
      " 10  Embarked    1309 non-null   object  \n",
      " 11  Title       1309 non-null   object  \n",
      " 12  Fare_Bin    1309 non-null   category\n",
      " 13  AgeState    1309 non-null   object  \n",
      " 14  FamilySize  1309 non-null   int64   \n",
      " 15  IsMother    1309 non-null   int64   \n",
      " 16  Deck        1309 non-null   object  \n",
      "dtypes: category(1), float64(2), int64(6), object(8)\n",
      "memory usage: 175.3+ KB\n"
     ]
    }
   ],
   "source": [
    "df.info()"
   ]
  },
  {
   "cell_type": "code",
   "execution_count": 50,
   "id": "231c6d3a",
   "metadata": {
    "execution": {
     "iopub.execute_input": "2023-06-06T18:02:52.020777Z",
     "iopub.status.busy": "2023-06-06T18:02:52.020312Z",
     "iopub.status.idle": "2023-06-06T18:02:52.028527Z",
     "shell.execute_reply": "2023-06-06T18:02:52.027084Z"
    },
    "papermill": {
     "duration": 0.054111,
     "end_time": "2023-06-06T18:02:52.031423",
     "exception": false,
     "start_time": "2023-06-06T18:02:51.977312",
     "status": "completed"
    },
    "tags": []
   },
   "outputs": [],
   "source": [
    "df['IsMale'] = np.where(df.Sex == 'male', 1, 0)"
   ]
  },
  {
   "cell_type": "code",
   "execution_count": 51,
   "id": "9a851800",
   "metadata": {
    "execution": {
     "iopub.execute_input": "2023-06-06T18:02:52.116753Z",
     "iopub.status.busy": "2023-06-06T18:02:52.116170Z",
     "iopub.status.idle": "2023-06-06T18:02:52.142786Z",
     "shell.execute_reply": "2023-06-06T18:02:52.141249Z"
    },
    "papermill": {
     "duration": 0.073228,
     "end_time": "2023-06-06T18:02:52.146071",
     "exception": false,
     "start_time": "2023-06-06T18:02:52.072843",
     "status": "completed"
    },
    "tags": []
   },
   "outputs": [
    {
     "data": {
      "text/html": [
       "<div>\n",
       "<style scoped>\n",
       "    .dataframe tbody tr th:only-of-type {\n",
       "        vertical-align: middle;\n",
       "    }\n",
       "\n",
       "    .dataframe tbody tr th {\n",
       "        vertical-align: top;\n",
       "    }\n",
       "\n",
       "    .dataframe thead th {\n",
       "        text-align: right;\n",
       "    }\n",
       "</style>\n",
       "<table border=\"1\" class=\"dataframe\">\n",
       "  <thead>\n",
       "    <tr style=\"text-align: right;\">\n",
       "      <th></th>\n",
       "      <th>Survived</th>\n",
       "      <th>Pclass</th>\n",
       "      <th>Name</th>\n",
       "      <th>Sex</th>\n",
       "      <th>Age</th>\n",
       "      <th>SibSp</th>\n",
       "      <th>Parch</th>\n",
       "      <th>Ticket</th>\n",
       "      <th>Fare</th>\n",
       "      <th>Cabin</th>\n",
       "      <th>Embarked</th>\n",
       "      <th>Title</th>\n",
       "      <th>Fare_Bin</th>\n",
       "      <th>AgeState</th>\n",
       "      <th>FamilySize</th>\n",
       "      <th>IsMother</th>\n",
       "      <th>Deck</th>\n",
       "      <th>IsMale</th>\n",
       "    </tr>\n",
       "    <tr>\n",
       "      <th>PassengerId</th>\n",
       "      <th></th>\n",
       "      <th></th>\n",
       "      <th></th>\n",
       "      <th></th>\n",
       "      <th></th>\n",
       "      <th></th>\n",
       "      <th></th>\n",
       "      <th></th>\n",
       "      <th></th>\n",
       "      <th></th>\n",
       "      <th></th>\n",
       "      <th></th>\n",
       "      <th></th>\n",
       "      <th></th>\n",
       "      <th></th>\n",
       "      <th></th>\n",
       "      <th></th>\n",
       "      <th></th>\n",
       "    </tr>\n",
       "  </thead>\n",
       "  <tbody>\n",
       "    <tr>\n",
       "      <th>1</th>\n",
       "      <td>0</td>\n",
       "      <td>3</td>\n",
       "      <td>Braund, Mr. Owen Harris</td>\n",
       "      <td>male</td>\n",
       "      <td>22.0</td>\n",
       "      <td>1</td>\n",
       "      <td>0</td>\n",
       "      <td>A/5 21171</td>\n",
       "      <td>7.2500</td>\n",
       "      <td>NaN</td>\n",
       "      <td>S</td>\n",
       "      <td>Mr</td>\n",
       "      <td>very_low</td>\n",
       "      <td>Adult</td>\n",
       "      <td>2</td>\n",
       "      <td>0</td>\n",
       "      <td>Z</td>\n",
       "      <td>1</td>\n",
       "    </tr>\n",
       "    <tr>\n",
       "      <th>2</th>\n",
       "      <td>1</td>\n",
       "      <td>1</td>\n",
       "      <td>Cumings, Mrs. John Bradley (Florence Briggs Th...</td>\n",
       "      <td>female</td>\n",
       "      <td>38.0</td>\n",
       "      <td>1</td>\n",
       "      <td>0</td>\n",
       "      <td>PC 17599</td>\n",
       "      <td>71.2833</td>\n",
       "      <td>C85</td>\n",
       "      <td>C</td>\n",
       "      <td>Mrs</td>\n",
       "      <td>very_high</td>\n",
       "      <td>Adult</td>\n",
       "      <td>2</td>\n",
       "      <td>0</td>\n",
       "      <td>C</td>\n",
       "      <td>0</td>\n",
       "    </tr>\n",
       "    <tr>\n",
       "      <th>3</th>\n",
       "      <td>1</td>\n",
       "      <td>3</td>\n",
       "      <td>Heikkinen, Miss. Laina</td>\n",
       "      <td>female</td>\n",
       "      <td>26.0</td>\n",
       "      <td>0</td>\n",
       "      <td>0</td>\n",
       "      <td>STON/O2. 3101282</td>\n",
       "      <td>7.9250</td>\n",
       "      <td>NaN</td>\n",
       "      <td>S</td>\n",
       "      <td>Miss</td>\n",
       "      <td>low</td>\n",
       "      <td>Adult</td>\n",
       "      <td>1</td>\n",
       "      <td>0</td>\n",
       "      <td>Z</td>\n",
       "      <td>0</td>\n",
       "    </tr>\n",
       "    <tr>\n",
       "      <th>4</th>\n",
       "      <td>1</td>\n",
       "      <td>1</td>\n",
       "      <td>Futrelle, Mrs. Jacques Heath (Lily May Peel)</td>\n",
       "      <td>female</td>\n",
       "      <td>35.0</td>\n",
       "      <td>1</td>\n",
       "      <td>0</td>\n",
       "      <td>113803</td>\n",
       "      <td>53.1000</td>\n",
       "      <td>C123</td>\n",
       "      <td>S</td>\n",
       "      <td>Mrs</td>\n",
       "      <td>very_high</td>\n",
       "      <td>Adult</td>\n",
       "      <td>2</td>\n",
       "      <td>0</td>\n",
       "      <td>C</td>\n",
       "      <td>0</td>\n",
       "    </tr>\n",
       "    <tr>\n",
       "      <th>5</th>\n",
       "      <td>0</td>\n",
       "      <td>3</td>\n",
       "      <td>Allen, Mr. William Henry</td>\n",
       "      <td>male</td>\n",
       "      <td>35.0</td>\n",
       "      <td>0</td>\n",
       "      <td>0</td>\n",
       "      <td>373450</td>\n",
       "      <td>8.0500</td>\n",
       "      <td>NaN</td>\n",
       "      <td>S</td>\n",
       "      <td>Mr</td>\n",
       "      <td>low</td>\n",
       "      <td>Adult</td>\n",
       "      <td>1</td>\n",
       "      <td>0</td>\n",
       "      <td>Z</td>\n",
       "      <td>1</td>\n",
       "    </tr>\n",
       "  </tbody>\n",
       "</table>\n",
       "</div>"
      ],
      "text/plain": [
       "             Survived  Pclass  \\\n",
       "PassengerId                     \n",
       "1                   0       3   \n",
       "2                   1       1   \n",
       "3                   1       3   \n",
       "4                   1       1   \n",
       "5                   0       3   \n",
       "\n",
       "                                                          Name     Sex   Age  \\\n",
       "PassengerId                                                                    \n",
       "1                                      Braund, Mr. Owen Harris    male  22.0   \n",
       "2            Cumings, Mrs. John Bradley (Florence Briggs Th...  female  38.0   \n",
       "3                                       Heikkinen, Miss. Laina  female  26.0   \n",
       "4                 Futrelle, Mrs. Jacques Heath (Lily May Peel)  female  35.0   \n",
       "5                                     Allen, Mr. William Henry    male  35.0   \n",
       "\n",
       "             SibSp  Parch            Ticket     Fare Cabin Embarked Title  \\\n",
       "PassengerId                                                                 \n",
       "1                1      0         A/5 21171   7.2500   NaN        S    Mr   \n",
       "2                1      0          PC 17599  71.2833   C85        C   Mrs   \n",
       "3                0      0  STON/O2. 3101282   7.9250   NaN        S  Miss   \n",
       "4                1      0            113803  53.1000  C123        S   Mrs   \n",
       "5                0      0            373450   8.0500   NaN        S    Mr   \n",
       "\n",
       "              Fare_Bin AgeState  FamilySize  IsMother Deck  IsMale  \n",
       "PassengerId                                                         \n",
       "1             very_low    Adult           2         0    Z       1  \n",
       "2            very_high    Adult           2         0    C       0  \n",
       "3                  low    Adult           1         0    Z       0  \n",
       "4            very_high    Adult           2         0    C       0  \n",
       "5                  low    Adult           1         0    Z       1  "
      ]
     },
     "execution_count": 51,
     "metadata": {},
     "output_type": "execute_result"
    }
   ],
   "source": [
    "df.head()"
   ]
  },
  {
   "cell_type": "code",
   "execution_count": 52,
   "id": "ff54c568",
   "metadata": {
    "execution": {
     "iopub.execute_input": "2023-06-06T18:02:52.232153Z",
     "iopub.status.busy": "2023-06-06T18:02:52.231669Z",
     "iopub.status.idle": "2023-06-06T18:02:52.264783Z",
     "shell.execute_reply": "2023-06-06T18:02:52.262643Z"
    },
    "papermill": {
     "duration": 0.080325,
     "end_time": "2023-06-06T18:02:52.267913",
     "exception": false,
     "start_time": "2023-06-06T18:02:52.187588",
     "status": "completed"
    },
    "tags": []
   },
   "outputs": [
    {
     "name": "stdout",
     "output_type": "stream",
     "text": [
      "<class 'pandas.core.frame.DataFrame'>\n",
      "Int64Index: 1309 entries, 1 to 1309\n",
      "Data columns (total 39 columns):\n",
      " #   Column              Non-Null Count  Dtype  \n",
      "---  ------              --------------  -----  \n",
      " 0   Survived            1309 non-null   int64  \n",
      " 1   Name                1309 non-null   object \n",
      " 2   Sex                 1309 non-null   object \n",
      " 3   Age                 1309 non-null   float64\n",
      " 4   SibSp               1309 non-null   int64  \n",
      " 5   Parch               1309 non-null   int64  \n",
      " 6   Ticket              1309 non-null   object \n",
      " 7   Fare                1309 non-null   float64\n",
      " 8   Cabin               294 non-null    object \n",
      " 9   FamilySize          1309 non-null   int64  \n",
      " 10  IsMother            1309 non-null   int64  \n",
      " 11  IsMale              1309 non-null   int64  \n",
      " 12  Deck_A              1309 non-null   uint8  \n",
      " 13  Deck_B              1309 non-null   uint8  \n",
      " 14  Deck_C              1309 non-null   uint8  \n",
      " 15  Deck_D              1309 non-null   uint8  \n",
      " 16  Deck_E              1309 non-null   uint8  \n",
      " 17  Deck_F              1309 non-null   uint8  \n",
      " 18  Deck_G              1309 non-null   uint8  \n",
      " 19  Deck_Z              1309 non-null   uint8  \n",
      " 20  Pclass_1            1309 non-null   uint8  \n",
      " 21  Pclass_2            1309 non-null   uint8  \n",
      " 22  Pclass_3            1309 non-null   uint8  \n",
      " 23  Title_Lady          1309 non-null   uint8  \n",
      " 24  Title_Master        1309 non-null   uint8  \n",
      " 25  Title_Miss          1309 non-null   uint8  \n",
      " 26  Title_Mr            1309 non-null   uint8  \n",
      " 27  Title_Mrs           1309 non-null   uint8  \n",
      " 28  Title_Officer       1309 non-null   uint8  \n",
      " 29  Title_Sir           1309 non-null   uint8  \n",
      " 30  Fare_Bin_very_low   1309 non-null   uint8  \n",
      " 31  Fare_Bin_low        1309 non-null   uint8  \n",
      " 32  Fare_Bin_high       1309 non-null   uint8  \n",
      " 33  Fare_Bin_very_high  1309 non-null   uint8  \n",
      " 34  Embarked_C          1309 non-null   uint8  \n",
      " 35  Embarked_Q          1309 non-null   uint8  \n",
      " 36  Embarked_S          1309 non-null   uint8  \n",
      " 37  AgeState_Adult      1309 non-null   uint8  \n",
      " 38  AgeState_Child      1309 non-null   uint8  \n",
      "dtypes: float64(2), int64(6), object(4), uint8(27)\n",
      "memory usage: 167.5+ KB\n",
      "None\n"
     ]
    }
   ],
   "source": [
    "#one hot encoding\n",
    "df = pd.get_dummies(df, columns = ['Deck','Pclass','Title','Fare_Bin','Embarked','AgeState'])\n",
    "print(df.info())"
   ]
  },
  {
   "cell_type": "code",
   "execution_count": 53,
   "id": "f79cec5e",
   "metadata": {
    "execution": {
     "iopub.execute_input": "2023-06-06T18:02:52.354774Z",
     "iopub.status.busy": "2023-06-06T18:02:52.353830Z",
     "iopub.status.idle": "2023-06-06T18:02:52.363334Z",
     "shell.execute_reply": "2023-06-06T18:02:52.362003Z"
    },
    "papermill": {
     "duration": 0.056794,
     "end_time": "2023-06-06T18:02:52.366661",
     "exception": false,
     "start_time": "2023-06-06T18:02:52.309867",
     "status": "completed"
    },
    "tags": []
   },
   "outputs": [],
   "source": [
    "#drop columns\n",
    "df.drop(['Cabin','Name','Ticket','Parch','SibSp','Sex'], axis=1, inplace=True)"
   ]
  },
  {
   "cell_type": "code",
   "execution_count": 54,
   "id": "66b63579",
   "metadata": {
    "execution": {
     "iopub.execute_input": "2023-06-06T18:02:52.451473Z",
     "iopub.status.busy": "2023-06-06T18:02:52.451040Z",
     "iopub.status.idle": "2023-06-06T18:02:52.458785Z",
     "shell.execute_reply": "2023-06-06T18:02:52.457388Z"
    },
    "papermill": {
     "duration": 0.053389,
     "end_time": "2023-06-06T18:02:52.461490",
     "exception": false,
     "start_time": "2023-06-06T18:02:52.408101",
     "status": "completed"
    },
    "tags": []
   },
   "outputs": [],
   "source": [
    "# Reorder columns\n",
    "columns = [column for column in df.columns if column!='Survived']\n",
    "columns = ['Survived']+columns\n",
    "df = df[columns]"
   ]
  },
  {
   "cell_type": "code",
   "execution_count": 55,
   "id": "83580e6a",
   "metadata": {
    "execution": {
     "iopub.execute_input": "2023-06-06T18:02:52.547361Z",
     "iopub.status.busy": "2023-06-06T18:02:52.546900Z",
     "iopub.status.idle": "2023-06-06T18:02:52.564294Z",
     "shell.execute_reply": "2023-06-06T18:02:52.562958Z"
    },
    "papermill": {
     "duration": 0.06481,
     "end_time": "2023-06-06T18:02:52.568491",
     "exception": false,
     "start_time": "2023-06-06T18:02:52.503681",
     "status": "completed"
    },
    "tags": []
   },
   "outputs": [
    {
     "name": "stdout",
     "output_type": "stream",
     "text": [
      "<class 'pandas.core.frame.DataFrame'>\n",
      "Int64Index: 1309 entries, 1 to 1309\n",
      "Data columns (total 33 columns):\n",
      " #   Column              Non-Null Count  Dtype  \n",
      "---  ------              --------------  -----  \n",
      " 0   Survived            1309 non-null   int64  \n",
      " 1   Age                 1309 non-null   float64\n",
      " 2   Fare                1309 non-null   float64\n",
      " 3   FamilySize          1309 non-null   int64  \n",
      " 4   IsMother            1309 non-null   int64  \n",
      " 5   IsMale              1309 non-null   int64  \n",
      " 6   Deck_A              1309 non-null   uint8  \n",
      " 7   Deck_B              1309 non-null   uint8  \n",
      " 8   Deck_C              1309 non-null   uint8  \n",
      " 9   Deck_D              1309 non-null   uint8  \n",
      " 10  Deck_E              1309 non-null   uint8  \n",
      " 11  Deck_F              1309 non-null   uint8  \n",
      " 12  Deck_G              1309 non-null   uint8  \n",
      " 13  Deck_Z              1309 non-null   uint8  \n",
      " 14  Pclass_1            1309 non-null   uint8  \n",
      " 15  Pclass_2            1309 non-null   uint8  \n",
      " 16  Pclass_3            1309 non-null   uint8  \n",
      " 17  Title_Lady          1309 non-null   uint8  \n",
      " 18  Title_Master        1309 non-null   uint8  \n",
      " 19  Title_Miss          1309 non-null   uint8  \n",
      " 20  Title_Mr            1309 non-null   uint8  \n",
      " 21  Title_Mrs           1309 non-null   uint8  \n",
      " 22  Title_Officer       1309 non-null   uint8  \n",
      " 23  Title_Sir           1309 non-null   uint8  \n",
      " 24  Fare_Bin_very_low   1309 non-null   uint8  \n",
      " 25  Fare_Bin_low        1309 non-null   uint8  \n",
      " 26  Fare_Bin_high       1309 non-null   uint8  \n",
      " 27  Fare_Bin_very_high  1309 non-null   uint8  \n",
      " 28  Embarked_C          1309 non-null   uint8  \n",
      " 29  Embarked_Q          1309 non-null   uint8  \n",
      " 30  Embarked_S          1309 non-null   uint8  \n",
      " 31  AgeState_Adult      1309 non-null   uint8  \n",
      " 32  AgeState_Child      1309 non-null   uint8  \n",
      "dtypes: float64(2), int64(4), uint8(27)\n",
      "memory usage: 106.1 KB\n"
     ]
    }
   ],
   "source": [
    "df.info()"
   ]
  },
  {
   "cell_type": "code",
   "execution_count": 56,
   "id": "4417dc43",
   "metadata": {
    "execution": {
     "iopub.execute_input": "2023-06-06T18:02:52.655152Z",
     "iopub.status.busy": "2023-06-06T18:02:52.654260Z",
     "iopub.status.idle": "2023-06-06T18:02:52.682631Z",
     "shell.execute_reply": "2023-06-06T18:02:52.681596Z"
    },
    "papermill": {
     "duration": 0.075345,
     "end_time": "2023-06-06T18:02:52.685761",
     "exception": false,
     "start_time": "2023-06-06T18:02:52.610416",
     "status": "completed"
    },
    "tags": []
   },
   "outputs": [
    {
     "data": {
      "text/html": [
       "<div>\n",
       "<style scoped>\n",
       "    .dataframe tbody tr th:only-of-type {\n",
       "        vertical-align: middle;\n",
       "    }\n",
       "\n",
       "    .dataframe tbody tr th {\n",
       "        vertical-align: top;\n",
       "    }\n",
       "\n",
       "    .dataframe thead th {\n",
       "        text-align: right;\n",
       "    }\n",
       "</style>\n",
       "<table border=\"1\" class=\"dataframe\">\n",
       "  <thead>\n",
       "    <tr style=\"text-align: right;\">\n",
       "      <th></th>\n",
       "      <th>Survived</th>\n",
       "      <th>Age</th>\n",
       "      <th>Fare</th>\n",
       "      <th>FamilySize</th>\n",
       "      <th>IsMother</th>\n",
       "      <th>IsMale</th>\n",
       "      <th>Deck_A</th>\n",
       "      <th>Deck_B</th>\n",
       "      <th>Deck_C</th>\n",
       "      <th>Deck_D</th>\n",
       "      <th>...</th>\n",
       "      <th>Title_Sir</th>\n",
       "      <th>Fare_Bin_very_low</th>\n",
       "      <th>Fare_Bin_low</th>\n",
       "      <th>Fare_Bin_high</th>\n",
       "      <th>Fare_Bin_very_high</th>\n",
       "      <th>Embarked_C</th>\n",
       "      <th>Embarked_Q</th>\n",
       "      <th>Embarked_S</th>\n",
       "      <th>AgeState_Adult</th>\n",
       "      <th>AgeState_Child</th>\n",
       "    </tr>\n",
       "    <tr>\n",
       "      <th>PassengerId</th>\n",
       "      <th></th>\n",
       "      <th></th>\n",
       "      <th></th>\n",
       "      <th></th>\n",
       "      <th></th>\n",
       "      <th></th>\n",
       "      <th></th>\n",
       "      <th></th>\n",
       "      <th></th>\n",
       "      <th></th>\n",
       "      <th></th>\n",
       "      <th></th>\n",
       "      <th></th>\n",
       "      <th></th>\n",
       "      <th></th>\n",
       "      <th></th>\n",
       "      <th></th>\n",
       "      <th></th>\n",
       "      <th></th>\n",
       "      <th></th>\n",
       "      <th></th>\n",
       "    </tr>\n",
       "  </thead>\n",
       "  <tbody>\n",
       "    <tr>\n",
       "      <th>1</th>\n",
       "      <td>0</td>\n",
       "      <td>22.0</td>\n",
       "      <td>7.2500</td>\n",
       "      <td>2</td>\n",
       "      <td>0</td>\n",
       "      <td>1</td>\n",
       "      <td>0</td>\n",
       "      <td>0</td>\n",
       "      <td>0</td>\n",
       "      <td>0</td>\n",
       "      <td>...</td>\n",
       "      <td>0</td>\n",
       "      <td>1</td>\n",
       "      <td>0</td>\n",
       "      <td>0</td>\n",
       "      <td>0</td>\n",
       "      <td>0</td>\n",
       "      <td>0</td>\n",
       "      <td>1</td>\n",
       "      <td>1</td>\n",
       "      <td>0</td>\n",
       "    </tr>\n",
       "    <tr>\n",
       "      <th>2</th>\n",
       "      <td>1</td>\n",
       "      <td>38.0</td>\n",
       "      <td>71.2833</td>\n",
       "      <td>2</td>\n",
       "      <td>0</td>\n",
       "      <td>0</td>\n",
       "      <td>0</td>\n",
       "      <td>0</td>\n",
       "      <td>1</td>\n",
       "      <td>0</td>\n",
       "      <td>...</td>\n",
       "      <td>0</td>\n",
       "      <td>0</td>\n",
       "      <td>0</td>\n",
       "      <td>0</td>\n",
       "      <td>1</td>\n",
       "      <td>1</td>\n",
       "      <td>0</td>\n",
       "      <td>0</td>\n",
       "      <td>1</td>\n",
       "      <td>0</td>\n",
       "    </tr>\n",
       "    <tr>\n",
       "      <th>3</th>\n",
       "      <td>1</td>\n",
       "      <td>26.0</td>\n",
       "      <td>7.9250</td>\n",
       "      <td>1</td>\n",
       "      <td>0</td>\n",
       "      <td>0</td>\n",
       "      <td>0</td>\n",
       "      <td>0</td>\n",
       "      <td>0</td>\n",
       "      <td>0</td>\n",
       "      <td>...</td>\n",
       "      <td>0</td>\n",
       "      <td>0</td>\n",
       "      <td>1</td>\n",
       "      <td>0</td>\n",
       "      <td>0</td>\n",
       "      <td>0</td>\n",
       "      <td>0</td>\n",
       "      <td>1</td>\n",
       "      <td>1</td>\n",
       "      <td>0</td>\n",
       "    </tr>\n",
       "    <tr>\n",
       "      <th>4</th>\n",
       "      <td>1</td>\n",
       "      <td>35.0</td>\n",
       "      <td>53.1000</td>\n",
       "      <td>2</td>\n",
       "      <td>0</td>\n",
       "      <td>0</td>\n",
       "      <td>0</td>\n",
       "      <td>0</td>\n",
       "      <td>1</td>\n",
       "      <td>0</td>\n",
       "      <td>...</td>\n",
       "      <td>0</td>\n",
       "      <td>0</td>\n",
       "      <td>0</td>\n",
       "      <td>0</td>\n",
       "      <td>1</td>\n",
       "      <td>0</td>\n",
       "      <td>0</td>\n",
       "      <td>1</td>\n",
       "      <td>1</td>\n",
       "      <td>0</td>\n",
       "    </tr>\n",
       "    <tr>\n",
       "      <th>5</th>\n",
       "      <td>0</td>\n",
       "      <td>35.0</td>\n",
       "      <td>8.0500</td>\n",
       "      <td>1</td>\n",
       "      <td>0</td>\n",
       "      <td>1</td>\n",
       "      <td>0</td>\n",
       "      <td>0</td>\n",
       "      <td>0</td>\n",
       "      <td>0</td>\n",
       "      <td>...</td>\n",
       "      <td>0</td>\n",
       "      <td>0</td>\n",
       "      <td>1</td>\n",
       "      <td>0</td>\n",
       "      <td>0</td>\n",
       "      <td>0</td>\n",
       "      <td>0</td>\n",
       "      <td>1</td>\n",
       "      <td>1</td>\n",
       "      <td>0</td>\n",
       "    </tr>\n",
       "  </tbody>\n",
       "</table>\n",
       "<p>5 rows × 33 columns</p>\n",
       "</div>"
      ],
      "text/plain": [
       "             Survived   Age     Fare  FamilySize  IsMother  IsMale  Deck_A  \\\n",
       "PassengerId                                                                  \n",
       "1                   0  22.0   7.2500           2         0       1       0   \n",
       "2                   1  38.0  71.2833           2         0       0       0   \n",
       "3                   1  26.0   7.9250           1         0       0       0   \n",
       "4                   1  35.0  53.1000           2         0       0       0   \n",
       "5                   0  35.0   8.0500           1         0       1       0   \n",
       "\n",
       "             Deck_B  Deck_C  Deck_D  ...  Title_Sir  Fare_Bin_very_low  \\\n",
       "PassengerId                          ...                                 \n",
       "1                 0       0       0  ...          0                  1   \n",
       "2                 0       1       0  ...          0                  0   \n",
       "3                 0       0       0  ...          0                  0   \n",
       "4                 0       1       0  ...          0                  0   \n",
       "5                 0       0       0  ...          0                  0   \n",
       "\n",
       "             Fare_Bin_low  Fare_Bin_high  Fare_Bin_very_high  Embarked_C  \\\n",
       "PassengerId                                                                \n",
       "1                       0              0                   0           0   \n",
       "2                       0              0                   1           1   \n",
       "3                       1              0                   0           0   \n",
       "4                       0              0                   1           0   \n",
       "5                       1              0                   0           0   \n",
       "\n",
       "             Embarked_Q  Embarked_S  AgeState_Adult  AgeState_Child  \n",
       "PassengerId                                                          \n",
       "1                     0           1               1               0  \n",
       "2                     0           0               1               0  \n",
       "3                     0           1               1               0  \n",
       "4                     0           1               1               0  \n",
       "5                     0           1               1               0  \n",
       "\n",
       "[5 rows x 33 columns]"
      ]
     },
     "execution_count": 56,
     "metadata": {},
     "output_type": "execute_result"
    }
   ],
   "source": [
    "df.head()"
   ]
  },
  {
   "cell_type": "code",
   "execution_count": 57,
   "id": "e88e2c31",
   "metadata": {
    "execution": {
     "iopub.execute_input": "2023-06-06T18:02:52.776496Z",
     "iopub.status.busy": "2023-06-06T18:02:52.775998Z",
     "iopub.status.idle": "2023-06-06T18:02:52.809760Z",
     "shell.execute_reply": "2023-06-06T18:02:52.808076Z"
    },
    "papermill": {
     "duration": 0.083626,
     "end_time": "2023-06-06T18:02:52.812965",
     "exception": false,
     "start_time": "2023-06-06T18:02:52.729339",
     "status": "completed"
    },
    "tags": []
   },
   "outputs": [],
   "source": [
    "import os\n",
    "\n",
    "processed_data_path = \"/kaggle/working/data/processed\"\n",
    "os.makedirs(processed_data_path, exist_ok=True)\n",
    "\n",
    "# Save the processed train dataset\n",
    "train_df = df.loc[df.Survived != -888]\n",
    "train_path = os.path.join(processed_data_path, \"train.csv\")\n",
    "train_df.to_csv(train_path)\n",
    "\n",
    "# Save the processed test dataset\n",
    "test_df = df.loc[df.Survived == -888]\n",
    "test_path = os.path.join(processed_data_path, \"test.csv\")\n",
    "test_df.drop(\"Survived\", axis=1).to_csv(test_path)"
   ]
  },
  {
   "cell_type": "code",
   "execution_count": 58,
   "id": "cd458a8b",
   "metadata": {
    "execution": {
     "iopub.execute_input": "2023-06-06T18:02:52.901465Z",
     "iopub.status.busy": "2023-06-06T18:02:52.900980Z",
     "iopub.status.idle": "2023-06-06T18:02:52.921795Z",
     "shell.execute_reply": "2023-06-06T18:02:52.920393Z"
    },
    "papermill": {
     "duration": 0.068421,
     "end_time": "2023-06-06T18:02:52.925110",
     "exception": false,
     "start_time": "2023-06-06T18:02:52.856689",
     "status": "completed"
    },
    "tags": []
   },
   "outputs": [],
   "source": [
    "import pandas as pd\n",
    "\n",
    "# Read the train dataset\n",
    "train_path = \"/kaggle/working/data/processed/train.csv\"\n",
    "train_df = pd.read_csv(train_path, index_col='PassengerId')\n",
    "\n",
    "# Read the test dataset\n",
    "test_path = \"/kaggle/working/data/processed/test.csv\"\n",
    "test_df = pd.read_csv(test_path, index_col='PassengerId')"
   ]
  },
  {
   "cell_type": "code",
   "execution_count": 59,
   "id": "02df802d",
   "metadata": {
    "execution": {
     "iopub.execute_input": "2023-06-06T18:02:53.017892Z",
     "iopub.status.busy": "2023-06-06T18:02:53.016977Z",
     "iopub.status.idle": "2023-06-06T18:02:53.037134Z",
     "shell.execute_reply": "2023-06-06T18:02:53.034929Z"
    },
    "papermill": {
     "duration": 0.071167,
     "end_time": "2023-06-06T18:02:53.039850",
     "exception": false,
     "start_time": "2023-06-06T18:02:52.968683",
     "status": "completed"
    },
    "tags": []
   },
   "outputs": [
    {
     "name": "stdout",
     "output_type": "stream",
     "text": [
      "<class 'pandas.core.frame.DataFrame'>\n",
      "Int64Index: 891 entries, 1 to 891\n",
      "Data columns (total 33 columns):\n",
      " #   Column              Non-Null Count  Dtype  \n",
      "---  ------              --------------  -----  \n",
      " 0   Survived            891 non-null    int64  \n",
      " 1   Age                 891 non-null    float64\n",
      " 2   Fare                891 non-null    float64\n",
      " 3   FamilySize          891 non-null    int64  \n",
      " 4   IsMother            891 non-null    int64  \n",
      " 5   IsMale              891 non-null    int64  \n",
      " 6   Deck_A              891 non-null    int64  \n",
      " 7   Deck_B              891 non-null    int64  \n",
      " 8   Deck_C              891 non-null    int64  \n",
      " 9   Deck_D              891 non-null    int64  \n",
      " 10  Deck_E              891 non-null    int64  \n",
      " 11  Deck_F              891 non-null    int64  \n",
      " 12  Deck_G              891 non-null    int64  \n",
      " 13  Deck_Z              891 non-null    int64  \n",
      " 14  Pclass_1            891 non-null    int64  \n",
      " 15  Pclass_2            891 non-null    int64  \n",
      " 16  Pclass_3            891 non-null    int64  \n",
      " 17  Title_Lady          891 non-null    int64  \n",
      " 18  Title_Master        891 non-null    int64  \n",
      " 19  Title_Miss          891 non-null    int64  \n",
      " 20  Title_Mr            891 non-null    int64  \n",
      " 21  Title_Mrs           891 non-null    int64  \n",
      " 22  Title_Officer       891 non-null    int64  \n",
      " 23  Title_Sir           891 non-null    int64  \n",
      " 24  Fare_Bin_very_low   891 non-null    int64  \n",
      " 25  Fare_Bin_low        891 non-null    int64  \n",
      " 26  Fare_Bin_high       891 non-null    int64  \n",
      " 27  Fare_Bin_very_high  891 non-null    int64  \n",
      " 28  Embarked_C          891 non-null    int64  \n",
      " 29  Embarked_Q          891 non-null    int64  \n",
      " 30  Embarked_S          891 non-null    int64  \n",
      " 31  AgeState_Adult      891 non-null    int64  \n",
      " 32  AgeState_Child      891 non-null    int64  \n",
      "dtypes: float64(2), int64(31)\n",
      "memory usage: 236.7 KB\n"
     ]
    }
   ],
   "source": [
    "train_df.info()"
   ]
  },
  {
   "cell_type": "code",
   "execution_count": 60,
   "id": "cbb7aecf",
   "metadata": {
    "execution": {
     "iopub.execute_input": "2023-06-06T18:02:53.127453Z",
     "iopub.status.busy": "2023-06-06T18:02:53.126987Z",
     "iopub.status.idle": "2023-06-06T18:02:53.144143Z",
     "shell.execute_reply": "2023-06-06T18:02:53.142801Z"
    },
    "papermill": {
     "duration": 0.065334,
     "end_time": "2023-06-06T18:02:53.148326",
     "exception": false,
     "start_time": "2023-06-06T18:02:53.082992",
     "status": "completed"
    },
    "tags": []
   },
   "outputs": [
    {
     "name": "stdout",
     "output_type": "stream",
     "text": [
      "<class 'pandas.core.frame.DataFrame'>\n",
      "Int64Index: 418 entries, 892 to 1309\n",
      "Data columns (total 32 columns):\n",
      " #   Column              Non-Null Count  Dtype  \n",
      "---  ------              --------------  -----  \n",
      " 0   Age                 418 non-null    float64\n",
      " 1   Fare                418 non-null    float64\n",
      " 2   FamilySize          418 non-null    int64  \n",
      " 3   IsMother            418 non-null    int64  \n",
      " 4   IsMale              418 non-null    int64  \n",
      " 5   Deck_A              418 non-null    int64  \n",
      " 6   Deck_B              418 non-null    int64  \n",
      " 7   Deck_C              418 non-null    int64  \n",
      " 8   Deck_D              418 non-null    int64  \n",
      " 9   Deck_E              418 non-null    int64  \n",
      " 10  Deck_F              418 non-null    int64  \n",
      " 11  Deck_G              418 non-null    int64  \n",
      " 12  Deck_Z              418 non-null    int64  \n",
      " 13  Pclass_1            418 non-null    int64  \n",
      " 14  Pclass_2            418 non-null    int64  \n",
      " 15  Pclass_3            418 non-null    int64  \n",
      " 16  Title_Lady          418 non-null    int64  \n",
      " 17  Title_Master        418 non-null    int64  \n",
      " 18  Title_Miss          418 non-null    int64  \n",
      " 19  Title_Mr            418 non-null    int64  \n",
      " 20  Title_Mrs           418 non-null    int64  \n",
      " 21  Title_Officer       418 non-null    int64  \n",
      " 22  Title_Sir           418 non-null    int64  \n",
      " 23  Fare_Bin_very_low   418 non-null    int64  \n",
      " 24  Fare_Bin_low        418 non-null    int64  \n",
      " 25  Fare_Bin_high       418 non-null    int64  \n",
      " 26  Fare_Bin_very_high  418 non-null    int64  \n",
      " 27  Embarked_C          418 non-null    int64  \n",
      " 28  Embarked_Q          418 non-null    int64  \n",
      " 29  Embarked_S          418 non-null    int64  \n",
      " 30  AgeState_Adult      418 non-null    int64  \n",
      " 31  AgeState_Child      418 non-null    int64  \n",
      "dtypes: float64(2), int64(30)\n",
      "memory usage: 107.8 KB\n"
     ]
    }
   ],
   "source": [
    "test_df.info()"
   ]
  },
  {
   "cell_type": "code",
   "execution_count": 61,
   "id": "8db53a10",
   "metadata": {
    "execution": {
     "iopub.execute_input": "2023-06-06T18:02:53.237766Z",
     "iopub.status.busy": "2023-06-06T18:02:53.237311Z",
     "iopub.status.idle": "2023-06-06T18:02:53.245722Z",
     "shell.execute_reply": "2023-06-06T18:02:53.244230Z"
    },
    "papermill": {
     "duration": 0.056825,
     "end_time": "2023-06-06T18:02:53.248659",
     "exception": false,
     "start_time": "2023-06-06T18:02:53.191834",
     "status": "completed"
    },
    "tags": []
   },
   "outputs": [],
   "source": [
    "import pandas as pd\n",
    "import os\n",
    "import numpy as np\n",
    "\n",
    "X = train_df.loc[:,'Age':].to_numpy().astype('float')\n",
    "y = train_df['Survived'].ravel()"
   ]
  },
  {
   "cell_type": "code",
   "execution_count": 62,
   "id": "dad0bc09",
   "metadata": {
    "execution": {
     "iopub.execute_input": "2023-06-06T18:02:53.339139Z",
     "iopub.status.busy": "2023-06-06T18:02:53.338686Z",
     "iopub.status.idle": "2023-06-06T18:02:53.345332Z",
     "shell.execute_reply": "2023-06-06T18:02:53.343710Z"
    },
    "papermill": {
     "duration": 0.054612,
     "end_time": "2023-06-06T18:02:53.348828",
     "exception": false,
     "start_time": "2023-06-06T18:02:53.294216",
     "status": "completed"
    },
    "tags": []
   },
   "outputs": [
    {
     "name": "stdout",
     "output_type": "stream",
     "text": [
      "(891, 32) (891,)\n"
     ]
    }
   ],
   "source": [
    "print(X.shape, y.shape)"
   ]
  },
  {
   "cell_type": "code",
   "execution_count": 63,
   "id": "08f92db4",
   "metadata": {
    "execution": {
     "iopub.execute_input": "2023-06-06T18:02:53.436832Z",
     "iopub.status.busy": "2023-06-06T18:02:53.435795Z",
     "iopub.status.idle": "2023-06-06T18:02:54.722720Z",
     "shell.execute_reply": "2023-06-06T18:02:54.721589Z"
    },
    "papermill": {
     "duration": 1.334889,
     "end_time": "2023-06-06T18:02:54.726324",
     "exception": false,
     "start_time": "2023-06-06T18:02:53.391435",
     "status": "completed"
    },
    "tags": []
   },
   "outputs": [
    {
     "name": "stdout",
     "output_type": "stream",
     "text": [
      "(712, 32) (712,)\n",
      "(179, 32) (179,)\n"
     ]
    }
   ],
   "source": [
    "from sklearn.model_selection import train_test_split\n",
    "X_train, X_test, y_train, y_test = train_test_split(X, y, test_size=0.2, random_state=0)\n",
    "print(X_train.shape, y_train.shape)\n",
    "print(X_test.shape, y_test.shape)"
   ]
  },
  {
   "cell_type": "code",
   "execution_count": 64,
   "id": "30cb1b1d",
   "metadata": {
    "execution": {
     "iopub.execute_input": "2023-06-06T18:02:54.817348Z",
     "iopub.status.busy": "2023-06-06T18:02:54.816519Z",
     "iopub.status.idle": "2023-06-06T18:02:54.823773Z",
     "shell.execute_reply": "2023-06-06T18:02:54.822210Z"
    },
    "papermill": {
     "duration": 0.054344,
     "end_time": "2023-06-06T18:02:54.826491",
     "exception": false,
     "start_time": "2023-06-06T18:02:54.772147",
     "status": "completed"
    },
    "tags": []
   },
   "outputs": [
    {
     "name": "stdout",
     "output_type": "stream",
     "text": [
      "mean survival in train : 0.383\n",
      "mean survival in test : 0.385\n"
     ]
    }
   ],
   "source": [
    "print('mean survival in train : {0:.3f}'.format(np.mean(y_train)))\n",
    "print('mean survival in test : {0:.3f}'.format(np.mean(y_test)))\n"
   ]
  },
  {
   "cell_type": "code",
   "execution_count": 65,
   "id": "8b687435",
   "metadata": {
    "execution": {
     "iopub.execute_input": "2023-06-06T18:02:54.917847Z",
     "iopub.status.busy": "2023-06-06T18:02:54.917374Z",
     "iopub.status.idle": "2023-06-06T18:02:54.922970Z",
     "shell.execute_reply": "2023-06-06T18:02:54.921460Z"
    },
    "papermill": {
     "duration": 0.05498,
     "end_time": "2023-06-06T18:02:54.925791",
     "exception": false,
     "start_time": "2023-06-06T18:02:54.870811",
     "status": "completed"
    },
    "tags": []
   },
   "outputs": [],
   "source": [
    " import sklearn"
   ]
  },
  {
   "cell_type": "code",
   "execution_count": 66,
   "id": "dabb488d",
   "metadata": {
    "execution": {
     "iopub.execute_input": "2023-06-06T18:02:55.015653Z",
     "iopub.status.busy": "2023-06-06T18:02:55.015193Z",
     "iopub.status.idle": "2023-06-06T18:02:55.027445Z",
     "shell.execute_reply": "2023-06-06T18:02:55.025593Z"
    },
    "papermill": {
     "duration": 0.060382,
     "end_time": "2023-06-06T18:02:55.030552",
     "exception": false,
     "start_time": "2023-06-06T18:02:54.970170",
     "status": "completed"
    },
    "tags": []
   },
   "outputs": [],
   "source": [
    "from sklearn.dummy import DummyClassifier"
   ]
  },
  {
   "cell_type": "code",
   "execution_count": 67,
   "id": "145fa065",
   "metadata": {
    "execution": {
     "iopub.execute_input": "2023-06-06T18:02:55.119387Z",
     "iopub.status.busy": "2023-06-06T18:02:55.118891Z",
     "iopub.status.idle": "2023-06-06T18:02:55.124679Z",
     "shell.execute_reply": "2023-06-06T18:02:55.123382Z"
    },
    "papermill": {
     "duration": 0.053197,
     "end_time": "2023-06-06T18:02:55.127488",
     "exception": false,
     "start_time": "2023-06-06T18:02:55.074291",
     "status": "completed"
    },
    "tags": []
   },
   "outputs": [],
   "source": [
    "model_dummy = DummyClassifier(strategy='most_frequent',random_state=0)"
   ]
  },
  {
   "cell_type": "code",
   "execution_count": 68,
   "id": "52a07156",
   "metadata": {
    "execution": {
     "iopub.execute_input": "2023-06-06T18:02:55.215826Z",
     "iopub.status.busy": "2023-06-06T18:02:55.215392Z",
     "iopub.status.idle": "2023-06-06T18:02:55.229305Z",
     "shell.execute_reply": "2023-06-06T18:02:55.228237Z"
    },
    "papermill": {
     "duration": 0.061616,
     "end_time": "2023-06-06T18:02:55.232110",
     "exception": false,
     "start_time": "2023-06-06T18:02:55.170494",
     "status": "completed"
    },
    "tags": []
   },
   "outputs": [
    {
     "data": {
      "text/plain": [
       "DummyClassifier(random_state=0, strategy='most_frequent')"
      ]
     },
     "execution_count": 68,
     "metadata": {},
     "output_type": "execute_result"
    }
   ],
   "source": [
    "model_dummy.fit(X_train, y_train)"
   ]
  },
  {
   "cell_type": "code",
   "execution_count": 69,
   "id": "8788e511",
   "metadata": {
    "execution": {
     "iopub.execute_input": "2023-06-06T18:02:55.324391Z",
     "iopub.status.busy": "2023-06-06T18:02:55.323938Z",
     "iopub.status.idle": "2023-06-06T18:02:55.331903Z",
     "shell.execute_reply": "2023-06-06T18:02:55.330139Z"
    },
    "papermill": {
     "duration": 0.057227,
     "end_time": "2023-06-06T18:02:55.334898",
     "exception": false,
     "start_time": "2023-06-06T18:02:55.277671",
     "status": "completed"
    },
    "tags": []
   },
   "outputs": [
    {
     "name": "stdout",
     "output_type": "stream",
     "text": [
      "score for baseline model : 0.61\n"
     ]
    }
   ],
   "source": [
    "print('score for baseline model : {0:.2f}'.format(model_dummy.score(X_test, y_test)))"
   ]
  },
  {
   "cell_type": "code",
   "execution_count": 70,
   "id": "7fa3c8ba",
   "metadata": {
    "execution": {
     "iopub.execute_input": "2023-06-06T18:02:55.424874Z",
     "iopub.status.busy": "2023-06-06T18:02:55.424403Z",
     "iopub.status.idle": "2023-06-06T18:02:55.433464Z",
     "shell.execute_reply": "2023-06-06T18:02:55.432018Z"
    },
    "papermill": {
     "duration": 0.058472,
     "end_time": "2023-06-06T18:02:55.436393",
     "exception": false,
     "start_time": "2023-06-06T18:02:55.377921",
     "status": "completed"
    },
    "tags": []
   },
   "outputs": [
    {
     "name": "stdout",
     "output_type": "stream",
     "text": [
      "accuracy for baseline model : 0.61\n"
     ]
    }
   ],
   "source": [
    "from sklearn.metrics import accuracy_score, confusion_matrix, precision_score, recall_score\n",
    "print('accuracy for baseline model : {0:.2f}'.format(accuracy_score(y_test, model_dummy.predict(X_test))))"
   ]
  },
  {
   "cell_type": "code",
   "execution_count": 71,
   "id": "8763835f",
   "metadata": {
    "execution": {
     "iopub.execute_input": "2023-06-06T18:02:55.527237Z",
     "iopub.status.busy": "2023-06-06T18:02:55.525938Z",
     "iopub.status.idle": "2023-06-06T18:02:55.536901Z",
     "shell.execute_reply": "2023-06-06T18:02:55.534872Z"
    },
    "papermill": {
     "duration": 0.060052,
     "end_time": "2023-06-06T18:02:55.539905",
     "exception": false,
     "start_time": "2023-06-06T18:02:55.479853",
     "status": "completed"
    },
    "tags": []
   },
   "outputs": [
    {
     "name": "stdout",
     "output_type": "stream",
     "text": [
      "confusion matrix for baseline model: \n",
      " [[110   0]\n",
      " [ 69   0]]\n"
     ]
    }
   ],
   "source": [
    "print('confusion matrix for baseline model: \\n {0}'.format(confusion_matrix(y_test, model_dummy.predict(X_test))))"
   ]
  },
  {
   "cell_type": "code",
   "execution_count": 72,
   "id": "af666ced",
   "metadata": {
    "execution": {
     "iopub.execute_input": "2023-06-06T18:02:55.632747Z",
     "iopub.status.busy": "2023-06-06T18:02:55.632302Z",
     "iopub.status.idle": "2023-06-06T18:02:55.651156Z",
     "shell.execute_reply": "2023-06-06T18:02:55.649201Z"
    },
    "papermill": {
     "duration": 0.070135,
     "end_time": "2023-06-06T18:02:55.654926",
     "exception": false,
     "start_time": "2023-06-06T18:02:55.584791",
     "status": "completed"
    },
    "tags": []
   },
   "outputs": [
    {
     "name": "stdout",
     "output_type": "stream",
     "text": [
      "precision for baseline model : 0.00\n",
      "recall for baseline model : 0.00\n"
     ]
    },
    {
     "name": "stderr",
     "output_type": "stream",
     "text": [
      "/opt/conda/lib/python3.7/site-packages/sklearn/metrics/_classification.py:1318: UndefinedMetricWarning: Precision is ill-defined and being set to 0.0 due to no predicted samples. Use `zero_division` parameter to control this behavior.\n",
      "  _warn_prf(average, modifier, msg_start, len(result))\n"
     ]
    }
   ],
   "source": [
    "print('precision for baseline model : {0:.2f}'.format(precision_score(y_test, model_dummy.predict(X_test))))\n",
    "print('recall for baseline model : {0:.2f}'.format(recall_score(y_test, model_dummy.predict(X_test))))"
   ]
  },
  {
   "cell_type": "code",
   "execution_count": 73,
   "id": "5afd5dd2",
   "metadata": {
    "execution": {
     "iopub.execute_input": "2023-06-06T18:02:55.745524Z",
     "iopub.status.busy": "2023-06-06T18:02:55.745100Z",
     "iopub.status.idle": "2023-06-06T18:02:55.752101Z",
     "shell.execute_reply": "2023-06-06T18:02:55.750601Z"
    },
    "papermill": {
     "duration": 0.055377,
     "end_time": "2023-06-06T18:02:55.755007",
     "exception": false,
     "start_time": "2023-06-06T18:02:55.699630",
     "status": "completed"
    },
    "tags": []
   },
   "outputs": [],
   "source": [
    "test_X = test_df.to_numpy().astype('float')"
   ]
  },
  {
   "cell_type": "code",
   "execution_count": 74,
   "id": "947f3148",
   "metadata": {
    "execution": {
     "iopub.execute_input": "2023-06-06T18:02:55.847294Z",
     "iopub.status.busy": "2023-06-06T18:02:55.846012Z",
     "iopub.status.idle": "2023-06-06T18:02:55.852807Z",
     "shell.execute_reply": "2023-06-06T18:02:55.851769Z"
    },
    "papermill": {
     "duration": 0.055507,
     "end_time": "2023-06-06T18:02:55.855583",
     "exception": false,
     "start_time": "2023-06-06T18:02:55.800076",
     "status": "completed"
    },
    "tags": []
   },
   "outputs": [],
   "source": [
    "predictions = model_dummy.predict(test_X)"
   ]
  },
  {
   "cell_type": "code",
   "execution_count": 75,
   "id": "ab71dd63",
   "metadata": {
    "execution": {
     "iopub.execute_input": "2023-06-06T18:02:55.949279Z",
     "iopub.status.busy": "2023-06-06T18:02:55.948838Z",
     "iopub.status.idle": "2023-06-06T18:02:55.956123Z",
     "shell.execute_reply": "2023-06-06T18:02:55.954503Z"
    },
    "papermill": {
     "duration": 0.057713,
     "end_time": "2023-06-06T18:02:55.959239",
     "exception": false,
     "start_time": "2023-06-06T18:02:55.901526",
     "status": "completed"
    },
    "tags": []
   },
   "outputs": [],
   "source": [
    "df_submission = pd.DataFrame({'PassengerId': test_df.index, 'Survived' : predictions})"
   ]
  },
  {
   "cell_type": "code",
   "execution_count": 76,
   "id": "e079fe32",
   "metadata": {
    "execution": {
     "iopub.execute_input": "2023-06-06T18:02:56.051851Z",
     "iopub.status.busy": "2023-06-06T18:02:56.051381Z",
     "iopub.status.idle": "2023-06-06T18:02:56.063132Z",
     "shell.execute_reply": "2023-06-06T18:02:56.062017Z"
    },
    "papermill": {
     "duration": 0.062305,
     "end_time": "2023-06-06T18:02:56.065831",
     "exception": false,
     "start_time": "2023-06-06T18:02:56.003526",
     "status": "completed"
    },
    "tags": []
   },
   "outputs": [
    {
     "data": {
      "text/html": [
       "<div>\n",
       "<style scoped>\n",
       "    .dataframe tbody tr th:only-of-type {\n",
       "        vertical-align: middle;\n",
       "    }\n",
       "\n",
       "    .dataframe tbody tr th {\n",
       "        vertical-align: top;\n",
       "    }\n",
       "\n",
       "    .dataframe thead th {\n",
       "        text-align: right;\n",
       "    }\n",
       "</style>\n",
       "<table border=\"1\" class=\"dataframe\">\n",
       "  <thead>\n",
       "    <tr style=\"text-align: right;\">\n",
       "      <th></th>\n",
       "      <th>PassengerId</th>\n",
       "      <th>Survived</th>\n",
       "    </tr>\n",
       "  </thead>\n",
       "  <tbody>\n",
       "    <tr>\n",
       "      <th>0</th>\n",
       "      <td>892</td>\n",
       "      <td>0</td>\n",
       "    </tr>\n",
       "    <tr>\n",
       "      <th>1</th>\n",
       "      <td>893</td>\n",
       "      <td>0</td>\n",
       "    </tr>\n",
       "    <tr>\n",
       "      <th>2</th>\n",
       "      <td>894</td>\n",
       "      <td>0</td>\n",
       "    </tr>\n",
       "    <tr>\n",
       "      <th>3</th>\n",
       "      <td>895</td>\n",
       "      <td>0</td>\n",
       "    </tr>\n",
       "    <tr>\n",
       "      <th>4</th>\n",
       "      <td>896</td>\n",
       "      <td>0</td>\n",
       "    </tr>\n",
       "  </tbody>\n",
       "</table>\n",
       "</div>"
      ],
      "text/plain": [
       "   PassengerId  Survived\n",
       "0          892         0\n",
       "1          893         0\n",
       "2          894         0\n",
       "3          895         0\n",
       "4          896         0"
      ]
     },
     "execution_count": 76,
     "metadata": {},
     "output_type": "execute_result"
    }
   ],
   "source": [
    "df_submission.head()"
   ]
  },
  {
   "cell_type": "code",
   "execution_count": 77,
   "id": "c195795d",
   "metadata": {
    "execution": {
     "iopub.execute_input": "2023-06-06T18:02:56.155982Z",
     "iopub.status.busy": "2023-06-06T18:02:56.155487Z",
     "iopub.status.idle": "2023-06-06T18:02:56.162487Z",
     "shell.execute_reply": "2023-06-06T18:02:56.160964Z"
    },
    "papermill": {
     "duration": 0.055515,
     "end_time": "2023-06-06T18:02:56.165742",
     "exception": false,
     "start_time": "2023-06-06T18:02:56.110227",
     "status": "completed"
    },
    "tags": []
   },
   "outputs": [],
   "source": [
    "import os\n",
    "\n",
    "processed_data_path = \"/kaggle/working/data/external\"\n",
    "os.makedirs(processed_data_path, exist_ok=True)"
   ]
  },
  {
   "cell_type": "code",
   "execution_count": 78,
   "id": "d6eba2b2",
   "metadata": {
    "execution": {
     "iopub.execute_input": "2023-06-06T18:02:56.255525Z",
     "iopub.status.busy": "2023-06-06T18:02:56.255079Z",
     "iopub.status.idle": "2023-06-06T18:02:56.263533Z",
     "shell.execute_reply": "2023-06-06T18:02:56.262247Z"
    },
    "papermill": {
     "duration": 0.056327,
     "end_time": "2023-06-06T18:02:56.266586",
     "exception": false,
     "start_time": "2023-06-06T18:02:56.210259",
     "status": "completed"
    },
    "tags": []
   },
   "outputs": [],
   "source": [
    "submission_path = os.path.join(processed_data_path, \"submission.csv\")\n",
    "df_submission.to_csv(submission_path, index=False)"
   ]
  },
  {
   "cell_type": "code",
   "execution_count": 79,
   "id": "31ac9aaa",
   "metadata": {
    "execution": {
     "iopub.execute_input": "2023-06-06T18:02:56.356254Z",
     "iopub.status.busy": "2023-06-06T18:02:56.355794Z",
     "iopub.status.idle": "2023-06-06T18:02:56.488869Z",
     "shell.execute_reply": "2023-06-06T18:02:56.487527Z"
    },
    "papermill": {
     "duration": 0.181546,
     "end_time": "2023-06-06T18:02:56.491991",
     "exception": false,
     "start_time": "2023-06-06T18:02:56.310445",
     "status": "completed"
    },
    "tags": []
   },
   "outputs": [],
   "source": [
    "from sklearn.linear_model import LogisticRegression"
   ]
  },
  {
   "cell_type": "code",
   "execution_count": 80,
   "id": "850fa041",
   "metadata": {
    "execution": {
     "iopub.execute_input": "2023-06-06T18:02:56.584232Z",
     "iopub.status.busy": "2023-06-06T18:02:56.582808Z",
     "iopub.status.idle": "2023-06-06T18:02:56.589878Z",
     "shell.execute_reply": "2023-06-06T18:02:56.588442Z"
    },
    "papermill": {
     "duration": 0.056633,
     "end_time": "2023-06-06T18:02:56.592766",
     "exception": false,
     "start_time": "2023-06-06T18:02:56.536133",
     "status": "completed"
    },
    "tags": []
   },
   "outputs": [],
   "source": [
    "model_lr_1 = LogisticRegression(random_state=0)"
   ]
  },
  {
   "cell_type": "code",
   "execution_count": 81,
   "id": "76fcdb08",
   "metadata": {
    "execution": {
     "iopub.execute_input": "2023-06-06T18:02:56.683836Z",
     "iopub.status.busy": "2023-06-06T18:02:56.683085Z",
     "iopub.status.idle": "2023-06-06T18:02:56.784891Z",
     "shell.execute_reply": "2023-06-06T18:02:56.783035Z"
    },
    "papermill": {
     "duration": 0.154208,
     "end_time": "2023-06-06T18:02:56.791628",
     "exception": false,
     "start_time": "2023-06-06T18:02:56.637420",
     "status": "completed"
    },
    "tags": []
   },
   "outputs": [
    {
     "name": "stderr",
     "output_type": "stream",
     "text": [
      "/opt/conda/lib/python3.7/site-packages/sklearn/linear_model/_logistic.py:818: ConvergenceWarning: lbfgs failed to converge (status=1):\n",
      "STOP: TOTAL NO. of ITERATIONS REACHED LIMIT.\n",
      "\n",
      "Increase the number of iterations (max_iter) or scale the data as shown in:\n",
      "    https://scikit-learn.org/stable/modules/preprocessing.html\n",
      "Please also refer to the documentation for alternative solver options:\n",
      "    https://scikit-learn.org/stable/modules/linear_model.html#logistic-regression\n",
      "  extra_warning_msg=_LOGISTIC_SOLVER_CONVERGENCE_MSG,\n"
     ]
    },
    {
     "data": {
      "text/plain": [
       "LogisticRegression(random_state=0)"
      ]
     },
     "execution_count": 81,
     "metadata": {},
     "output_type": "execute_result"
    }
   ],
   "source": [
    "model_lr_1.fit(X_train,y_train)"
   ]
  },
  {
   "cell_type": "code",
   "execution_count": 82,
   "id": "1b7ad447",
   "metadata": {
    "execution": {
     "iopub.execute_input": "2023-06-06T18:02:56.937581Z",
     "iopub.status.busy": "2023-06-06T18:02:56.937074Z",
     "iopub.status.idle": "2023-06-06T18:02:56.946165Z",
     "shell.execute_reply": "2023-06-06T18:02:56.944662Z"
    },
    "papermill": {
     "duration": 0.058888,
     "end_time": "2023-06-06T18:02:56.949566",
     "exception": false,
     "start_time": "2023-06-06T18:02:56.890678",
     "status": "completed"
    },
    "tags": []
   },
   "outputs": [
    {
     "name": "stdout",
     "output_type": "stream",
     "text": [
      "Score for logistic regression - version 1 : 0.83\n"
     ]
    }
   ],
   "source": [
    "print('Score for logistic regression - version 1 : {0:.2f}'.format(model_lr_1.score(X_test, y_test)))"
   ]
  },
  {
   "cell_type": "code",
   "execution_count": 83,
   "id": "e9647733",
   "metadata": {
    "execution": {
     "iopub.execute_input": "2023-06-06T18:02:57.042424Z",
     "iopub.status.busy": "2023-06-06T18:02:57.041907Z",
     "iopub.status.idle": "2023-06-06T18:02:57.056899Z",
     "shell.execute_reply": "2023-06-06T18:02:57.055097Z"
    },
    "papermill": {
     "duration": 0.064425,
     "end_time": "2023-06-06T18:02:57.059639",
     "exception": false,
     "start_time": "2023-06-06T18:02:56.995214",
     "status": "completed"
    },
    "tags": []
   },
   "outputs": [
    {
     "name": "stdout",
     "output_type": "stream",
     "text": [
      "accuracy for logistic regression - version 1 : 0.83\n",
      "confusion matrix for logistic regression - version 1: \n",
      " [[95 15]\n",
      " [15 54]]\n",
      "precision for logistic regression - version 1 : 0.78\n",
      "recall for logistic regression - version 1 : 0.78\n"
     ]
    }
   ],
   "source": [
    "print('accuracy for logistic regression - version 1 : {0:.2f}'.format(accuracy_score(y_test, model_lr_1.predict(X_test))))\n",
    "print('confusion matrix for logistic regression - version 1: \\n {0}'.format(confusion_matrix(y_test, model_lr_1.predict(X_test))))\n",
    "print('precision for logistic regression - version 1 : {0:.2f}'.format(precision_score(y_test, model_lr_1.predict(X_test))))\n",
    "print('recall for logistic regression - version 1 : {0:.2f}'.format(recall_score(y_test, model_lr_1.predict(X_test))))"
   ]
  },
  {
   "cell_type": "code",
   "execution_count": 84,
   "id": "728a13ac",
   "metadata": {
    "execution": {
     "iopub.execute_input": "2023-06-06T18:02:57.149855Z",
     "iopub.status.busy": "2023-06-06T18:02:57.149394Z",
     "iopub.status.idle": "2023-06-06T18:02:57.157745Z",
     "shell.execute_reply": "2023-06-06T18:02:57.156364Z"
    },
    "papermill": {
     "duration": 0.057011,
     "end_time": "2023-06-06T18:02:57.160650",
     "exception": false,
     "start_time": "2023-06-06T18:02:57.103639",
     "status": "completed"
    },
    "tags": []
   },
   "outputs": [
    {
     "data": {
      "text/plain": [
       "array([[-0.02957733,  0.00414554, -0.48810279,  0.55879455, -0.76107308,\n",
       "         0.12134015, -0.0741763 , -0.35965092,  0.47362003,  1.01795535,\n",
       "         0.2648092 , -0.04875954, -0.36234008,  0.90663563,  0.49165752,\n",
       "        -0.36549527,  0.10805492,  1.0387368 ,  0.52131952, -1.49059191,\n",
       "         1.16449652, -0.10040372, -0.20881425,  0.11931311,  0.22344356,\n",
       "         0.26961452,  0.4204267 ,  0.44318062,  0.47305791,  0.11655936,\n",
       "         0.33831947,  0.69447842]])"
      ]
     },
     "execution_count": 84,
     "metadata": {},
     "output_type": "execute_result"
    }
   ],
   "source": [
    "model_lr_1.coef_"
   ]
  },
  {
   "cell_type": "code",
   "execution_count": 85,
   "id": "76f72a09",
   "metadata": {
    "execution": {
     "iopub.execute_input": "2023-06-06T18:02:57.252277Z",
     "iopub.status.busy": "2023-06-06T18:02:57.251785Z",
     "iopub.status.idle": "2023-06-06T18:02:57.264472Z",
     "shell.execute_reply": "2023-06-06T18:02:57.262284Z"
    },
    "papermill": {
     "duration": 0.066087,
     "end_time": "2023-06-06T18:02:57.271155",
     "exception": false,
     "start_time": "2023-06-06T18:02:57.205068",
     "status": "completed"
    },
    "tags": []
   },
   "outputs": [],
   "source": [
    "test_X = test_df.to_numpy().astype('float')\n",
    "predictions = model_lr_1.predict(test_X)\n"
   ]
  },
  {
   "cell_type": "code",
   "execution_count": 86,
   "id": "8f6d8525",
   "metadata": {
    "execution": {
     "iopub.execute_input": "2023-06-06T18:02:57.420128Z",
     "iopub.status.busy": "2023-06-06T18:02:57.419647Z",
     "iopub.status.idle": "2023-06-06T18:02:57.426497Z",
     "shell.execute_reply": "2023-06-06T18:02:57.425308Z"
    },
    "papermill": {
     "duration": 0.061232,
     "end_time": "2023-06-06T18:02:57.429236",
     "exception": false,
     "start_time": "2023-06-06T18:02:57.368004",
     "status": "completed"
    },
    "tags": []
   },
   "outputs": [],
   "source": [
    "df_submission = pd.DataFrame({\n",
    "    \"PassengerId\": test_df.index,\n",
    "    \"Survived\": predictions\n",
    "})"
   ]
  },
  {
   "cell_type": "code",
   "execution_count": 87,
   "id": "9f097387",
   "metadata": {
    "execution": {
     "iopub.execute_input": "2023-06-06T18:02:57.519998Z",
     "iopub.status.busy": "2023-06-06T18:02:57.519054Z",
     "iopub.status.idle": "2023-06-06T18:02:57.525680Z",
     "shell.execute_reply": "2023-06-06T18:02:57.524270Z"
    },
    "papermill": {
     "duration": 0.055409,
     "end_time": "2023-06-06T18:02:57.528740",
     "exception": false,
     "start_time": "2023-06-06T18:02:57.473331",
     "status": "completed"
    },
    "tags": []
   },
   "outputs": [],
   "source": [
    "import os\n",
    "\n",
    "processed_data_path = \"/kaggle/working/data/external\"\n",
    "os.makedirs(processed_data_path, exist_ok=True)"
   ]
  },
  {
   "cell_type": "code",
   "execution_count": 88,
   "id": "01307357",
   "metadata": {
    "execution": {
     "iopub.execute_input": "2023-06-06T18:02:57.623164Z",
     "iopub.status.busy": "2023-06-06T18:02:57.621879Z",
     "iopub.status.idle": "2023-06-06T18:02:57.630757Z",
     "shell.execute_reply": "2023-06-06T18:02:57.629667Z"
    },
    "papermill": {
     "duration": 0.059656,
     "end_time": "2023-06-06T18:02:57.634317",
     "exception": false,
     "start_time": "2023-06-06T18:02:57.574661",
     "status": "completed"
    },
    "tags": []
   },
   "outputs": [],
   "source": [
    "submission_path = os.path.join(processed_data_path, \"submission2.csv\")\n",
    "df_submission.to_csv(submission_path, index=False)"
   ]
  },
  {
   "cell_type": "code",
   "execution_count": 89,
   "id": "170cfa91",
   "metadata": {
    "execution": {
     "iopub.execute_input": "2023-06-06T18:02:57.730566Z",
     "iopub.status.busy": "2023-06-06T18:02:57.728900Z",
     "iopub.status.idle": "2023-06-06T18:02:57.736048Z",
     "shell.execute_reply": "2023-06-06T18:02:57.734960Z"
    },
    "papermill": {
     "duration": 0.057319,
     "end_time": "2023-06-06T18:02:57.738987",
     "exception": false,
     "start_time": "2023-06-06T18:02:57.681668",
     "status": "completed"
    },
    "tags": []
   },
   "outputs": [],
   "source": [
    "model_lr = LogisticRegression(random_state=0)\n",
    "from sklearn.model_selection import GridSearchCV"
   ]
  },
  {
   "cell_type": "code",
   "execution_count": 90,
   "id": "080b9382",
   "metadata": {
    "execution": {
     "iopub.execute_input": "2023-06-06T18:02:57.845253Z",
     "iopub.status.busy": "2023-06-06T18:02:57.843907Z",
     "iopub.status.idle": "2023-06-06T18:02:57.851156Z",
     "shell.execute_reply": "2023-06-06T18:02:57.849987Z"
    },
    "papermill": {
     "duration": 0.065771,
     "end_time": "2023-06-06T18:02:57.854919",
     "exception": false,
     "start_time": "2023-06-06T18:02:57.789148",
     "status": "completed"
    },
    "tags": []
   },
   "outputs": [],
   "source": [
    "parameters = {'C': [1.0, 10.0, 50.0, 100.0, 1000.0], 'penalty': ['l1', 'l2']}\n",
    "clf = GridSearchCV(model_lr, param_grid=parameters, cv=3)"
   ]
  },
  {
   "cell_type": "code",
   "execution_count": 91,
   "id": "f8b4b8d3",
   "metadata": {
    "execution": {
     "iopub.execute_input": "2023-06-06T18:02:57.950891Z",
     "iopub.status.busy": "2023-06-06T18:02:57.949997Z",
     "iopub.status.idle": "2023-06-06T18:02:59.110504Z",
     "shell.execute_reply": "2023-06-06T18:02:59.107217Z"
    },
    "papermill": {
     "duration": 1.211082,
     "end_time": "2023-06-06T18:02:59.115074",
     "exception": false,
     "start_time": "2023-06-06T18:02:57.903992",
     "status": "completed"
    },
    "tags": []
   },
   "outputs": [
    {
     "name": "stderr",
     "output_type": "stream",
     "text": [
      "/opt/conda/lib/python3.7/site-packages/sklearn/linear_model/_logistic.py:818: ConvergenceWarning: lbfgs failed to converge (status=1):\n",
      "STOP: TOTAL NO. of ITERATIONS REACHED LIMIT.\n",
      "\n",
      "Increase the number of iterations (max_iter) or scale the data as shown in:\n",
      "    https://scikit-learn.org/stable/modules/preprocessing.html\n",
      "Please also refer to the documentation for alternative solver options:\n",
      "    https://scikit-learn.org/stable/modules/linear_model.html#logistic-regression\n",
      "  extra_warning_msg=_LOGISTIC_SOLVER_CONVERGENCE_MSG,\n",
      "/opt/conda/lib/python3.7/site-packages/sklearn/linear_model/_logistic.py:818: ConvergenceWarning: lbfgs failed to converge (status=1):\n",
      "STOP: TOTAL NO. of ITERATIONS REACHED LIMIT.\n",
      "\n",
      "Increase the number of iterations (max_iter) or scale the data as shown in:\n",
      "    https://scikit-learn.org/stable/modules/preprocessing.html\n",
      "Please also refer to the documentation for alternative solver options:\n",
      "    https://scikit-learn.org/stable/modules/linear_model.html#logistic-regression\n",
      "  extra_warning_msg=_LOGISTIC_SOLVER_CONVERGENCE_MSG,\n",
      "/opt/conda/lib/python3.7/site-packages/sklearn/linear_model/_logistic.py:818: ConvergenceWarning: lbfgs failed to converge (status=1):\n",
      "STOP: TOTAL NO. of ITERATIONS REACHED LIMIT.\n",
      "\n",
      "Increase the number of iterations (max_iter) or scale the data as shown in:\n",
      "    https://scikit-learn.org/stable/modules/preprocessing.html\n",
      "Please also refer to the documentation for alternative solver options:\n",
      "    https://scikit-learn.org/stable/modules/linear_model.html#logistic-regression\n",
      "  extra_warning_msg=_LOGISTIC_SOLVER_CONVERGENCE_MSG,\n",
      "/opt/conda/lib/python3.7/site-packages/sklearn/linear_model/_logistic.py:818: ConvergenceWarning: lbfgs failed to converge (status=1):\n",
      "STOP: TOTAL NO. of ITERATIONS REACHED LIMIT.\n",
      "\n",
      "Increase the number of iterations (max_iter) or scale the data as shown in:\n",
      "    https://scikit-learn.org/stable/modules/preprocessing.html\n",
      "Please also refer to the documentation for alternative solver options:\n",
      "    https://scikit-learn.org/stable/modules/linear_model.html#logistic-regression\n",
      "  extra_warning_msg=_LOGISTIC_SOLVER_CONVERGENCE_MSG,\n",
      "/opt/conda/lib/python3.7/site-packages/sklearn/linear_model/_logistic.py:818: ConvergenceWarning: lbfgs failed to converge (status=1):\n",
      "STOP: TOTAL NO. of ITERATIONS REACHED LIMIT.\n",
      "\n",
      "Increase the number of iterations (max_iter) or scale the data as shown in:\n",
      "    https://scikit-learn.org/stable/modules/preprocessing.html\n",
      "Please also refer to the documentation for alternative solver options:\n",
      "    https://scikit-learn.org/stable/modules/linear_model.html#logistic-regression\n",
      "  extra_warning_msg=_LOGISTIC_SOLVER_CONVERGENCE_MSG,\n",
      "/opt/conda/lib/python3.7/site-packages/sklearn/linear_model/_logistic.py:818: ConvergenceWarning: lbfgs failed to converge (status=1):\n",
      "STOP: TOTAL NO. of ITERATIONS REACHED LIMIT.\n",
      "\n",
      "Increase the number of iterations (max_iter) or scale the data as shown in:\n",
      "    https://scikit-learn.org/stable/modules/preprocessing.html\n",
      "Please also refer to the documentation for alternative solver options:\n",
      "    https://scikit-learn.org/stable/modules/linear_model.html#logistic-regression\n",
      "  extra_warning_msg=_LOGISTIC_SOLVER_CONVERGENCE_MSG,\n",
      "/opt/conda/lib/python3.7/site-packages/sklearn/linear_model/_logistic.py:818: ConvergenceWarning: lbfgs failed to converge (status=1):\n",
      "STOP: TOTAL NO. of ITERATIONS REACHED LIMIT.\n",
      "\n",
      "Increase the number of iterations (max_iter) or scale the data as shown in:\n",
      "    https://scikit-learn.org/stable/modules/preprocessing.html\n",
      "Please also refer to the documentation for alternative solver options:\n",
      "    https://scikit-learn.org/stable/modules/linear_model.html#logistic-regression\n",
      "  extra_warning_msg=_LOGISTIC_SOLVER_CONVERGENCE_MSG,\n",
      "/opt/conda/lib/python3.7/site-packages/sklearn/linear_model/_logistic.py:818: ConvergenceWarning: lbfgs failed to converge (status=1):\n",
      "STOP: TOTAL NO. of ITERATIONS REACHED LIMIT.\n",
      "\n",
      "Increase the number of iterations (max_iter) or scale the data as shown in:\n",
      "    https://scikit-learn.org/stable/modules/preprocessing.html\n",
      "Please also refer to the documentation for alternative solver options:\n",
      "    https://scikit-learn.org/stable/modules/linear_model.html#logistic-regression\n",
      "  extra_warning_msg=_LOGISTIC_SOLVER_CONVERGENCE_MSG,\n",
      "/opt/conda/lib/python3.7/site-packages/sklearn/linear_model/_logistic.py:818: ConvergenceWarning: lbfgs failed to converge (status=1):\n",
      "STOP: TOTAL NO. of ITERATIONS REACHED LIMIT.\n",
      "\n",
      "Increase the number of iterations (max_iter) or scale the data as shown in:\n",
      "    https://scikit-learn.org/stable/modules/preprocessing.html\n",
      "Please also refer to the documentation for alternative solver options:\n",
      "    https://scikit-learn.org/stable/modules/linear_model.html#logistic-regression\n",
      "  extra_warning_msg=_LOGISTIC_SOLVER_CONVERGENCE_MSG,\n",
      "/opt/conda/lib/python3.7/site-packages/sklearn/linear_model/_logistic.py:818: ConvergenceWarning: lbfgs failed to converge (status=1):\n",
      "STOP: TOTAL NO. of ITERATIONS REACHED LIMIT.\n",
      "\n",
      "Increase the number of iterations (max_iter) or scale the data as shown in:\n",
      "    https://scikit-learn.org/stable/modules/preprocessing.html\n",
      "Please also refer to the documentation for alternative solver options:\n",
      "    https://scikit-learn.org/stable/modules/linear_model.html#logistic-regression\n",
      "  extra_warning_msg=_LOGISTIC_SOLVER_CONVERGENCE_MSG,\n",
      "/opt/conda/lib/python3.7/site-packages/sklearn/linear_model/_logistic.py:818: ConvergenceWarning: lbfgs failed to converge (status=1):\n",
      "STOP: TOTAL NO. of ITERATIONS REACHED LIMIT.\n",
      "\n",
      "Increase the number of iterations (max_iter) or scale the data as shown in:\n",
      "    https://scikit-learn.org/stable/modules/preprocessing.html\n",
      "Please also refer to the documentation for alternative solver options:\n",
      "    https://scikit-learn.org/stable/modules/linear_model.html#logistic-regression\n",
      "  extra_warning_msg=_LOGISTIC_SOLVER_CONVERGENCE_MSG,\n",
      "/opt/conda/lib/python3.7/site-packages/sklearn/linear_model/_logistic.py:818: ConvergenceWarning: lbfgs failed to converge (status=1):\n",
      "STOP: TOTAL NO. of ITERATIONS REACHED LIMIT.\n",
      "\n",
      "Increase the number of iterations (max_iter) or scale the data as shown in:\n",
      "    https://scikit-learn.org/stable/modules/preprocessing.html\n",
      "Please also refer to the documentation for alternative solver options:\n",
      "    https://scikit-learn.org/stable/modules/linear_model.html#logistic-regression\n",
      "  extra_warning_msg=_LOGISTIC_SOLVER_CONVERGENCE_MSG,\n",
      "/opt/conda/lib/python3.7/site-packages/sklearn/linear_model/_logistic.py:818: ConvergenceWarning: lbfgs failed to converge (status=1):\n",
      "STOP: TOTAL NO. of ITERATIONS REACHED LIMIT.\n",
      "\n",
      "Increase the number of iterations (max_iter) or scale the data as shown in:\n",
      "    https://scikit-learn.org/stable/modules/preprocessing.html\n",
      "Please also refer to the documentation for alternative solver options:\n",
      "    https://scikit-learn.org/stable/modules/linear_model.html#logistic-regression\n",
      "  extra_warning_msg=_LOGISTIC_SOLVER_CONVERGENCE_MSG,\n",
      "/opt/conda/lib/python3.7/site-packages/sklearn/linear_model/_logistic.py:818: ConvergenceWarning: lbfgs failed to converge (status=1):\n",
      "STOP: TOTAL NO. of ITERATIONS REACHED LIMIT.\n",
      "\n",
      "Increase the number of iterations (max_iter) or scale the data as shown in:\n",
      "    https://scikit-learn.org/stable/modules/preprocessing.html\n",
      "Please also refer to the documentation for alternative solver options:\n",
      "    https://scikit-learn.org/stable/modules/linear_model.html#logistic-regression\n",
      "  extra_warning_msg=_LOGISTIC_SOLVER_CONVERGENCE_MSG,\n",
      "/opt/conda/lib/python3.7/site-packages/sklearn/linear_model/_logistic.py:818: ConvergenceWarning: lbfgs failed to converge (status=1):\n",
      "STOP: TOTAL NO. of ITERATIONS REACHED LIMIT.\n",
      "\n",
      "Increase the number of iterations (max_iter) or scale the data as shown in:\n",
      "    https://scikit-learn.org/stable/modules/preprocessing.html\n",
      "Please also refer to the documentation for alternative solver options:\n",
      "    https://scikit-learn.org/stable/modules/linear_model.html#logistic-regression\n",
      "  extra_warning_msg=_LOGISTIC_SOLVER_CONVERGENCE_MSG,\n",
      "/opt/conda/lib/python3.7/site-packages/sklearn/model_selection/_validation.py:372: FitFailedWarning: \n",
      "15 fits failed out of a total of 30.\n",
      "The score on these train-test partitions for these parameters will be set to nan.\n",
      "If these failures are not expected, you can try to debug them by setting error_score='raise'.\n",
      "\n",
      "Below are more details about the failures:\n",
      "--------------------------------------------------------------------------------\n",
      "15 fits failed with the following error:\n",
      "Traceback (most recent call last):\n",
      "  File \"/opt/conda/lib/python3.7/site-packages/sklearn/model_selection/_validation.py\", line 680, in _fit_and_score\n",
      "    estimator.fit(X_train, y_train, **fit_params)\n",
      "  File \"/opt/conda/lib/python3.7/site-packages/sklearn/linear_model/_logistic.py\", line 1461, in fit\n",
      "    solver = _check_solver(self.solver, self.penalty, self.dual)\n",
      "  File \"/opt/conda/lib/python3.7/site-packages/sklearn/linear_model/_logistic.py\", line 449, in _check_solver\n",
      "    % (solver, penalty)\n",
      "ValueError: Solver lbfgs supports only 'l2' or 'none' penalties, got l1 penalty.\n",
      "\n",
      "  warnings.warn(some_fits_failed_message, FitFailedWarning)\n",
      "/opt/conda/lib/python3.7/site-packages/sklearn/model_selection/_search.py:972: UserWarning: One or more of the test scores are non-finite: [       nan 0.82446903        nan 0.82727606        nan 0.81462374\n",
      "        nan 0.82446903        nan 0.82024962]\n",
      "  category=UserWarning,\n",
      "/opt/conda/lib/python3.7/site-packages/sklearn/linear_model/_logistic.py:818: ConvergenceWarning: lbfgs failed to converge (status=1):\n",
      "STOP: TOTAL NO. of ITERATIONS REACHED LIMIT.\n",
      "\n",
      "Increase the number of iterations (max_iter) or scale the data as shown in:\n",
      "    https://scikit-learn.org/stable/modules/preprocessing.html\n",
      "Please also refer to the documentation for alternative solver options:\n",
      "    https://scikit-learn.org/stable/modules/linear_model.html#logistic-regression\n",
      "  extra_warning_msg=_LOGISTIC_SOLVER_CONVERGENCE_MSG,\n"
     ]
    },
    {
     "data": {
      "text/plain": [
       "GridSearchCV(cv=3, estimator=LogisticRegression(random_state=0),\n",
       "             param_grid={'C': [1.0, 10.0, 50.0, 100.0, 1000.0],\n",
       "                         'penalty': ['l1', 'l2']})"
      ]
     },
     "execution_count": 91,
     "metadata": {},
     "output_type": "execute_result"
    }
   ],
   "source": [
    "clf.fit(X_train, y_train)"
   ]
  },
  {
   "cell_type": "code",
   "execution_count": 92,
   "id": "e61534d4",
   "metadata": {
    "execution": {
     "iopub.execute_input": "2023-06-06T18:02:59.264033Z",
     "iopub.status.busy": "2023-06-06T18:02:59.263492Z",
     "iopub.status.idle": "2023-06-06T18:02:59.272898Z",
     "shell.execute_reply": "2023-06-06T18:02:59.271109Z"
    },
    "papermill": {
     "duration": 0.062461,
     "end_time": "2023-06-06T18:02:59.276039",
     "exception": false,
     "start_time": "2023-06-06T18:02:59.213578",
     "status": "completed"
    },
    "tags": []
   },
   "outputs": [
    {
     "data": {
      "text/plain": [
       "{'C': 10.0, 'penalty': 'l2'}"
      ]
     },
     "execution_count": 92,
     "metadata": {},
     "output_type": "execute_result"
    }
   ],
   "source": [
    "clf.best_params_"
   ]
  },
  {
   "cell_type": "code",
   "execution_count": 93,
   "id": "60bbf469",
   "metadata": {
    "execution": {
     "iopub.execute_input": "2023-06-06T18:02:59.368894Z",
     "iopub.status.busy": "2023-06-06T18:02:59.368454Z",
     "iopub.status.idle": "2023-06-06T18:02:59.375756Z",
     "shell.execute_reply": "2023-06-06T18:02:59.374243Z"
    },
    "papermill": {
     "duration": 0.057079,
     "end_time": "2023-06-06T18:02:59.378622",
     "exception": false,
     "start_time": "2023-06-06T18:02:59.321543",
     "status": "completed"
    },
    "tags": []
   },
   "outputs": [
    {
     "name": "stdout",
     "output_type": "stream",
     "text": [
      "best score : 0.83\n"
     ]
    }
   ],
   "source": [
    "print('best score : {0:.2f}'.format(clf.best_score_))"
   ]
  },
  {
   "cell_type": "code",
   "execution_count": 94,
   "id": "7a694587",
   "metadata": {
    "execution": {
     "iopub.execute_input": "2023-06-06T18:02:59.471064Z",
     "iopub.status.busy": "2023-06-06T18:02:59.470574Z",
     "iopub.status.idle": "2023-06-06T18:02:59.478820Z",
     "shell.execute_reply": "2023-06-06T18:02:59.477637Z"
    },
    "papermill": {
     "duration": 0.057967,
     "end_time": "2023-06-06T18:02:59.481893",
     "exception": false,
     "start_time": "2023-06-06T18:02:59.423926",
     "status": "completed"
    },
    "tags": []
   },
   "outputs": [
    {
     "name": "stdout",
     "output_type": "stream",
     "text": [
      "score for logistic regression - version 2 : 0.84\n"
     ]
    }
   ],
   "source": [
    "print('score for logistic regression - version 2 : {0:.2f}'.format(clf.score(X_test, y_test)))"
   ]
  },
  {
   "cell_type": "code",
   "execution_count": 95,
   "id": "570288b9",
   "metadata": {
    "execution": {
     "iopub.execute_input": "2023-06-06T18:02:59.575447Z",
     "iopub.status.busy": "2023-06-06T18:02:59.575014Z",
     "iopub.status.idle": "2023-06-06T18:02:59.585856Z",
     "shell.execute_reply": "2023-06-06T18:02:59.584473Z"
    },
    "papermill": {
     "duration": 0.061885,
     "end_time": "2023-06-06T18:02:59.589985",
     "exception": false,
     "start_time": "2023-06-06T18:02:59.528100",
     "status": "completed"
    },
    "tags": []
   },
   "outputs": [],
   "source": [
    "test_X = test_df.to_numpy().astype('float')\n",
    "predictions = clf.predict(test_X)"
   ]
  },
  {
   "cell_type": "code",
   "execution_count": 96,
   "id": "716531cf",
   "metadata": {
    "execution": {
     "iopub.execute_input": "2023-06-06T18:02:59.744768Z",
     "iopub.status.busy": "2023-06-06T18:02:59.744303Z",
     "iopub.status.idle": "2023-06-06T18:02:59.752034Z",
     "shell.execute_reply": "2023-06-06T18:02:59.750286Z"
    },
    "papermill": {
     "duration": 0.066245,
     "end_time": "2023-06-06T18:02:59.754872",
     "exception": false,
     "start_time": "2023-06-06T18:02:59.688627",
     "status": "completed"
    },
    "tags": []
   },
   "outputs": [],
   "source": [
    "df_submission = pd.DataFrame({\n",
    "    \"PassengerId\": test_df.index,\n",
    "    \"Survived\": predictions\n",
    "})"
   ]
  },
  {
   "cell_type": "code",
   "execution_count": 97,
   "id": "35f85dd4",
   "metadata": {
    "execution": {
     "iopub.execute_input": "2023-06-06T18:02:59.850921Z",
     "iopub.status.busy": "2023-06-06T18:02:59.849526Z",
     "iopub.status.idle": "2023-06-06T18:02:59.856496Z",
     "shell.execute_reply": "2023-06-06T18:02:59.855404Z"
    },
    "papermill": {
     "duration": 0.056651,
     "end_time": "2023-06-06T18:02:59.859234",
     "exception": false,
     "start_time": "2023-06-06T18:02:59.802583",
     "status": "completed"
    },
    "tags": []
   },
   "outputs": [],
   "source": [
    "import os\n",
    "\n",
    "processed_data_path = \"/kaggle/working/data/external\"\n",
    "os.makedirs(processed_data_path, exist_ok=True)"
   ]
  },
  {
   "cell_type": "code",
   "execution_count": 98,
   "id": "9c9535a0",
   "metadata": {
    "execution": {
     "iopub.execute_input": "2023-06-06T18:02:59.952923Z",
     "iopub.status.busy": "2023-06-06T18:02:59.952090Z",
     "iopub.status.idle": "2023-06-06T18:02:59.959818Z",
     "shell.execute_reply": "2023-06-06T18:02:59.958398Z"
    },
    "papermill": {
     "duration": 0.057829,
     "end_time": "2023-06-06T18:02:59.962920",
     "exception": false,
     "start_time": "2023-06-06T18:02:59.905091",
     "status": "completed"
    },
    "tags": []
   },
   "outputs": [],
   "source": [
    "submission_path = os.path.join(processed_data_path, \"submission3.csv\")\n",
    "df_submission.to_csv(submission_path, index=False)"
   ]
  },
  {
   "cell_type": "code",
   "execution_count": null,
   "id": "5feeda6f",
   "metadata": {
    "papermill": {
     "duration": 0.045008,
     "end_time": "2023-06-06T18:03:00.054589",
     "exception": false,
     "start_time": "2023-06-06T18:03:00.009581",
     "status": "completed"
    },
    "tags": []
   },
   "outputs": [],
   "source": []
  }
 ],
 "metadata": {
  "kernelspec": {
   "display_name": "Python 3",
   "language": "python",
   "name": "python3"
  },
  "language_info": {
   "codemirror_mode": {
    "name": "ipython",
    "version": 3
   },
   "file_extension": ".py",
   "mimetype": "text/x-python",
   "name": "python",
   "nbconvert_exporter": "python",
   "pygments_lexer": "ipython3",
   "version": "3.7.12"
  },
  "papermill": {
   "default_parameters": {},
   "duration": 30.984831,
   "end_time": "2023-06-06T18:03:00.925691",
   "environment_variables": {},
   "exception": null,
   "input_path": "__notebook__.ipynb",
   "output_path": "__notebook__.ipynb",
   "parameters": {},
   "start_time": "2023-06-06T18:02:29.940860",
   "version": "2.4.0"
  }
 },
 "nbformat": 4,
 "nbformat_minor": 5
}
